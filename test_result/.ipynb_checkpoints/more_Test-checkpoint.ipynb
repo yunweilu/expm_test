{
 "cells": [
  {
   "cell_type": "code",
   "execution_count": 10,
   "metadata": {},
   "outputs": [],
   "source": [
    "import numpy as np\n",
    "from matplotlib.lines import Line2D\n",
    "from expm_mul import expm_multiply\n",
    "from scipy.sparse.linalg import eigs,norm\n",
    "from scipy.special import factorial\n",
    "import matplotlib.pyplot as plt\n",
    "from fractions import Fraction\n",
    "from scipy.sparse import csr_matrix,isspmatrix,bmat\n",
    "import scipy as sci\n",
    "from qutip import qload\n",
    "def get_creation_operator(size,tp):\n",
    "    return np.diag(np.sqrt(np.arange(1, size),dtype=tp), k=-1)\n",
    "def get_annihilation_operator(size,tp):\n",
    "    return np.diag(np.sqrt(np.arange(1, size),dtype=tp), k=1)\n",
    "def _expm_multiply_simple_core_global(A, B, tol=None):\n",
    "    \"\"\"\n",
    "    A helper function.\n",
    "    \"\"\"\n",
    "    if tol is None:\n",
    "        tol =1e-16\n",
    "    s=100\n",
    "    F = B\n",
    "\n",
    "    c1 = _exact_1_norm(B)\n",
    "    j=0\n",
    "    while(1):\n",
    "        coeff = s*(j+1)\n",
    "        B =  A.dot(B)/coeff\n",
    "        c2 = _exact_1_norm(B)\n",
    "        F = F + B\n",
    "        total_norm=norm_state(F)\n",
    "        if (c1+c2)<tol*total_norm:\n",
    "            m=j+1\n",
    "            break\n",
    "        c1 = c2\n",
    "        j=j+1\n",
    "    F =  F\n",
    "    B = F\n",
    "    for i in range(1,int(s)):\n",
    "        c1=c2\n",
    "        for j in range(m):\n",
    "            coeff = s*(j+1)\n",
    "            B =  A.dot(B)/coeff\n",
    "            F = F + B\n",
    "        F =  F\n",
    "        B = F\n",
    "    return F, s\n",
    "def get_s(A,b,tol):\n",
    "    s=1\n",
    "    if A.dtype==np.complex256:\n",
    "        s=np.ceil(_exact_1_norm(A))\n",
    "    else:\n",
    "        while(1):\n",
    "            norm_A = _exact_inf_norm(A)/s\n",
    "            max_term_notation=np.floor(norm_A)\n",
    "            max_term=1\n",
    "            for i in range(1,np.int(max_term_notation)):\n",
    "                max_term=max_term*norm_A/i\n",
    "                if max_term >= 10**16:\n",
    "                    break\n",
    "            if 10**-16 * max_term <= tol:\n",
    "                break\n",
    "            s=s+1\n",
    "    return s\n",
    "def _exact_1_norm(A):\n",
    "    # A compatibility function which should eventually disappear.\n",
    "    if sci.sparse.isspmatrix(A):\n",
    "        return max(abs(A).sum(axis=0).flat)\n",
    "    else:\n",
    "        return np.linalg.norm(A, 1)\n",
    "def _expm_multiply(A, B, tol=None):\n",
    "    \"\"\"\n",
    "    A helper function.\n",
    "    \"\"\"\n",
    "    if tol is None:\n",
    "        tol =1e-16\n",
    "    s=1\n",
    "    F = B\n",
    "\n",
    "    c1 = _exact_1_norm(B)\n",
    "    j=0\n",
    "    max_mag = c1\n",
    "    while(1):\n",
    "        coeff = s*(j+1)\n",
    "        B =  A.dot(B)/coeff\n",
    "        c2 = _exact_1_norm(B)\n",
    "        if c2 > max_mag:\n",
    "            max_mag = c2\n",
    "        F = F + B\n",
    "        total_norm=norm_state(F)\n",
    "        if (c1+c2)<tol*total_norm:\n",
    "            m=j+1\n",
    "            break\n",
    "        c1 = c2\n",
    "        j=j+1\n",
    "    F =  F\n",
    "    B = F\n",
    "    for i in range(1,int(s)):\n",
    "        c1=c2\n",
    "        for j in range(m):\n",
    "            coeff = s*(j+1)\n",
    "            B =  A.dot(B)/coeff\n",
    "            F = F + B\n",
    "        F =  F\n",
    "        B = F\n",
    "    return F, max_mag\n",
    "def overnorm(A):\n",
    "    if A.dtype==np.complex256:\n",
    "        return _exact_inf_norm(A)\n",
    "    else:\n",
    "        return norm_two(A)\n",
    "def _exact_inf_norm(A):\n",
    "    # A compatibility function which should eventually disappear.\n",
    "    if sci.sparse.isspmatrix(A):\n",
    "        return max(abs(A).sum(axis=1).flat)\n",
    "    else:\n",
    "        return np.linalg.norm(A, np.inf)\n",
    "def norm_two(A):\n",
    "    if sci.sparse.isspmatrix(A):\n",
    "        A=csr_matrix(A).conjugate().transpose()\n",
    "        return np.sqrt(abs(eigs(A=A.dot(A),k=1,which='LM',return_eigenvectors=False)[0]))\n",
    "    else:\n",
    "        return np.linalg.norm(A)\n",
    "def norm_state(A):\n",
    "    return np.linalg.norm(A)\n",
    "def block_fre(A,E):\n",
    "    if isspmatrix(A) is False:\n",
    "        A = np.block([[A, E], [np.zeros_like(A), A]])\n",
    "    else:\n",
    "        A = bmat([[A, E], [None, A]]).tocsc()\n",
    "    return A\n",
    "def difference(A,B):\n",
    "    return overnorm(A-B)/overnorm(A)\n",
    "def get_H(dim,tp):\n",
    "    HILBERT_SIZE=dim\n",
    "    Q_dim=6\n",
    "    g=0.1*2*np.pi\n",
    "    anharmonicity =-0.225\n",
    "    a_dag = get_creation_operator(HILBERT_SIZE,tp)\n",
    "    a = get_annihilation_operator(HILBERT_SIZE,tp)\n",
    "    b_dag=get_creation_operator(Q_dim,tp)\n",
    "    b=get_annihilation_operator(Q_dim,tp)\n",
    "    A=np.kron(a,np.identity(Q_dim))\n",
    "    A_dag=np.kron(a_dag,np.identity(Q_dim))\n",
    "    B=np.kron(np.identity(HILBERT_SIZE),b)\n",
    "    B_dag=np.kron(np.identity(HILBERT_SIZE),b_dag)\n",
    "    H_trans = 1 / 2 * anharmonicity * np.dot(np.dot(b_dag, b),np.dot(b_dag,b)-np.identity(Q_dim))\n",
    "    H0=g*(np.kron(a_dag,b)+np.kron(a,b_dag))+np.kron(np.identity(HILBERT_SIZE),H_trans)\n",
    "    H=csr_matrix(-1j*(H0+0.5*2*np.pi*(np.dot(B_dag,B)+B+B_dag+1j*(B-B_dag))))\n",
    "    vec=1/np.sqrt(HILBERT_SIZE*Q_dim)*np.ones(HILBERT_SIZE*Q_dim)\n",
    "    return H,vec\n",
    "def get_auxiliary(dim,tp,t):\n",
    "    HILBERT_SIZE=dim\n",
    "    Q_dim=6\n",
    "    g=0.1*2*np.pi\n",
    "    anharmonicity =-0.225\n",
    "    a_dag = get_creation_operator(HILBERT_SIZE,tp)\n",
    "    a = get_annihilation_operator(HILBERT_SIZE,tp)\n",
    "    b_dag=get_creation_operator(Q_dim,tp)\n",
    "    b=get_annihilation_operator(Q_dim,tp)\n",
    "    A=np.kron(a,np.identity(Q_dim))\n",
    "    A_dag=np.kron(a_dag,np.identity(Q_dim))\n",
    "    B=np.kron(np.identity(HILBERT_SIZE),b)\n",
    "    B_dag=np.kron(np.identity(HILBERT_SIZE),b_dag)\n",
    "    H_trans = 1 / 2 * anharmonicity * np.dot(np.dot(b_dag, b),np.dot(b_dag,b)-np.identity(Q_dim))\n",
    "    H0=g*(np.kron(a_dag,b)+np.kron(a,b_dag))+np.kron(np.identity(HILBERT_SIZE),H_trans)\n",
    "    H=csr_matrix(-1j*(H0+0.5*2*np.pi*(np.dot(B_dag,B)+B+B_dag+1j*(B-B_dag))))\n",
    "    vec=1/np.sqrt(HILBERT_SIZE*Q_dim)*np.ones(2*HILBERT_SIZE*Q_dim)\n",
    "    vec[0:HILBERT_SIZE*Q_dim]=0\n",
    "    A=block_fre(t*H,-1j*(B+B_dag))\n",
    "    return A,vec\n",
    "def get_norm(ts):\n",
    "    tp=np.float64()\n",
    "    anorm=[]\n",
    "    for i in range(len(ts)):\n",
    "        HILBERT_SIZE=20\n",
    "        Q_dim=6\n",
    "        g=0.1*2*np.pi\n",
    "        anharmonicity =-0.225\n",
    "        a_dag = get_creation_operator(HILBERT_SIZE,tp)\n",
    "        a = get_annihilation_operator(HILBERT_SIZE,tp)\n",
    "        b_dag=get_creation_operator(Q_dim,tp)\n",
    "        b=get_annihilation_operator(Q_dim,tp)\n",
    "        A=np.kron(a,np.identity(Q_dim))\n",
    "        A_dag=np.kron(a_dag,np.identity(Q_dim))\n",
    "        B=np.kron(np.identity(HILBERT_SIZE),b)\n",
    "        B_dag=np.kron(np.identity(HILBERT_SIZE),b_dag)\n",
    "        H_trans = 1 / 2 * anharmonicity * np.dot(np.dot(b_dag, b),np.dot(b_dag,b)-np.identity(Q_dim))\n",
    "        H0=g*(np.kron(a_dag,b)+np.kron(a,b_dag))+np.kron(np.identity(HILBERT_SIZE),H_trans)\n",
    "        H=ts[i]*csr_matrix(-1j*(H0+0.5*2*np.pi*(np.dot(B_dag,B)+B+B_dag+1j*(B-B_dag))))\n",
    "        anorm.append(norm_two(H))\n",
    "    return anorm\n",
    "def get_norm_der(ts):\n",
    "    tp=np.float64()\n",
    "    anorm=[]\n",
    "    for i in range(len(ts)):\n",
    "        HILBERT_SIZE=20\n",
    "        Q_dim=6\n",
    "        g=0.1*2*np.pi\n",
    "        anharmonicity =-0.225\n",
    "        a_dag = get_creation_operator(HILBERT_SIZE,tp)\n",
    "        a = get_annihilation_operator(HILBERT_SIZE,tp)\n",
    "        b_dag=get_creation_operator(Q_dim,tp)\n",
    "        b=get_annihilation_operator(Q_dim,tp)\n",
    "        A=np.kron(a,np.identity(Q_dim))\n",
    "        A_dag=np.kron(a_dag,np.identity(Q_dim))\n",
    "        B=np.kron(np.identity(HILBERT_SIZE),b)\n",
    "        B_dag=np.kron(np.identity(HILBERT_SIZE),b_dag)\n",
    "        H_trans = 1 / 2 * anharmonicity * np.dot(np.dot(b_dag, b),np.dot(b_dag,b)-np.identity(Q_dim))\n",
    "        H0=g*(np.kron(a_dag,b)+np.kron(a,b_dag))+np.kron(np.identity(HILBERT_SIZE),H_trans)\n",
    "        H=csr_matrix(-1j*(H0+0.5*2*np.pi*(np.dot(B_dag,B)+B+B_dag+1j*(B-B_dag))))\n",
    "        A=ts[i]*block_fre(H,-1j*(A+A_dag))\n",
    "        anorm.append(norm_two(A))\n",
    "    return anorm"
   ]
  },
  {
   "cell_type": "code",
   "execution_count": 2,
   "metadata": {},
   "outputs": [
    {
     "name": "stdout",
     "output_type": "stream",
     "text": [
      "Loaded list object.\n"
     ]
    }
   ],
   "source": [
    "reference = qload('refer')[0]\n",
    "theta_m=np.array([[8.70950435e-01, 2.48853043e+00, 4.02062662e+00, 5.51075280e+00,\n",
    "        6.97775212e+00, 8.43027209e+00, 9.87290220e+00, 1.13089234e+01,\n",
    "        1.27393366e+01, 1.41653119e+01, 1.55887688e+01],\n",
    "       [1.79283319e-01, 1.30547755e+00, 2.68990434e+00, 4.11674468e+00,\n",
    "        5.55078449e+00, 6.98409736e+00, 8.41474411e+00, 9.84240944e+00,\n",
    "        1.12672525e+01, 1.26895571e+01, 1.41096178e+01],\n",
    "       [0.13,1, 2.2, 3.6,\n",
    "        4.9, 6.3, 7.7, 9.1,\n",
    "        11, 12, 1.3],\n",
    "       [5.87845778e-03, 3.11153531e-01, 1.11496247e+00, 2.19235380e+00,\n",
    "        3.40348589e+00, 4.68492721e+00, 6.00642014e+00, 7.35228229e+00,\n",
    "        8.71376145e+00, 1.00856663e+01, 1.14647607e+01],\n",
    "        [0.003307471010225917,0.24259255239783006,0.9560279579613657,1.9645322216064995,3.1267463661459876,4.372820117778894,5.667919829026178,6.993478543263042,8.338922480962493,9.697877908033124,11.066316441049558 ],\n",
    "       [2.3e-03, 0.14, 0.64, 1.4,\n",
    "        2.4, 3.5, 4.7, 6,\n",
    "        7.2, 8.5, 9.9]])\n",
    "theta_mm=[]\n",
    "for j,_theta in enumerate(theta_m):\n",
    "    a={5:0,10:0,15:0,20:0,25:0,30:0,35:0,40:0,45:0,50:0,55:0}\n",
    "    for i, theta in enumerate(_theta):\n",
    "        a[5*(i+1)] = theta\n",
    "    theta_mm.append(a)"
   ]
  },
  {
   "cell_type": "code",
   "execution_count": 3,
   "metadata": {},
   "outputs": [],
   "source": [
    "dim=6\n",
    "ts = np.linspace(0.1,2,100)\n",
    "new_error1=np.zeros((len(ts)))\n",
    "max_mag=np.zeros((len(ts)))\n",
    "ref = reference['state_propagator']\n",
    "for i, t in enumerate(ts):\n",
    "    H,vec=get_H(dim,np.float64)\n",
    "    H_st,vec=get_H(dim,np.float128)\n",
    "    sas_st,x = expm_multiply(t*H, vec, theta_mm[j],1e-16)\n",
    "    sas,max_mag[i]=_expm_multiply_simple_core_global(t*H, vec,1e-16)\n",
    "    new_error1[i]=(norm_two(sas-sas_st)/norm_two(sas_st))"
   ]
  },
  {
   "cell_type": "code",
   "execution_count": 5,
   "metadata": {},
   "outputs": [
    {
     "data": {
      "text/plain": [
       "array([100., 100., 100., 100., 100., 100., 100., 100., 100., 100., 100.,\n",
       "       100., 100., 100., 100., 100., 100., 100., 100., 100., 100., 100.,\n",
       "       100., 100., 100., 100., 100., 100., 100., 100., 100., 100., 100.,\n",
       "       100., 100., 100., 100., 100., 100., 100., 100., 100., 100., 100.,\n",
       "       100., 100., 100., 100., 100., 100., 100., 100., 100., 100., 100.,\n",
       "       100., 100., 100., 100., 100., 100., 100., 100., 100., 100., 100.,\n",
       "       100., 100., 100., 100., 100., 100., 100., 100., 100., 100., 100.,\n",
       "       100., 100., 100., 100., 100., 100., 100., 100., 100., 100., 100.,\n",
       "       100., 100., 100., 100., 100., 100., 100., 100., 100., 100., 100.,\n",
       "       100.])"
      ]
     },
     "execution_count": 5,
     "metadata": {},
     "output_type": "execute_result"
    }
   ],
   "source": [
    "max_mag"
   ]
  },
  {
   "cell_type": "code",
   "execution_count": 4,
   "metadata": {},
   "outputs": [
    {
     "data": {
      "image/png": "[encoded data removed]",
      "text/plain": [
       "<Figure size 432x288 with 1 Axes>"
      ]
     },
     "metadata": {
      "needs_background": "light"
     },
     "output_type": "display_data"
    }
   ],
   "source": [
    "import matplotlib.pyplot as plt\n",
    "fig,ax = plt.subplots()\n",
    "ax.plot(1e-16*max_mag,new_error1)\n",
    "ax.plot(1e-16*max_mag,1e-16*max_mag)\n",
    "ax.set_yscale('log')\n",
    "ax.set_xscale('log')"
   ]
  },
  {
   "cell_type": "code",
   "execution_count": 35,
   "metadata": {},
   "outputs": [],
   "source": [
    "import scipy.sparse as sp\n",
    "from scipy import stats\n",
    "def dagger(A):\n",
    "    A = sp.csr_matrix.transpose(A)\n",
    "    return sp.csr_matrix.conjugate(A)\n",
    "def randomH(sparsity):\n",
    "    scale=1\n",
    "    rvs = stats.norm(loc=1,scale=scale).rvs\n",
    "    dim=2000\n",
    "    A = sp.random(dim,dim,sparsity/4, data_rvs=rvs)+ 1j*sp.random(dim,dim,sparsity/4, data_rvs=rvs)\n",
    "    H =5*( A + dagger(A))\n",
    "    return -1j*H+0.01*A"
   ]
  },
  {
   "cell_type": "code",
   "execution_count": 36,
   "metadata": {},
   "outputs": [],
   "source": [
    "sparsity = np.linspace(1e-5,1e-3,10)\n",
    "matrix = []\n",
    "for i in range(len(sparsity)):\n",
    "    matrix.append(randomH(sparsity[i]))\n",
    "matrices = np.array(matrix)"
   ]
  },
  {
   "cell_type": "code",
   "execution_count": 37,
   "metadata": {},
   "outputs": [],
   "source": [
    "vec = np.sqrt(1/2000)*np.ones(2000)\n",
    "max_mag=np.zeros(len(matrices))\n",
    "new_error1=np.zeros(len(matrices))\n",
    "norm=np.zeros(len(matrices))\n",
    "for i,matrix in enumerate(matrices):\n",
    "    sas,max_mag[i]=_expm_multiply(matrix, vec,1e-16)\n",
    "    sas_st,x = _expm_multiply_simple_core_global(matrix, vec,1e-16)\n",
    "    new_error1[i]=norm_two(sas-sas_st)\n",
    "    norm[i]=(_exact_inf_norm(matrix))"
   ]
  },
  {
   "cell_type": "code",
   "execution_count": 38,
   "metadata": {},
   "outputs": [
    {
     "data": {
      "image/png": "[encoded data removed]",
      "text/plain": [
       "<Figure size 432x288 with 1 Axes>"
      ]
     },
     "metadata": {
      "needs_background": "light"
     },
     "output_type": "display_data"
    }
   ],
   "source": [
    "import matplotlib.pyplot as plt\n",
    "fig,ax = plt.subplots()\n",
    "ax.plot(1e-16*max_mag,new_error1)\n",
    "ax.plot(1e-16*max_mag,1e-16*max_mag)\n",
    "ax.set_yscale('log')\n",
    "ax.set_xscale('log')"
   ]
  },
  {
   "cell_type": "code",
   "execution_count": 248,
   "metadata": {},
   "outputs": [
    {
     "data": {
      "text/plain": [
       "1.0000000000000002"
      ]
     },
     "execution_count": 248,
     "metadata": {},
     "output_type": "execute_result"
    }
   ],
   "source": [
    "norm_two(sas_st)"
   ]
  },
  {
   "cell_type": "code",
   "execution_count": 28,
   "metadata": {},
   "outputs": [],
   "source": [
    "def TE(a):\n",
    "    b=1\n",
    "    j=1\n",
    "    total=1\n",
    "    maximum=0\n",
    "    while 1:\n",
    "        b=b*a/j\n",
    "        total=total+b\n",
    "        j=j+1\n",
    "        if abs(b)>maximum:\n",
    "            maximum = abs(b)\n",
    "        if abs(b)<1e-16:\n",
    "            break\n",
    "    return total,maximum\n",
    "def array_TE(A):\n",
    "    totals=np.zeros(len(A),dtype=np.complex256)\n",
    "    maximum=np.zeros(len(A))\n",
    "    for i,a in enumerate(A):\n",
    "        totals[i],maximum[i]=TE(a)\n",
    "    return totals,maximum"
   ]
  },
  {
   "cell_type": "code",
   "execution_count": 31,
   "metadata": {},
   "outputs": [],
   "source": [
    "A=1j*np.linspace(1,20,1000)\n",
    "diff=array_TE(A)[0]-np.exp(A)\n",
    "maximum=array_TE(A)[1]"
   ]
  },
  {
   "cell_type": "code",
   "execution_count": 36,
   "metadata": {},
   "outputs": [
    {
     "name": "stderr",
     "output_type": "stream",
     "text": [
      "/Users/apple/Library/Python/3.8/lib/python/site-packages/numpy/core/_asarray.py:83: ComplexWarning: Casting complex values to real discards the imaginary part\n",
      "  return array(a, dtype, copy=False, order=order)\n"
     ]
    },
    {
     "data": {
      "text/plain": [
       "[<matplotlib.lines.Line2D at 0x1280cf820>]"
      ]
     },
     "execution_count": 36,
     "metadata": {},
     "output_type": "execute_result"
    },
    {
     "data": {
      "image/png": "[encoded data removed]",
      "text/plain": [
       "<Figure size 432x288 with 1 Axes>"
      ]
     },
     "metadata": {
      "needs_background": "light"
     },
     "output_type": "display_data"
    }
   ],
   "source": [
    "fig, ax = plt.subplots()\n",
    "ax.plot(maximum,diff)"
   ]
  },
  {
   "cell_type": "code",
   "execution_count": 35,
   "metadata": {},
   "outputs": [
    {
     "data": {
      "text/plain": [
       "8.714501145746933e-13"
      ]
     },
     "execution_count": 35,
     "metadata": {},
     "output_type": "execute_result"
    }
   ],
   "source": [
    "1e-16*TE(11.2j)[1]"
   ]
  },
  {
   "cell_type": "code",
   "execution_count": null,
   "metadata": {},
   "outputs": [],
   "source": []
  }
 ],
 "metadata": {
  "kernelspec": {
   "display_name": "Python 3",
   "language": "python",
   "name": "python3"
  },
  "language_info": {
   "codemirror_mode": {
    "name": "ipython",
    "version": 3
   },
   "file_extension": ".py",
   "mimetype": "text/x-python",
   "name": "python",
   "nbconvert_exporter": "python",
   "pygments_lexer": "ipython3",
   "version": "3.8.2"
  }
 },
 "nbformat": 4,
 "nbformat_minor": 5
}
