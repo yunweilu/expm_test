{
 "cells": [
  {
   "cell_type": "code",
   "execution_count": 71,
   "metadata": {},
   "outputs": [],
   "source": [
    "import sympy as syp\n",
    "import scipy.sparse as sp\n",
    "from scipy import stats\n",
    "import numpy as np\n",
    "digits=300\n",
    "def two_norm(vec):\n",
    "    i=0\n",
    "    for ele in vec:\n",
    "        i = abs(ele)**2 + i\n",
    "    return syp.sqrt(i)   \n",
    "def inf_norm(vec):\n",
    "    return max(abs(np.array(vec,dtype=np.complex128)))\n",
    "def dagger(A):\n",
    "    A = sp.csr_matrix.transpose(A)\n",
    "    return sp.csr_matrix.conjugate(A)\n",
    "def randomH(dim,loc,scale,sparsity):\n",
    "    rvs = stats.norm(loc,scale=scale).rvs\n",
    "    A = sp.random(dim,dim,sparsity/4, data_rvs=rvs)+ 1j*sp.random(dim,dim,sparsity/4, data_rvs=rvs)\n",
    "    H =( A + dagger(A))\n",
    "    return syp.Matrix((-1j*H).toarray())\n",
    "def expm_ref(H,vec):\n",
    "    b=vec\n",
    "    c=vec\n",
    "    j=1\n",
    "    while(1):\n",
    "        b=(H*b/j).evalf(digits)\n",
    "        c=(c+b).evalf(digits)\n",
    "        if max(abs(np.array(b,dtype=np.complex128))) <= 10**-100:\n",
    "            break\n",
    "        j=j+1\n",
    "    return c\n",
    "def expm_act(H,vec):\n",
    "    b=vec\n",
    "    c=vec\n",
    "    d=vec\n",
    "    j=1\n",
    "    while(1):\n",
    "        d=b\n",
    "        b=(H*b/j).evalf(digits)\n",
    "        c=(c+b).evalf(digits)\n",
    "        if inf_norm(b) <= 2**-24:\n",
    "            break\n",
    "        j=j+1\n",
    "    return c"
   ]
  },
  {
   "cell_type": "code",
   "execution_count": 72,
   "metadata": {},
   "outputs": [],
   "source": [
    "dim = 10\n",
    "loc=0\n",
    "scale=1\n",
    "sparsity=0.2\n",
    "H=syp.Matrix(randomH(dim,loc,scale,sparsity))\n",
    "vec = 1/syp.sqrt(dim)*syp.ones(dim,1)\n",
    "a=expm_act(H,vec)\n",
    "r=expm_ref(H,vec)"
   ]
  },
  {
   "cell_type": "code",
   "execution_count": 75,
   "metadata": {},
   "outputs": [
    {
     "data": {
      "text/plain": [
       "array([1., 2.])"
      ]
     },
     "execution_count": 75,
     "metadata": {},
     "output_type": "execute_result"
    }
   ],
   "source": [
    "np.linspace(1,2,2)"
   ]
  },
  {
   "cell_type": "code",
   "execution_count": null,
   "metadata": {},
   "outputs": [],
   "source": []
  }
 ],
 "metadata": {
  "kernelspec": {
   "display_name": "Python 3",
   "language": "python",
   "name": "python3"
  },
  "language_info": {
   "codemirror_mode": {
    "name": "ipython",
    "version": 3
   },
   "file_extension": ".py",
   "mimetype": "text/x-python",
   "name": "python",
   "nbconvert_exporter": "python",
   "pygments_lexer": "ipython3",
   "version": "3.8.9"
  }
 },
 "nbformat": 4,
 "nbformat_minor": 4
}
