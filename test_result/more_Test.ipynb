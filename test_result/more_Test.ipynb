{
 "cells": [
  {
   "cell_type": "code",
   "execution_count": 1,
   "metadata": {},
   "outputs": [],
   "source": [
    "import numpy as np\n",
    "from matplotlib.lines import Line2D\n",
    "from expm_mul import expm_multiply\n",
    "from scipy.sparse.linalg import eigs,norm\n",
    "from scipy.special import factorial\n",
    "import matplotlib.pyplot as plt\n",
    "from fractions import Fraction\n",
    "from scipy.sparse import csr_matrix,isspmatrix,bmat\n",
    "import scipy as sci\n",
    "from qutip import qload\n",
    "def get_creation_operator(size,tp):\n",
    "    return np.diag(np.sqrt(np.arange(1, size),dtype=tp), k=-1)\n",
    "def get_annihilation_operator(size,tp):\n",
    "    return np.diag(np.sqrt(np.arange(1, size),dtype=tp), k=1)\n",
    "def _expm_multiply_simple_core_global(A, B, tol=None):\n",
    "    \"\"\"\n",
    "    A helper function.\n",
    "    \"\"\"\n",
    "    if tol is None:\n",
    "        tol =1e-16\n",
    "    s=100\n",
    "    F = B\n",
    "\n",
    "    c1 = _exact_1_norm(B)\n",
    "    j=0\n",
    "    while(1):\n",
    "        coeff = s*(j+1)\n",
    "        B =  A.dot(B)/coeff\n",
    "        c2 = _exact_1_norm(B)\n",
    "        F = F + B\n",
    "        total_norm=norm_state(F)\n",
    "        if (c1+c2)<tol*total_norm:\n",
    "            m=j+1\n",
    "            break\n",
    "        c1 = c2\n",
    "        j=j+1\n",
    "    F =  F\n",
    "    B = F\n",
    "    for i in range(1,int(s)):\n",
    "        c1=c2\n",
    "        for j in range(m):\n",
    "            coeff = s*(j+1)\n",
    "            B =  A.dot(B)/coeff\n",
    "            F = F + B\n",
    "        F =  F\n",
    "        B = F\n",
    "    return F, s\n",
    "def get_s(A,b,tol):\n",
    "    s=1\n",
    "    if A.dtype==np.complex256:\n",
    "        s=np.ceil(_exact_1_norm(A))\n",
    "    else:\n",
    "        while(1):\n",
    "            norm_A = _exact_inf_norm(A)/s\n",
    "            max_term_notation=np.floor(norm_A)\n",
    "            max_term=1\n",
    "            for i in range(1,np.int(max_term_notation)):\n",
    "                max_term=max_term*norm_A/i\n",
    "                if max_term >= 10**16:\n",
    "                    break\n",
    "            if 10**-16 * max_term <= tol:\n",
    "                break\n",
    "            s=s+1\n",
    "    return s\n",
    "def _exact_1_norm(A):\n",
    "    # A compatibility function which should eventually disappear.\n",
    "    if sci.sparse.isspmatrix(A):\n",
    "        return max(abs(A).sum(axis=0).flat)\n",
    "    else:\n",
    "        return np.linalg.norm(A, 1)\n",
    "def _expm_multiply(A, B, tol=None):\n",
    "    \"\"\"\n",
    "    A helper function.\n",
    "    \"\"\"\n",
    "    if tol is None:\n",
    "        tol =1e-16\n",
    "    s=1\n",
    "    F = B\n",
    "\n",
    "    c1 = _exact_1_norm(B)\n",
    "    j=0\n",
    "    max_mag = c1\n",
    "    while(1):\n",
    "        coeff = s*(j+1)\n",
    "        B =  A.dot(B)/coeff\n",
    "        c2 = _exact_1_norm(B)\n",
    "        if c2 > max_mag:\n",
    "            max_mag = c2\n",
    "        F = F + B\n",
    "        total_norm=norm_state(F)\n",
    "        if (c1+c2)<tol*total_norm:\n",
    "            m=j+1\n",
    "            break\n",
    "        c1 = c2\n",
    "        j=j+1\n",
    "    F =  F\n",
    "    B = F\n",
    "    for i in range(1,int(s)):\n",
    "        c1=c2\n",
    "        for j in range(m):\n",
    "            coeff = s*(j+1)\n",
    "            B =  A.dot(B)/coeff\n",
    "            F = F + B\n",
    "        F =  F\n",
    "        B = F\n",
    "    return F, max_mag\n",
    "def overnorm(A):\n",
    "    if A.dtype==np.complex256:\n",
    "        return _exact_inf_norm(A)\n",
    "    else:\n",
    "        return norm_two(A)\n",
    "def _exact_inf_norm(A):\n",
    "    # A compatibility function which should eventually disappear.\n",
    "    if sci.sparse.isspmatrix(A):\n",
    "        return max(abs(A).sum(axis=1).flat)\n",
    "    else:\n",
    "        return np.linalg.norm(A, np.inf)\n",
    "def norm_two(A):\n",
    "    if sci.sparse.isspmatrix(A):\n",
    "        A=csr_matrix(A).conjugate().transpose()\n",
    "        return np.sqrt(abs(eigs(A=A.dot(A),k=1,which='LM',return_eigenvectors=False)[0]))\n",
    "    else:\n",
    "        return np.linalg.norm(A)\n",
    "def norm_state(A):\n",
    "    return np.linalg.norm(A)\n",
    "def block_fre(A,E):\n",
    "    if isspmatrix(A) is False:\n",
    "        A = np.block([[A, E], [np.zeros_like(A), A]])\n",
    "    else:\n",
    "        A = bmat([[A, E], [None, A]]).tocsc()\n",
    "    return A\n",
    "def difference(A,B):\n",
    "    return overnorm(A-B)/overnorm(A)\n",
    "def get_H(dim,tp):\n",
    "    HILBERT_SIZE=dim\n",
    "    Q_dim=6\n",
    "    g=0.1*2*np.pi\n",
    "    anharmonicity =-0.225\n",
    "    a_dag = get_creation_operator(HILBERT_SIZE,tp)\n",
    "    a = get_annihilation_operator(HILBERT_SIZE,tp)\n",
    "    b_dag=get_creation_operator(Q_dim,tp)\n",
    "    b=get_annihilation_operator(Q_dim,tp)\n",
    "    A=np.kron(a,np.identity(Q_dim))\n",
    "    A_dag=np.kron(a_dag,np.identity(Q_dim))\n",
    "    B=np.kron(np.identity(HILBERT_SIZE),b)\n",
    "    B_dag=np.kron(np.identity(HILBERT_SIZE),b_dag)\n",
    "    H_trans = 1 / 2 * anharmonicity * np.dot(np.dot(b_dag, b),np.dot(b_dag,b)-np.identity(Q_dim))\n",
    "    H0=g*(np.kron(a_dag,b)+np.kron(a,b_dag))+np.kron(np.identity(HILBERT_SIZE),H_trans)\n",
    "    H=csr_matrix(-1j*(H0+0.5*2*np.pi*(np.dot(B_dag,B)+B+B_dag+1j*(B-B_dag))))\n",
    "    vec=1/np.sqrt(HILBERT_SIZE*Q_dim)*np.ones(HILBERT_SIZE*Q_dim)\n",
    "    return H,vec\n",
    "def get_auxiliary(dim,tp,t):\n",
    "    HILBERT_SIZE=dim\n",
    "    Q_dim=6\n",
    "    g=0.1*2*np.pi\n",
    "    anharmonicity =-0.225\n",
    "    a_dag = get_creation_operator(HILBERT_SIZE,tp)\n",
    "    a = get_annihilation_operator(HILBERT_SIZE,tp)\n",
    "    b_dag=get_creation_operator(Q_dim,tp)\n",
    "    b=get_annihilation_operator(Q_dim,tp)\n",
    "    A=np.kron(a,np.identity(Q_dim))\n",
    "    A_dag=np.kron(a_dag,np.identity(Q_dim))\n",
    "    B=np.kron(np.identity(HILBERT_SIZE),b)\n",
    "    B_dag=np.kron(np.identity(HILBERT_SIZE),b_dag)\n",
    "    H_trans = 1 / 2 * anharmonicity * np.dot(np.dot(b_dag, b),np.dot(b_dag,b)-np.identity(Q_dim))\n",
    "    H0=g*(np.kron(a_dag,b)+np.kron(a,b_dag))+np.kron(np.identity(HILBERT_SIZE),H_trans)\n",
    "    H=csr_matrix(-1j*(H0+0.5*2*np.pi*(np.dot(B_dag,B)+B+B_dag+1j*(B-B_dag))))\n",
    "    vec=1/np.sqrt(HILBERT_SIZE*Q_dim)*np.ones(2*HILBERT_SIZE*Q_dim)\n",
    "    vec[0:HILBERT_SIZE*Q_dim]=0\n",
    "    A=block_fre(t*H,-1j*(B+B_dag))\n",
    "    return A,vec\n",
    "def get_norm(ts):\n",
    "    tp=np.float64()\n",
    "    anorm=[]\n",
    "    for i in range(len(ts)):\n",
    "        HILBERT_SIZE=20\n",
    "        Q_dim=6\n",
    "        g=0.1*2*np.pi\n",
    "        anharmonicity =-0.225\n",
    "        a_dag = get_creation_operator(HILBERT_SIZE,tp)\n",
    "        a = get_annihilation_operator(HILBERT_SIZE,tp)\n",
    "        b_dag=get_creation_operator(Q_dim,tp)\n",
    "        b=get_annihilation_operator(Q_dim,tp)\n",
    "        A=np.kron(a,np.identity(Q_dim))\n",
    "        A_dag=np.kron(a_dag,np.identity(Q_dim))\n",
    "        B=np.kron(np.identity(HILBERT_SIZE),b)\n",
    "        B_dag=np.kron(np.identity(HILBERT_SIZE),b_dag)\n",
    "        H_trans = 1 / 2 * anharmonicity * np.dot(np.dot(b_dag, b),np.dot(b_dag,b)-np.identity(Q_dim))\n",
    "        H0=g*(np.kron(a_dag,b)+np.kron(a,b_dag))+np.kron(np.identity(HILBERT_SIZE),H_trans)\n",
    "        H=ts[i]*csr_matrix(-1j*(H0+0.5*2*np.pi*(np.dot(B_dag,B)+B+B_dag+1j*(B-B_dag))))\n",
    "        anorm.append(norm_two(H))\n",
    "    return anorm\n",
    "def get_norm_der(ts):\n",
    "    tp=np.float64()\n",
    "    anorm=[]\n",
    "    for i in range(len(ts)):\n",
    "        HILBERT_SIZE=20\n",
    "        Q_dim=6\n",
    "        g=0.1*2*np.pi\n",
    "        anharmonicity =-0.225\n",
    "        a_dag = get_creation_operator(HILBERT_SIZE,tp)\n",
    "        a = get_annihilation_operator(HILBERT_SIZE,tp)\n",
    "        b_dag=get_creation_operator(Q_dim,tp)\n",
    "        b=get_annihilation_operator(Q_dim,tp)\n",
    "        A=np.kron(a,np.identity(Q_dim))\n",
    "        A_dag=np.kron(a_dag,np.identity(Q_dim))\n",
    "        B=np.kron(np.identity(HILBERT_SIZE),b)\n",
    "        B_dag=np.kron(np.identity(HILBERT_SIZE),b_dag)\n",
    "        H_trans = 1 / 2 * anharmonicity * np.dot(np.dot(b_dag, b),np.dot(b_dag,b)-np.identity(Q_dim))\n",
    "        H0=g*(np.kron(a_dag,b)+np.kron(a,b_dag))+np.kron(np.identity(HILBERT_SIZE),H_trans)\n",
    "        H=csr_matrix(-1j*(H0+0.5*2*np.pi*(np.dot(B_dag,B)+B+B_dag+1j*(B-B_dag))))\n",
    "        A=ts[i]*block_fre(H,-1j*(A+A_dag))\n",
    "        anorm.append(norm_two(A))\n",
    "    return anorm"
   ]
  },
  {
   "cell_type": "code",
   "execution_count": 149,
   "metadata": {},
   "outputs": [
    {
     "name": "stdout",
     "output_type": "stream",
     "text": [
      "Loaded list object.\n"
     ]
    }
   ],
   "source": [
    "reference = qload('refer')[0]\n",
    "theta_m=np.array([[8.70950435e-01, 2.48853043e+00, 4.02062662e+00, 5.51075280e+00,\n",
    "        6.97775212e+00, 8.43027209e+00, 9.87290220e+00, 1.13089234e+01,\n",
    "        1.27393366e+01, 1.41653119e+01, 1.55887688e+01],\n",
    "       [1.79283319e-01, 1.30547755e+00, 2.68990434e+00, 4.11674468e+00,\n",
    "        5.55078449e+00, 6.98409736e+00, 8.41474411e+00, 9.84240944e+00,\n",
    "        1.12672525e+01, 1.26895571e+01, 1.41096178e+01],\n",
    "       [0.13,1, 2.2, 3.6,\n",
    "        4.9, 6.3, 7.7, 9.1,\n",
    "        11, 12, 1.3],\n",
    "       [5.87845778e-03, 3.11153531e-01, 1.11496247e+00, 2.19235380e+00,\n",
    "        3.40348589e+00, 4.68492721e+00, 6.00642014e+00, 7.35228229e+00,\n",
    "        8.71376145e+00, 1.00856663e+01, 1.14647607e+01],\n",
    "        [0.003307471010225917,0.24259255239783006,0.9560279579613657,1.9645322216064995,3.1267463661459876,4.372820117778894,5.667919829026178,6.993478543263042,8.338922480962493,9.697877908033124,11.066316441049558 ],\n",
    "       [2.3e-03, 0.14, 0.64, 1.4,\n",
    "        2.4, 3.5, 4.7, 6,\n",
    "        7.2, 8.5, 9.9]])\n",
    "theta_mm=[]\n",
    "for j,_theta in enumerate(theta_m):\n",
    "    a={5:0,10:0,15:0,20:0,25:0,30:0,35:0,40:0,45:0,50:0,55:0}\n",
    "    for i, theta in enumerate(_theta):\n",
    "        a[5*(i+1)] = theta\n",
    "    theta_mm.append(a)"
   ]
  },
  {
   "cell_type": "code",
   "execution_count": 150,
   "metadata": {},
   "outputs": [],
   "source": [
    "dim=6\n",
    "ts = np.linspace(0.1,2,100)\n",
    "new_error1=np.zeros((len(ts)))\n",
    "max_mag=np.zeros((len(ts)))\n",
    "ref = reference['state_propagator']\n",
    "for i, t in enumerate(ts):\n",
    "    H,vec=get_H(dim,np.float64)\n",
    "    H_st,vec=get_H(dim,np.float128)\n",
    "    sas_st,x = expm_multiply(t*H, vec, theta_mm[j],1e-16)\n",
    "    sas,max_mag[i]=_expm_multiply_simple_core_global(t*H, vec,1e-16)\n",
    "    new_error1[i]=(norm_two(sas-sas_st)/norm_two(sas_st))"
   ]
  },
  {
   "cell_type": "code",
   "execution_count": 151,
   "metadata": {},
   "outputs": [],
   "source": [
    "import scipy.sparse as sp\n",
    "from scipy import stats\n",
    "def dagger(A):\n",
    "    A = sp.csr_matrix.transpose(A)\n",
    "    return sp.csr_matrix.conjugate(A)\n",
    "def randomH(loc,scale,sparsity):\n",
    "    rvs = stats.norm(loc,scale=scale).rvs\n",
    "    dim=1000\n",
    "    A = sp.random(dim,dim,sparsity/4, data_rvs=rvs)+ 1j*sp.random(dim,dim,sparsity/4, data_rvs=rvs)\n",
    "    H =2.5*( A + dagger(A))\n",
    "    return -1j*H"
   ]
  },
  {
   "cell_type": "code",
   "execution_count": 152,
   "metadata": {},
   "outputs": [],
   "source": [
    "sparsity = np.linspace(1e-5,1e-2,100)\n",
    "loc=0\n",
    "scale=2\n",
    "matrix = []\n",
    "for i in range(len(sparsity)):\n",
    "    matrix.append(randomH(loc,scale,sparsity[i]))\n",
    "matrices = np.array(matrix)\n",
    "vec = np.sqrt(1/1000)*np.ones(1000)\n",
    "max_mag=np.zeros(len(matrices))\n",
    "new_error1=np.zeros(len(matrices))\n",
    "norm=np.zeros(len(matrices))\n",
    "for i,matrix in enumerate(matrices):\n",
    "    sas,max_mag[i]=_expm_multiply(matrix, vec,1e-16)\n",
    "    sas_st,x = _expm_multiply_simple_core_global(matrix, vec,1e-16)\n",
    "    new_error1[i]=norm_two(sas-sas_st)\n",
    "    norm[i]=(_exact_inf_norm(matrix))\n"
   ]
  },
  {
   "cell_type": "code",
   "execution_count": 144,
   "metadata": {},
   "outputs": [
    {
     "data": {
      "image/png": "[encoded data removed]",
      "text/plain": [
       "<Figure size 432x288 with 1 Axes>"
      ]
     },
     "metadata": {
      "needs_background": "light"
     },
     "output_type": "display_data"
    }
   ],
   "source": [
    "bound=np.zeros(100)\n",
    "for i,each_norm in enumerate(norm):\n",
    "    bound[i]=1e-16\n",
    "    for j in range(1,int(np.floor(each_norm))+1):\n",
    "        bound[i]=bound[i]*each_norm/j\n",
    "import matplotlib.pyplot as plt\n",
    "plt.rcParams.update({'font.size': 14})\n",
    "fig,ax = plt.subplots()\n",
    "ax.plot(sparsity,new_error1/bound,color='red', linewidth=0.5)\n",
    "ax.set_ylabel('actual/estimation yunwei')\n",
    "ax.set_xlabel('sparsity')\n",
    "ax.set_yscale('log')\n",
    "plt.savefig('sparsity.pdf',bbox_inches='tight')"
   ]
  },
  {
   "cell_type": "code",
   "execution_count": 145,
   "metadata": {},
   "outputs": [
    {
     "data": {
      "image/png": "[encoded data removed]",
      "text/plain": [
       "<Figure size 432x288 with 1 Axes>"
      ]
     },
     "metadata": {
      "needs_background": "light"
     },
     "output_type": "display_data"
    }
   ],
   "source": [
    "import matplotlib.pyplot as plt\n",
    "plt.rcParams.update({'font.size': 14})\n",
    "fig,ax = plt.subplots()\n",
    "gamma=1e-13\n",
    "ax.plot(sparsity,new_error1/(gamma*np.exp(norm)),color='red', linewidth=0.5)\n",
    "ax.set_ylabel('actual/estimation scipy')\n",
    "ax.set_xlabel('sparsity')\n",
    "ax.set_yscale('log')\n",
    "plt.savefig('sparsity.pdf',bbox_inches='tight')"
   ]
  },
  {
   "cell_type": "code",
   "execution_count": 123,
   "metadata": {},
   "outputs": [
    {
     "data": {
      "image/png": "[encoded data removed]",
      "text/plain": [
       "<Figure size 432x288 with 1 Axes>"
      ]
     },
     "metadata": {
      "needs_background": "light"
     },
     "output_type": "display_data"
    }
   ],
   "source": [
    "loc = np.linspace(-3,3,1000)\n",
    "scale = 1\n",
    "sparsity = 1e-4\n",
    "matrix = []\n",
    "for i in range(len(loc)):\n",
    "    matrix.append(randomH(loc[i],scale,sparsity))\n",
    "matrices = np.array(matrix)\n",
    "vec = np.sqrt(1/1000)*np.ones(1000)\n",
    "max_mag=np.zeros(len(matrices))\n",
    "new_error1=np.zeros(len(matrices))\n",
    "norm=np.zeros(len(matrices))\n",
    "for i,matrix in enumerate(matrices):\n",
    "    sas,max_mag[i]=_expm_multiply(matrix, vec,1e-16)\n",
    "    sas_st,x = _expm_multiply_simple_core_global(matrix, vec,1e-16)\n",
    "    new_error1[i]=norm_two(sas-sas_st)\n",
    "    norm[i]=(_exact_inf_norm(matrix))\n",
    "import matplotlib.pyplot as plt\n",
    "plt.rcParams.update({'font.size': 14})\n",
    "fig,ax = plt.subplots()\n",
    "ax.plot(loc,new_error1/(1e-16*max_mag),color='red', linewidth=0.5)\n",
    "ax.set_ylabel('actual/estimation')\n",
    "ax.set_xlabel('mean value')\n",
    "plt.savefig('loc.pdf',bbox_inches='tight')"
   ]
  },
  {
   "cell_type": "code",
   "execution_count": 124,
   "metadata": {},
   "outputs": [
    {
     "data": {
      "text/plain": [
       "0.48057424253893893"
      ]
     },
     "execution_count": 124,
     "metadata": {},
     "output_type": "execute_result"
    }
   ],
   "source": [
    "np.sum(new_error1/(1e-16*max_mag))/1000"
   ]
  },
  {
   "cell_type": "code",
   "execution_count": 54,
   "metadata": {},
   "outputs": [
    {
     "data": {
      "image/png": "[encoded data removed]",
      "text/plain": [
       "<Figure size 432x288 with 1 Axes>"
      ]
     },
     "metadata": {
      "needs_background": "light"
     },
     "output_type": "display_data"
    }
   ],
   "source": [
    "loc = 0\n",
    "scale = np.linspace(0.5,2,1000)\n",
    "sparsity = 1e-4\n",
    "matrix = []\n",
    "for i in range(len(scale)):\n",
    "    matrix.append(randomH(loc,scale[i],sparsity))\n",
    "matrices = np.array(matrix)\n",
    "vec = np.sqrt(1/1000)*np.ones(1000)\n",
    "max_mag=np.zeros(len(matrices))\n",
    "new_error1=np.zeros(len(matrices))\n",
    "norm=np.zeros(len(matrices))\n",
    "for i,matrix in enumerate(matrices):\n",
    "    sas,max_mag[i]=_expm_multiply(matrix, vec,1e-16)\n",
    "    sas_st,x = _expm_multiply_simple_core_global(matrix, vec,1e-16)\n",
    "    new_error1[i]=norm_two(sas-sas_st)\n",
    "    norm[i]=(_exact_inf_norm(matrix))\n",
    "import matplotlib.pyplot as plt\n",
    "plt.rcParams.update({'font.size': 14})\n",
    "fig,ax = plt.subplots()\n",
    "ax.plot(scale,new_error1/(1e-16*max_mag),color='red', linewidth=0.5)\n",
    "ax.set_ylabel('actual/estimation')\n",
    "ax.set_ylabel('absolute error')\n",
    "ax.set_xlabel('std')\n",
    "plt.savefig('scale.pdf',bbox_inches='tight')"
   ]
  },
  {
   "cell_type": "code",
   "execution_count": 58,
   "metadata": {},
   "outputs": [],
   "source": [
    "loc = 0\n",
    "scale = 1\n",
    "sparsity = 1e-4\n",
    "matrix = []\n",
    "x=np.linspace(-2.5,2.5,1000)\n",
    "for i in range(len(x)):\n",
    "    matrix.append(x[i]*randomH(loc,scale,sparsity))\n",
    "matrices = np.array(matrix)\n",
    "vec = np.sqrt(1/1000)*np.ones(1000)\n",
    "max_mag=np.zeros(len(matrices))\n",
    "new_error1=np.zeros(len(matrices))\n",
    "norm=np.zeros(len(matrices))\n",
    "for i,matrix in enumerate(matrices):\n",
    "    sas,max_mag[i]=_expm_multiply(matrix, vec,1e-16)\n",
    "    sas_st,m = _expm_multiply_simple_core_global(matrix, vec,1e-16)\n",
    "    new_error1[i]=norm_two(sas-sas_st)\n",
    "    norm[i]=(_exact_inf_norm(matrix))"
   ]
  },
  {
   "cell_type": "code",
   "execution_count": 59,
   "metadata": {},
   "outputs": [
    {
     "data": {
      "image/png": "[encoded data removed]",
      "text/plain": [
       "<Figure size 432x288 with 1 Axes>"
      ]
     },
     "metadata": {
      "needs_background": "light"
     },
     "output_type": "display_data"
    }
   ],
   "source": [
    "\n",
    "plt.rcParams.update({'font.size': 14})\n",
    "fig,ax = plt.subplots()\n",
    "ax.plot(x,new_error1/(1e-16*max_mag),color='red', linewidth=0.5)\n",
    "ax.set_ylabel('actual/estimation')\n",
    "ax.set_ylabel('absolute error')\n",
    "ax.set_xlabel('x')\n",
    "plt.savefig('x.pdf',bbox_inches='tight')"
   ]
  },
  {
   "cell_type": "code",
   "execution_count": 11,
   "metadata": {},
   "outputs": [
    {
     "data": {
      "text/plain": [
       "0.9999112717398958"
      ]
     },
     "execution_count": 11,
     "metadata": {},
     "output_type": "execute_result"
    }
   ],
   "source": [
    "norm_two(sas_st)"
   ]
  },
  {
   "cell_type": "code",
   "execution_count": 719,
   "metadata": {},
   "outputs": [],
   "source": [
    "def TE(a):\n",
    "    b=1\n",
    "    j=1\n",
    "    total=1\n",
    "    maximum=0\n",
    "    while 1:\n",
    "        b=b*a/j\n",
    "        total=total+b\n",
    "        j=j+1\n",
    "        if abs(b)>maximum:\n",
    "            maximum = abs(b)\n",
    "        if abs(b)<1e-16:\n",
    "            break\n",
    "    return total,j\n",
    "def array_TE(A):\n",
    "    totals=np.zeros(len(A),dtype=np.complex256)\n",
    "    maximum=np.zeros(len(A))\n",
    "    for i,a in enumerate(A):\n",
    "        totals[i],maximum[i]=TE(a)\n",
    "    return totals,maximum"
   ]
  },
  {
   "cell_type": "code",
   "execution_count": 721,
   "metadata": {},
   "outputs": [],
   "source": [
    "A=1j*np.linspace(1,30,1000)\n",
    "diff=abs(array_TE(A)[0]-np.exp(A))\n",
    "maximum=1e-16*array_TE(A)[1]"
   ]
  },
  {
   "cell_type": "code",
   "execution_count": null,
   "metadata": {},
   "outputs": [],
   "source": []
  },
  {
   "cell_type": "code",
   "execution_count": 725,
   "metadata": {},
   "outputs": [
    {
     "data": {
      "image/png": "[encoded data removed]",
      "text/plain": [
       "<Figure size 432x288 with 1 Axes>"
      ]
     },
     "metadata": {
      "needs_background": "light"
     },
     "output_type": "display_data"
    }
   ],
   "source": [
    "fig, ax = plt.subplots()\n",
    "plt.rcParams.update({'font.size': 14})\n",
    "ax.plot(abs(A),abs(diff)/(maximum*np.exp(abs(A))),label='$10^{-16}$max',color='red')\n",
    "ax.set_ylabel('absolute error')\n",
    "ax.set_xlabel('a')\n",
    "ax.set_yscale('log')\n",
    "ax.legend()\n",
    "plt.savefig('exp_a.pdf',bbox_inches='tight')"
   ]
  },
  {
   "cell_type": "code",
   "execution_count": 12,
   "metadata": {},
   "outputs": [
    {
     "data": {
      "image/png": "[encoded data removed]",
      "text/plain": [
       "<Figure size 432x288 with 1 Axes>"
      ]
     },
     "metadata": {
      "needs_background": "light"
     },
     "output_type": "display_data"
    }
   ],
   "source": [
    "fig, ax = plt.subplots()\n",
    "plt.rcParams.update({'font.size': 14})\n",
    "ax.plot(abs(A),abs(np.exp(A)),label='$10^{-16}$max',color='red')\n",
    "# ax.set_yscale('log')\n",
    "ax.set_ylabel('absolute error')\n",
    "ax.set_xlabel('a')\n",
    "ax.legend()\n",
    "plt.savefig('exp_a.pdf',bbox_inches='tight')"
   ]
  },
  {
   "cell_type": "code",
   "execution_count": 17,
   "metadata": {},
   "outputs": [
    {
     "data": {
      "image/png": "[encoded data removed]",
      "text/plain": [
       "<Figure size 432x288 with 1 Axes>"
      ]
     },
     "metadata": {
      "needs_background": "light"
     },
     "output_type": "display_data"
    }
   ],
   "source": [
    "fig, ax = plt.subplots()\n",
    "plt.rcParams.update({'font.size': 14})\n",
    "ax.plot(abs(A),np.abs(array_TE(A)[0]),color='red')\n",
    "ax.set_ylabel('ratio')\n",
    "ax.set_xlabel('a')\n",
    "ax.set_ylim([0.999,1.001])\n",
    "plt.savefig('exp_a.pdf',bbox_inches='tight')"
   ]
  },
  {
   "cell_type": "code",
   "execution_count": 9,
   "metadata": {},
   "outputs": [
    {
     "data": {
      "text/plain": [
       "array([1.        , 1.        , 1.        , 1.        , 1.        ,\n",
       "       1.        , 1.        , 1.        , 1.        , 1.        ,\n",
       "       1.        , 1.        , 1.        , 1.        , 1.        ,\n",
       "       1.        , 1.        , 1.        , 1.        , 1.        ,\n",
       "       1.        , 1.        , 1.        , 1.        , 1.        ,\n",
       "       1.        , 1.        , 1.        , 1.        , 1.        ,\n",
       "       1.        , 1.        , 1.        , 1.        , 1.        ,\n",
       "       1.        , 1.        , 1.        , 1.        , 1.        ,\n",
       "       1.        , 1.        , 1.        , 1.        , 1.        ,\n",
       "       1.        , 1.        , 1.        , 1.        , 1.        ,\n",
       "       1.        , 1.        , 1.        , 1.        , 1.        ,\n",
       "       1.        , 1.        , 1.        , 1.        , 1.        ,\n",
       "       1.        , 1.        , 1.        , 1.        , 1.        ,\n",
       "       1.        , 1.        , 1.        , 1.        , 1.        ,\n",
       "       1.        , 1.        , 1.        , 1.        , 1.        ,\n",
       "       1.        , 1.        , 1.        , 1.        , 1.        ,\n",
       "       1.        , 1.        , 1.        , 1.        , 1.        ,\n",
       "       1.        , 1.        , 1.        , 1.        , 1.        ,\n",
       "       1.        , 1.        , 1.        , 1.        , 1.        ,\n",
       "       1.        , 1.        , 1.        , 1.        , 1.        ,\n",
       "       1.        , 1.        , 1.        , 1.        , 1.        ,\n",
       "       1.        , 1.        , 1.        , 1.        , 1.        ,\n",
       "       1.        , 1.        , 1.        , 1.        , 1.        ,\n",
       "       1.        , 1.        , 1.        , 1.        , 1.        ,\n",
       "       1.        , 1.        , 1.        , 1.        , 1.        ,\n",
       "       1.        , 1.        , 1.        , 1.        , 1.        ,\n",
       "       1.        , 1.        , 1.        , 1.        , 1.        ,\n",
       "       1.        , 1.        , 1.        , 1.        , 1.        ,\n",
       "       1.        , 1.        , 1.        , 1.        , 1.        ,\n",
       "       1.        , 1.        , 1.        , 1.        , 1.        ,\n",
       "       1.        , 1.        , 1.        , 1.        , 1.        ,\n",
       "       1.        , 1.        , 1.        , 1.        , 1.        ,\n",
       "       1.        , 1.        , 1.        , 1.        , 1.        ,\n",
       "       1.        , 1.        , 1.        , 1.        , 1.        ,\n",
       "       1.        , 1.        , 1.        , 1.        , 1.        ,\n",
       "       1.        , 1.        , 1.        , 1.        , 1.        ,\n",
       "       1.        , 1.        , 1.        , 1.        , 1.        ,\n",
       "       1.        , 1.        , 1.        , 1.        , 1.        ,\n",
       "       1.        , 1.        , 1.        , 1.        , 1.        ,\n",
       "       1.        , 1.        , 1.        , 1.        , 1.        ,\n",
       "       1.        , 1.        , 1.        , 1.        , 1.        ,\n",
       "       1.        , 1.        , 1.        , 1.        , 1.        ,\n",
       "       1.        , 1.        , 1.        , 1.        , 1.        ,\n",
       "       1.        , 1.        , 1.        , 1.        , 1.        ,\n",
       "       1.        , 1.        , 1.        , 1.        , 1.        ,\n",
       "       1.        , 1.        , 1.        , 1.        , 1.        ,\n",
       "       1.        , 1.        , 1.        , 1.        , 1.        ,\n",
       "       1.        , 1.        , 1.        , 1.        , 1.        ,\n",
       "       1.        , 1.        , 1.        , 1.        , 1.        ,\n",
       "       1.        , 1.        , 1.        , 1.        , 1.        ,\n",
       "       1.        , 1.        , 1.        , 1.        , 1.        ,\n",
       "       1.        , 1.        , 1.        , 1.        , 1.        ,\n",
       "       1.        , 1.        , 1.        , 1.        , 1.        ,\n",
       "       1.        , 1.        , 1.        , 1.        , 1.        ,\n",
       "       1.        , 1.        , 1.        , 1.        , 1.        ,\n",
       "       1.        , 1.        , 1.        , 1.        , 1.        ,\n",
       "       1.        , 1.        , 1.        , 1.        , 1.        ,\n",
       "       1.        , 1.        , 1.        , 1.        , 1.        ,\n",
       "       1.        , 1.        , 1.        , 1.        , 1.        ,\n",
       "       1.        , 1.        , 1.        , 1.        , 1.        ,\n",
       "       1.        , 1.        , 1.        , 1.        , 1.        ,\n",
       "       1.        , 1.        , 1.        , 1.        , 1.        ,\n",
       "       1.        , 1.        , 1.        , 1.        , 1.        ,\n",
       "       1.        , 1.        , 1.        , 1.        , 1.        ,\n",
       "       1.        , 1.        , 1.        , 1.        , 1.        ,\n",
       "       1.        , 1.        , 1.        , 1.        , 1.        ,\n",
       "       1.        , 1.        , 1.        , 1.        , 1.        ,\n",
       "       1.        , 1.        , 1.        , 1.        , 1.        ,\n",
       "       1.        , 1.        , 1.        , 1.        , 1.        ,\n",
       "       1.        , 1.        , 1.        , 1.        , 1.        ,\n",
       "       1.        , 1.        , 1.        , 1.        , 1.        ,\n",
       "       1.        , 1.        , 1.        , 1.        , 1.        ,\n",
       "       1.        , 1.        , 1.        , 1.        , 1.        ,\n",
       "       1.        , 1.        , 1.        , 1.        , 1.        ,\n",
       "       1.        , 1.        , 1.        , 1.        , 1.        ,\n",
       "       1.        , 1.        , 1.        , 1.        , 1.        ,\n",
       "       1.        , 1.        , 1.        , 1.        , 1.        ,\n",
       "       1.        , 1.        , 1.        , 1.        , 1.        ,\n",
       "       1.        , 1.        , 1.        , 1.        , 1.        ,\n",
       "       1.        , 1.        , 1.        , 1.        , 1.        ,\n",
       "       1.        , 1.        , 1.        , 1.        , 1.        ,\n",
       "       1.        , 1.        , 1.        , 1.        , 1.        ,\n",
       "       1.        , 1.        , 1.        , 1.        , 1.        ,\n",
       "       1.        , 1.        , 1.        , 1.        , 1.        ,\n",
       "       1.        , 1.        , 1.        , 1.        , 1.        ,\n",
       "       1.        , 1.        , 1.        , 1.        , 1.        ,\n",
       "       1.        , 1.        , 1.        , 1.        , 1.        ,\n",
       "       1.        , 1.        , 1.        , 1.        , 1.        ,\n",
       "       1.        , 1.        , 1.        , 1.        , 1.        ,\n",
       "       1.        , 1.        , 1.        , 1.        , 1.        ,\n",
       "       1.        , 1.        , 1.        , 1.        , 1.        ,\n",
       "       1.        , 1.        , 1.        , 1.        , 1.        ,\n",
       "       1.        , 1.        , 1.        , 1.        , 1.        ,\n",
       "       1.        , 1.        , 1.        , 1.        , 1.        ,\n",
       "       1.        , 1.        , 1.        , 1.        , 1.        ,\n",
       "       1.        , 1.        , 1.        , 1.        , 1.        ,\n",
       "       1.        , 1.        , 1.        , 1.        , 1.        ,\n",
       "       1.        , 1.        , 1.        , 1.        , 1.        ,\n",
       "       1.        , 1.        , 1.        , 1.        , 1.        ,\n",
       "       1.        , 1.        , 1.        , 1.        , 1.        ,\n",
       "       1.        , 1.        , 1.        , 1.        , 1.        ,\n",
       "       1.        , 1.        , 1.        , 1.        , 1.        ,\n",
       "       1.        , 1.        , 1.        , 1.        , 1.        ,\n",
       "       1.        , 1.        , 1.        , 1.        , 1.        ,\n",
       "       1.        , 1.        , 1.        , 1.        , 1.        ,\n",
       "       1.        , 1.        , 1.        , 1.        , 1.        ,\n",
       "       1.        , 1.        , 1.        , 1.        , 1.        ,\n",
       "       1.        , 1.        , 1.        , 1.        , 1.        ,\n",
       "       1.        , 1.        , 1.        , 1.        , 1.        ,\n",
       "       1.        , 1.        , 1.        , 1.        , 1.        ,\n",
       "       1.        , 1.        , 1.        , 1.        , 1.        ,\n",
       "       1.        , 1.        , 1.        , 1.        , 1.        ,\n",
       "       1.        , 1.        , 1.        , 1.        , 1.        ,\n",
       "       1.        , 1.        , 1.        , 1.        , 1.        ,\n",
       "       1.        , 1.        , 1.        , 1.        , 1.        ,\n",
       "       1.        , 1.        , 1.        , 1.        , 1.        ,\n",
       "       1.        , 1.        , 1.        , 1.        , 1.        ,\n",
       "       1.        , 1.        , 1.        , 1.        , 1.        ,\n",
       "       1.        , 1.        , 1.        , 1.        , 1.        ,\n",
       "       1.        , 1.        , 1.        , 1.        , 1.        ,\n",
       "       1.        , 1.        , 1.        , 1.        , 1.        ,\n",
       "       1.        , 1.        , 1.        , 1.        , 1.        ,\n",
       "       1.        , 1.        , 1.        , 1.        , 1.        ,\n",
       "       1.        , 1.        , 1.        , 1.        , 1.        ,\n",
       "       1.        , 1.        , 1.        , 1.        , 1.        ,\n",
       "       1.        , 1.        , 1.        , 1.        , 1.        ,\n",
       "       1.        , 1.        , 1.        , 1.        , 1.        ,\n",
       "       1.        , 1.        , 1.        , 1.        , 1.        ,\n",
       "       1.        , 1.        , 1.        , 1.        , 1.        ,\n",
       "       1.        , 1.        , 1.        , 1.        , 1.        ,\n",
       "       1.        , 1.        , 0.99999999, 1.        , 1.        ,\n",
       "       1.        , 1.        , 1.        , 1.        , 1.        ,\n",
       "       1.00000001, 1.        , 1.00000001, 1.        , 1.        ,\n",
       "       1.        , 1.        , 1.        , 1.00000001, 1.00000001,\n",
       "       1.        , 1.        , 1.        , 1.        , 1.        ,\n",
       "       1.00000002, 1.        , 1.00000001, 1.00000001, 1.00000001,\n",
       "       1.00000001, 1.00000001, 1.        , 1.00000001, 1.        ,\n",
       "       1.00000001, 1.        , 1.        , 1.00000002, 1.00000003,\n",
       "       1.00000001, 1.00000004, 0.99999999, 1.        , 1.        ,\n",
       "       1.00000002, 1.00000004, 1.00000002, 1.00000002, 1.00000004,\n",
       "       1.00000001, 1.00000002, 1.00000001, 0.99999998, 1.00000003,\n",
       "       1.        , 1.00000002, 0.99999999, 1.00000002, 1.00000001,\n",
       "       1.00000002, 1.00000004, 1.00000002, 1.        , 1.00000002,\n",
       "       0.99999999, 1.00000002, 1.00000004, 0.99999996, 1.00000001,\n",
       "       1.00000004, 1.        , 1.00000003, 1.00000006, 1.00000002,\n",
       "       1.00000007, 1.00000004, 1.00000006, 1.00000006, 1.00000005,\n",
       "       1.00000007, 0.99999996, 1.00000002, 1.00000002, 1.00000008,\n",
       "       1.        , 1.00000003, 1.00000005, 0.99999997, 1.00000008,\n",
       "       1.00000001, 1.00000005, 1.00000006, 1.        , 0.99999996,\n",
       "       0.99999998, 0.99999996, 1.00000007, 0.99999986, 1.        ,\n",
       "       0.99999998, 1.00000008, 1.00000002, 1.00000008, 1.        ,\n",
       "       1.00000006, 0.99999992, 0.99999996, 1.0000001 , 1.00000025,\n",
       "       0.99999994, 1.00000008, 0.99999996, 1.00000017, 0.99999998,\n",
       "       1.00000006, 0.99999992, 0.99999999, 0.99999972, 0.99999999,\n",
       "       1.00000019, 1.00000003, 0.99999997, 1.        , 1.00000009,\n",
       "       1.00000016, 0.99999997, 0.99999991, 0.99999991, 0.99999994,\n",
       "       1.00000024, 0.99999991, 1.00000037, 0.99999988, 1.00000021,\n",
       "       0.99999957, 0.99999996, 0.99999975, 0.99999989, 1.00000013,\n",
       "       0.99999999, 1.00000009, 0.99999985, 0.99999959, 1.00000036,\n",
       "       0.99999952, 0.99999994, 0.99999981, 0.9999998 , 1.00000035,\n",
       "       0.99999959, 0.99999974, 0.9999992 , 0.99999925, 0.99999947,\n",
       "       0.99999951, 1.00000055, 0.9999999 , 0.99999943, 0.99999888,\n",
       "       0.99999988, 1.00000039, 0.99999987, 1.00000013, 0.99999983,\n",
       "       0.99999961, 0.99999874, 0.99999911, 1.00000008, 0.99999964,\n",
       "       0.99999974, 0.99999927, 1.00000015, 0.99999951, 0.99999878,\n",
       "       0.99999959, 0.99999908, 1.00000034, 0.99999974, 0.99999946,\n",
       "       0.99999873, 0.99999982, 0.99999953, 0.99999986, 0.99999743,\n",
       "       1.0000001 , 0.9999994 , 0.99999874, 0.99999927, 0.99999858,\n",
       "       0.99999825, 1.00000153, 1.00000026, 0.9999971 , 1.00000017,\n",
       "       0.99999902, 0.99999816, 0.99999892, 1.00000031, 0.9999983 ,\n",
       "       0.99999864, 0.99999818, 0.999998  , 0.99999728, 0.99999908,\n",
       "       0.99999767, 0.9999998 , 1.00000181, 0.99999819, 1.00000026,\n",
       "       0.99999779, 0.99999975, 0.99999882, 0.99999774, 0.99999869,\n",
       "       0.99999906, 1.00000048, 0.99999763, 1.00000019, 0.99999819,\n",
       "       0.99999781, 0.99999891, 0.99999537, 0.99999585, 0.99999958,\n",
       "       1.00000053, 0.99999307, 0.99999743, 1.00000234, 0.99999751,\n",
       "       1.00000139, 0.99999622, 0.99999826, 0.99999753, 0.99999879,\n",
       "       0.99999643, 1.00000175, 0.99999516, 1.00000488, 0.99999749,\n",
       "       0.99999697, 1.0000032 , 1.00000804, 1.00000807, 0.99999689,\n",
       "       0.9999972 , 1.00000864, 1.00000708, 1.00000106, 1.00001264,\n",
       "       1.00000379, 1.00000379, 1.00000125, 1.00000559, 1.00000689,\n",
       "       1.00000121, 1.00001113, 1.00000815, 1.00001632, 1.00001688,\n",
       "       1.00000847, 1.00000412, 0.999994  , 0.99999769, 1.00000205,\n",
       "       1.00000452, 1.00001325, 1.00000945, 1.00000182, 1.00001446,\n",
       "       1.00001155, 1.00000765, 1.00000751, 1.00000564, 1.00000632,\n",
       "       1.00001488, 1.00002101, 1.00002911, 0.99999797, 1.00001229,\n",
       "       1.00001864, 0.99998504, 1.00001567, 1.0000119 , 1.00000487,\n",
       "       0.99999658, 1.00000933, 1.00001778, 0.99999914, 1.00001758,\n",
       "       0.99999583, 1.00003285, 1.00001467, 1.00001066, 1.00005678,\n",
       "       1.00003812, 1.00001378, 1.00002055, 1.00004981, 1.00001917,\n",
       "       0.99997889, 0.99999446, 0.99999592, 1.00004007, 1.00002055,\n",
       "       0.99999492, 1.00004477, 1.00004467, 1.00002372, 1.00003067,\n",
       "       1.00001698, 1.00000439, 0.99995396, 1.00002607, 1.0000639 ,\n",
       "       1.00002533, 1.00002048, 0.99997582, 1.00004425, 1.00000539,\n",
       "       1.00001722, 0.99998773, 0.99998484, 1.00002579, 1.00002855,\n",
       "       0.99992133, 1.0000169 , 0.99998443, 0.99992646, 1.00003156,\n",
       "       0.99996596, 1.00004242, 0.99998278, 0.99997307, 0.99999421,\n",
       "       1.0000261 , 0.99998141, 0.999987  , 1.00001575, 0.99999631,\n",
       "       1.00004942, 0.99999991, 0.99991315, 0.99995082, 0.99991555,\n",
       "       1.0000491 , 0.99981675, 0.99994655, 0.99986145, 0.99991227],\n",
       "      dtype=float128)"
      ]
     },
     "execution_count": 9,
     "metadata": {},
     "output_type": "execute_result"
    }
   ],
   "source": [
    "abs(array_TE(A)[0])"
   ]
  },
  {
   "cell_type": "code",
   "execution_count": 69,
   "metadata": {},
   "outputs": [
    {
     "data": {
      "text/plain": [
       "array([1.00000000e-16, 1.02902903e-16, 1.05805806e-16, 1.08708709e-16,\n",
       "       1.11611612e-16, 1.14514515e-16, 1.17417417e-16, 1.20320320e-16,\n",
       "       1.23223223e-16, 1.26126126e-16, 1.29029029e-16, 1.31931932e-16,\n",
       "       1.34834835e-16, 1.37737738e-16, 1.40640641e-16, 1.43543544e-16,\n",
       "       1.46446446e-16, 1.49349349e-16, 1.52252252e-16, 1.55155155e-16,\n",
       "       1.58058058e-16, 1.60960961e-16, 1.63863864e-16, 1.66766767e-16,\n",
       "       1.69669670e-16, 1.72572573e-16, 1.75475475e-16, 1.78378378e-16,\n",
       "       1.81281281e-16, 1.84184184e-16, 1.87087087e-16, 1.89989990e-16,\n",
       "       1.92892893e-16, 1.95795796e-16, 1.98698699e-16, 2.03216029e-16,\n",
       "       2.09110462e-16, 2.15089163e-16, 2.21152133e-16, 2.27299371e-16,\n",
       "       2.33530878e-16, 2.39846653e-16, 2.46246697e-16, 2.52731009e-16,\n",
       "       2.59299590e-16, 2.65952439e-16, 2.72689556e-16, 2.79510942e-16,\n",
       "       2.86416597e-16, 2.93406520e-16, 3.00480711e-16, 3.07639171e-16,\n",
       "       3.14881899e-16, 3.22208896e-16, 3.29620161e-16, 3.37115694e-16,\n",
       "       3.44695496e-16, 3.52359567e-16, 3.60107906e-16, 3.67940513e-16,\n",
       "       3.75857389e-16, 3.83858533e-16, 3.91943946e-16, 4.00113627e-16,\n",
       "       4.08367577e-16, 4.16705795e-16, 4.25128281e-16, 4.33635036e-16,\n",
       "       4.42226060e-16, 4.51352705e-16, 4.64568870e-16, 4.78040540e-16,\n",
       "       4.91770161e-16, 5.05760179e-16, 5.20013040e-16, 5.34531191e-16,\n",
       "       5.49317078e-16, 5.64373146e-16, 5.79701843e-16, 5.95305615e-16,\n",
       "       6.11186907e-16, 6.27348166e-16, 6.43791839e-16, 6.60520370e-16,\n",
       "       6.77536208e-16, 6.94841797e-16, 7.12439585e-16, 7.30332017e-16,\n",
       "       7.48521539e-16, 7.67010598e-16, 7.85801640e-16, 8.04897112e-16,\n",
       "       8.24299459e-16, 8.44011128e-16, 8.64034565e-16, 8.84372215e-16,\n",
       "       9.05026527e-16, 9.25999945e-16, 9.47294916e-16, 9.68913886e-16,\n",
       "       9.90859301e-16, 1.01313361e-15, 1.03573925e-15, 1.05867868e-15,\n",
       "       1.08709877e-15, 1.11884878e-15, 1.15128924e-15, 1.18443008e-15,\n",
       "       1.21828132e-15, 1.25285303e-15, 1.28815537e-15, 1.32419855e-15,\n",
       "       1.36099287e-15, 1.39854869e-15, 1.43687646e-15, 1.47598666e-15,\n",
       "       1.51588989e-15, 1.55659679e-15, 1.59811808e-15, 1.64046455e-15,\n",
       "       1.68364706e-15, 1.72767654e-15, 1.77256399e-15, 1.81832050e-15,\n",
       "       1.86495720e-15, 1.91248531e-15, 1.96091611e-15, 2.01026098e-15,\n",
       "       2.06053133e-15, 2.11173867e-15, 2.16389456e-15, 2.21701065e-15,\n",
       "       2.27109866e-15, 2.32617036e-15, 2.38223761e-15, 2.43931235e-15,\n",
       "       2.49740655e-15, 2.55653231e-15, 2.61984493e-15, 2.69669133e-15,\n",
       "       2.77533051e-15, 2.85579367e-15, 2.93811234e-15, 3.02231845e-15,\n",
       "       3.10844426e-15, 3.19652240e-15, 3.28658589e-15, 3.37866810e-15,\n",
       "       3.47280278e-15, 3.56902405e-15, 3.66736640e-15, 3.76786473e-15,\n",
       "       3.87055427e-15, 3.97547066e-15, 4.08264995e-15, 4.19212852e-15,\n",
       "       4.30394318e-15, 4.41813111e-15, 4.53472991e-15, 4.65377754e-15,\n",
       "       4.77531237e-15, 4.89937318e-15, 5.02599914e-15, 5.15522982e-15,\n",
       "       5.28710521e-15, 5.42166568e-15, 5.55895205e-15, 5.69900550e-15,\n",
       "       5.84186766e-15, 5.98758058e-15, 6.13618669e-15, 6.28772888e-15,\n",
       "       6.44225044e-15, 6.62401855e-15, 6.81792792e-15, 7.01654476e-15,\n",
       "       7.21996004e-15, 7.42826607e-15, 7.64155647e-15, 7.85992620e-15,\n",
       "       8.08347157e-15, 8.31229025e-15, 8.54648129e-15, 8.78614513e-15,\n",
       "       9.03138361e-15, 9.28229999e-15, 9.53899895e-15, 9.80158660e-15,\n",
       "       1.00701705e-14, 1.03448598e-14, 1.06257649e-14, 1.09129979e-14,\n",
       "       1.12066723e-14, 1.15069031e-14, 1.18138070e-14, 1.21275020e-14,\n",
       "       1.24481078e-14, 1.27757458e-14, 1.31105387e-14, 1.34526111e-14,\n",
       "       1.38020889e-14, 1.41591000e-14, 1.45237736e-14, 1.48962408e-14,\n",
       "       1.52766342e-14, 1.56650883e-14, 1.60617390e-14, 1.64879169e-14,\n",
       "       1.69719104e-14, 1.74680310e-14, 1.79765307e-14, 1.84976659e-14,\n",
       "       1.90316973e-14, 1.95788895e-14, 2.01395120e-14, 2.07138381e-14,\n",
       "       2.13021459e-14, 2.19047180e-14, 2.25218413e-14, 2.31538076e-14,\n",
       "       2.38009131e-14, 2.44634589e-14, 2.51417507e-14, 2.58360993e-14,\n",
       "       2.65468201e-14, 2.72742335e-14, 2.80186650e-14, 2.87804451e-14,\n",
       "       2.95599095e-14, 3.03573988e-14, 3.11732592e-14, 3.20078419e-14,\n",
       "       3.28615037e-14, 3.37346065e-14, 3.46275180e-14, 3.55406114e-14,\n",
       "       3.64742652e-14, 3.74288638e-14, 3.84047974e-14, 3.94024618e-14,\n",
       "       4.04222589e-14, 4.14645961e-14, 4.26629262e-14, 4.39132719e-14,\n",
       "       4.51955649e-14, 4.65105023e-14, 4.78587938e-14, 4.92411622e-14,\n",
       "       5.06583428e-14, 5.21110844e-14, 5.36001493e-14, 5.51263131e-14,\n",
       "       5.66903652e-14, 5.82931090e-14, 5.99353621e-14, 6.16179563e-14,\n",
       "       6.33417381e-14, 6.51075687e-14, 6.69163242e-14, 6.87688959e-14,\n",
       "       7.06661904e-14, 7.26091300e-14, 7.45986528e-14, 7.66357128e-14,\n",
       "       7.87212803e-14, 8.08563419e-14, 8.30419011e-14, 8.52789782e-14,\n",
       "       8.75686106e-14, 8.99118530e-14, 9.23097777e-14, 9.47634751e-14,\n",
       "       9.72740531e-14, 9.98426385e-14, 1.02470376e-13, 1.05158430e-13,\n",
       "       1.08052004e-13, 1.11225133e-13, 1.14480824e-13, 1.17820951e-13,\n",
       "       1.21247422e-13, 1.24762186e-13, 1.28367227e-13, 1.32064566e-13,\n",
       "       1.35856265e-13, 1.39744425e-13, 1.43731185e-13, 1.47818728e-13,\n",
       "       1.52009274e-13, 1.56305089e-13, 1.60708479e-13, 1.65221793e-13,\n",
       "       1.69847425e-13, 1.74587814e-13, 1.79445442e-13, 1.84422840e-13,\n",
       "       1.89522583e-13, 1.94747294e-13, 2.00099645e-13, 2.05582356e-13,\n",
       "       2.11198197e-13, 2.16949988e-13, 2.22840599e-13, 2.28872954e-13,\n",
       "       2.35050029e-13, 2.41374851e-13, 2.47850504e-13, 2.54480126e-13,\n",
       "       2.61266911e-13, 2.68214109e-13, 2.75325027e-13, 2.83395114e-13,\n",
       "       2.91706501e-13, 3.00236628e-13, 3.08990597e-13, 3.17973615e-13,\n",
       "       3.27190994e-13, 3.36648152e-13, 3.46350619e-13, 3.56304034e-13,\n",
       "       3.66514149e-13, 3.76986835e-13, 3.87728074e-13, 3.98743971e-13,\n",
       "       4.10040752e-13, 4.21624765e-13, 4.33502482e-13, 4.45680506e-13,\n",
       "       4.58165566e-13, 4.70964523e-13, 4.84084374e-13, 4.97532250e-13,\n",
       "       5.11315421e-13, 5.25441297e-13, 5.39917432e-13, 5.54751526e-13,\n",
       "       5.69951423e-13, 5.85525121e-13, 6.01480768e-13, 6.17826669e-13,\n",
       "       6.34571285e-13, 6.51723238e-13, 6.69291313e-13, 6.87284458e-13,\n",
       "       7.05711792e-13, 7.25571658e-13, 7.46884955e-13, 7.68765893e-13,\n",
       "       7.91228040e-13, 8.14285256e-13, 8.37951691e-13, 8.62241793e-13,\n",
       "       8.87170317e-13, 9.12752324e-13, 9.39003191e-13, 9.65938617e-13,\n",
       "       9.93574626e-13, 1.02192758e-12, 1.05101416e-12, 1.08085143e-12,\n",
       "       1.11145676e-12, 1.14284791e-12, 1.17504299e-12, 1.20806049e-12,\n",
       "       1.24191925e-12, 1.27663853e-12, 1.31223796e-12, 1.34873757e-12,\n",
       "       1.38615779e-12, 1.42451947e-12, 1.46384388e-12, 1.50415269e-12,\n",
       "       1.54546805e-12, 1.58781250e-12, 1.63120907e-12, 1.67568122e-12,\n",
       "       1.72125288e-12, 1.76794847e-12, 1.81579287e-12, 1.86512256e-12,\n",
       "       1.91998219e-12, 1.97631735e-12, 2.03416404e-12, 2.09355904e-12,\n",
       "       2.15453992e-12, 2.21714509e-12, 2.28141379e-12, 2.34738611e-12,\n",
       "       2.41510299e-12, 2.48460628e-12, 2.55593872e-12, 2.62914397e-12,\n",
       "       2.70426661e-12, 2.78135221e-12, 2.86044727e-12, 2.94159930e-12,\n",
       "       3.02485683e-12, 3.11026939e-12, 3.19788757e-12, 3.28776304e-12,\n",
       "       3.37994854e-12, 3.47449792e-12, 3.57146615e-12, 3.67090937e-12,\n",
       "       3.77288486e-12, 3.87745111e-12, 3.98466783e-12, 4.09459594e-12,\n",
       "       4.20729764e-12, 4.32283641e-12, 4.44127701e-12, 4.56268556e-12,\n",
       "       4.68712951e-12, 4.81467769e-12, 4.95225469e-12, 5.09775141e-12,\n",
       "       5.24718511e-12, 5.40065323e-12, 5.55825539e-12, 5.72009344e-12,\n",
       "       5.88627151e-12, 6.05689605e-12, 6.23207587e-12, 6.41192222e-12,\n",
       "       6.59654878e-12, 6.78607178e-12, 6.98060998e-12, 7.18028477e-12,\n",
       "       7.38522021e-12, 7.59554306e-12, 7.81138286e-12, 8.03287199e-12,\n",
       "       8.26014568e-12, 8.49334213e-12, 8.73260251e-12, 8.97807105e-12,\n",
       "       9.22989510e-12, 9.48822518e-12, 9.75321502e-12, 1.00250217e-11,\n",
       "       1.03038056e-11, 1.05897305e-11, 1.08829638e-11, 1.11836764e-11,\n",
       "       1.14920427e-11, 1.18082409e-11, 1.21324530e-11, 1.24648649e-11,\n",
       "       1.28102441e-11, 1.31870303e-11, 1.35740857e-11, 1.39716682e-11,\n",
       "       1.43800416e-11, 1.47994755e-11, 1.52302460e-11, 1.56726352e-11,\n",
       "       1.61269319e-11, 1.65934314e-11, 1.70724355e-11, 1.75642531e-11,\n",
       "       1.80691998e-11, 1.85875985e-11, 1.91197794e-11, 1.96660801e-11,\n",
       "       2.02268455e-11, 2.08024285e-11, 2.13931899e-11, 2.19994983e-11,\n",
       "       2.26217307e-11, 2.32602723e-11, 2.39155169e-11, 2.45878670e-11,\n",
       "       2.52777341e-11, 2.59855385e-11, 2.67117099e-11, 2.74566873e-11,\n",
       "       2.82209196e-11, 2.90048650e-11, 2.98089921e-11, 3.06337794e-11,\n",
       "       3.14797162e-11, 3.23473019e-11, 3.32370469e-11, 3.41973298e-11,\n",
       "       3.52021794e-11, 3.62345332e-11, 3.72950889e-11, 3.83845604e-11,\n",
       "       3.95036785e-11, 4.06531909e-11, 4.18338624e-11, 4.30464760e-11,\n",
       "       4.42918326e-11, 4.55707514e-11, 4.68840708e-11, 4.82326484e-11,\n",
       "       4.96173615e-11, 5.10391074e-11, 5.24988040e-11, 5.39973903e-11,\n",
       "       5.55358265e-11, 5.71150947e-11, 5.87361994e-11, 6.04001676e-11,\n",
       "       6.21080500e-11, 6.38609206e-11, 6.56598777e-11, 6.75060444e-11,\n",
       "       6.94005690e-11, 7.13446255e-11, 7.33394142e-11, 7.53861620e-11,\n",
       "       7.74861235e-11, 7.96405809e-11, 8.18508450e-11, 8.41182556e-11,\n",
       "       8.64441822e-11, 8.88744840e-11, 9.14885030e-11, 9.41744695e-11,\n",
       "       9.69342285e-11, 9.97696686e-11, 1.02682723e-10, 1.05675372e-10,\n",
       "       1.08749641e-10, 1.11907604e-10, 1.15151384e-10, 1.18483153e-10,\n",
       "       1.21905135e-10, 1.25419605e-10, 1.29028894e-10, 1.32735383e-10,\n",
       "       1.36541512e-10, 1.40449777e-10, 1.44462730e-10, 1.48582985e-10,\n",
       "       1.52813214e-10, 1.57156153e-10, 1.61614599e-10, 1.66191414e-10,\n",
       "       1.70889526e-10, 1.75711931e-10, 1.80661692e-10, 1.85741943e-10,\n",
       "       1.90955889e-10, 1.96306808e-10, 2.01798052e-10, 2.07433050e-10,\n",
       "       2.13215310e-10, 2.19148415e-10, 2.25236033e-10, 2.31481913e-10,\n",
       "       2.38226069e-10, 2.45226793e-10, 2.52420812e-10, 2.59813120e-10,\n",
       "       2.67408833e-10, 2.75213188e-10, 2.83231549e-10, 2.91469409e-10,\n",
       "       2.99932391e-10, 3.08626252e-10, 3.17556888e-10, 3.26730334e-10,\n",
       "       3.36152768e-10, 3.45830515e-10, 3.55770050e-10, 3.65978002e-10,\n",
       "       3.76461153e-10, 3.87226448e-10, 3.98280994e-10, 4.09632065e-10,\n",
       "       4.21287105e-10, 4.33253732e-10, 4.45539744e-10, 4.58153118e-10,\n",
       "       4.71102017e-10, 4.84394797e-10, 4.98040004e-10, 5.12046383e-10,\n",
       "       5.26422882e-10, 5.41178655e-10, 5.56323067e-10, 5.71865699e-10,\n",
       "       5.87816351e-10, 6.04185048e-10, 6.21361915e-10, 6.39637516e-10,\n",
       "       6.58419953e-10, 6.77722434e-10, 6.97558490e-10, 7.17941979e-10,\n",
       "       7.38887098e-10, 7.60408387e-10, 7.82520741e-10, 8.05239412e-10,\n",
       "       8.28580023e-10, 8.52558573e-10, 8.77191445e-10, 9.02495417e-10,\n",
       "       9.28487670e-10, 9.55185797e-10, 9.82607810e-10, 1.01077215e-09,\n",
       "       1.03969771e-09, 1.06940381e-09, 1.09991025e-09, 1.13123729e-09,\n",
       "       1.16340567e-09, 1.19643663e-09, 1.23035190e-09, 1.26517373e-09,\n",
       "       1.30092488e-09, 1.33762868e-09, 1.37530896e-09, 1.41399014e-09,\n",
       "       1.45369721e-09, 1.49445573e-09, 1.53629188e-09, 1.57923241e-09,\n",
       "       1.62330474e-09, 1.67091033e-09, 1.72001720e-09, 1.77048922e-09,\n",
       "       1.82236218e-09, 1.87567275e-09, 1.93045849e-09, 1.98675790e-09,\n",
       "       2.04461042e-09, 2.10405646e-09, 2.16513739e-09, 2.22789563e-09,\n",
       "       2.29237461e-09, 2.35861881e-09, 2.42667382e-09, 2.49658630e-09,\n",
       "       2.56840407e-09, 2.64217610e-09, 2.71795252e-09, 2.79578471e-09,\n",
       "       2.87572524e-09, 2.95782799e-09, 3.04214809e-09, 3.12874203e-09,\n",
       "       3.21766763e-09, 3.30898410e-09, 3.40275205e-09, 3.49903355e-09,\n",
       "       3.59789214e-09, 3.69939287e-09, 3.80360234e-09, 3.91058870e-09,\n",
       "       4.02042176e-09, 4.13317294e-09, 4.24891535e-09, 4.37078430e-09,\n",
       "       4.49933744e-09, 4.63147727e-09, 4.76729845e-09, 4.90689800e-09,\n",
       "       5.05037535e-09, 5.19783240e-09, 5.34937358e-09, 5.50510589e-09,\n",
       "       5.66513898e-09, 5.82958523e-09, 5.99855975e-09, 6.17218050e-09,\n",
       "       6.35056834e-09, 6.53384710e-09, 6.72214362e-09, 6.91558787e-09,\n",
       "       7.11431298e-09, 7.31845533e-09, 7.52815462e-09, 7.74355395e-09,\n",
       "       7.96479990e-09, 8.19204258e-09, 8.42543578e-09, 8.66513697e-09,\n",
       "       8.91130743e-09, 9.16411235e-09, 9.42372088e-09, 9.69030623e-09,\n",
       "       9.96404579e-09, 1.02451212e-08, 1.05337184e-08, 1.08300279e-08,\n",
       "       1.11342445e-08, 1.14471137e-08, 1.17840300e-08, 1.21303771e-08,\n",
       "       1.24864055e-08, 1.28523720e-08, 1.32285397e-08, 1.36151784e-08,\n",
       "       1.40125645e-08, 1.44209816e-08, 1.48407201e-08, 1.52720777e-08,\n",
       "       1.57153595e-08, 1.61708783e-08, 1.66389546e-08, 1.71199167e-08,\n",
       "       1.76141013e-08, 1.81218531e-08, 1.86435255e-08, 1.91794807e-08,\n",
       "       1.97300895e-08, 2.02957321e-08, 2.08767980e-08, 2.14736860e-08,\n",
       "       2.20868049e-08, 2.27165735e-08, 2.33634207e-08, 2.40277859e-08,\n",
       "       2.47101191e-08, 2.54108815e-08, 2.61305452e-08, 2.68695939e-08,\n",
       "       2.76285231e-08, 2.84078400e-08, 2.92080643e-08, 3.00297281e-08,\n",
       "       3.08972570e-08, 3.18059983e-08, 3.27402183e-08, 3.37005965e-08,\n",
       "       3.46878296e-08, 3.57026318e-08, 3.67457352e-08, 3.78178907e-08,\n",
       "       3.89198677e-08, 4.00524553e-08, 4.12164622e-08, 4.24127174e-08,\n",
       "       4.36420707e-08, 4.49053929e-08, 4.62035771e-08, 4.75375380e-08,\n",
       "       4.89082135e-08, 5.03165648e-08, 5.17635769e-08, 5.32502591e-08,\n",
       "       5.47776459e-08, 5.63467973e-08, 5.79587996e-08, 5.96147657e-08,\n",
       "       6.13158361e-08, 6.30631793e-08, 6.48579925e-08, 6.67015024e-08,\n",
       "       6.85949656e-08, 7.05396697e-08, 7.25369336e-08, 7.45881084e-08,\n",
       "       7.66945782e-08, 7.88577610e-08, 8.10932237e-08, 8.34798330e-08,\n",
       "       8.59335418e-08, 8.84561484e-08, 9.10494973e-08, 9.37154797e-08,\n",
       "       9.64560349e-08, 9.92731515e-08, 1.02168869e-07, 1.05145277e-07,\n",
       "       1.08204520e-07, 1.11348796e-07, 1.14580358e-07, 1.17901515e-07,\n",
       "       1.21314637e-07, 1.24822150e-07, 1.28426544e-07, 1.32130369e-07,\n",
       "       1.35936241e-07, 1.39846839e-07, 1.43864912e-07, 1.47993276e-07,\n",
       "       1.52234815e-07, 1.56592489e-07, 1.61069328e-07, 1.65668440e-07,\n",
       "       1.70393009e-07, 1.75246296e-07, 1.80231646e-07, 1.85352484e-07,\n",
       "       1.90612320e-07, 1.96014753e-07, 2.01563467e-07, 2.07262238e-07,\n",
       "       2.13114936e-07, 2.19308311e-07, 2.25758507e-07, 2.32390287e-07,\n",
       "       2.39208533e-07, 2.46218257e-07, 2.53424593e-07, 2.60832811e-07,\n",
       "       2.68448315e-07, 2.76276644e-07, 2.84323482e-07, 2.92594655e-07,\n",
       "       3.01096139e-07, 3.09834059e-07, 3.18814699e-07, 3.28044499e-07,\n",
       "       3.37530064e-07, 3.47278164e-07, 3.57295743e-07, 3.67589916e-07,\n",
       "       3.78167981e-07, 3.89037417e-07, 4.00205891e-07, 4.11681264e-07,\n",
       "       4.23471593e-07, 4.35585136e-07, 4.48030359e-07, 4.60815937e-07,\n",
       "       4.73950765e-07, 4.87443956e-07, 5.01304852e-07, 5.15543026e-07,\n",
       "       5.30168288e-07, 5.45190694e-07, 5.60620547e-07, 5.76629977e-07,\n",
       "       5.93599492e-07, 6.11047862e-07, 6.28988020e-07, 6.47433235e-07,\n",
       "       6.66397117e-07, 6.85893626e-07, 7.05937082e-07, 7.26542172e-07,\n",
       "       7.47723961e-07, 7.69497898e-07, 7.91879830e-07, 8.14886007e-07,\n",
       "       8.38533095e-07, 8.62838185e-07, 8.87818803e-07, 9.13492922e-07,\n",
       "       9.39878970e-07, 9.66995846e-07, 9.94862925e-07, 1.02350007e-06,\n",
       "       1.05292766e-06, 1.08316658e-06, 1.11423823e-06, 1.14616457e-06,\n",
       "       1.17896810e-06, 1.21267190e-06, 1.24729961e-06, 1.28287548e-06,\n",
       "       1.31942436e-06, 1.35697172e-06, 1.39554368e-06, 1.43516700e-06,\n",
       "       1.47586911e-06, 1.51767814e-06, 1.56200481e-06, 1.60794556e-06,\n",
       "       1.65518406e-06, 1.70375545e-06, 1.75369582e-06, 1.80504215e-06,\n",
       "       1.85783240e-06, 1.91210551e-06, 1.96790142e-06, 2.02526111e-06,\n",
       "       2.08422659e-06, 2.14484099e-06, 2.20714850e-06, 2.27119450e-06,\n",
       "       2.33702548e-06, 2.40468916e-06, 2.47423446e-06, 2.54571156e-06,\n",
       "       2.61917192e-06, 2.69466829e-06, 2.77225481e-06, 2.85198695e-06,\n",
       "       2.93392163e-06, 3.01811717e-06, 3.10463341e-06, 3.19353169e-06,\n",
       "       3.28487490e-06, 3.37872752e-06, 3.47515565e-06, 3.57422709e-06,\n",
       "       3.67601130e-06, 3.78057952e-06, 3.88800478e-06, 3.99836193e-06,\n",
       "       4.11325210e-06, 4.23429425e-06, 4.35876271e-06, 4.48675063e-06,\n",
       "       4.61835359e-06, 4.75366967e-06, 4.89279949e-06, 5.03584630e-06,\n",
       "       5.18291600e-06, 5.33411728e-06, 5.48956162e-06, 5.64936337e-06,\n",
       "       5.81363987e-06, 5.98251146e-06, 6.15610161e-06, 6.33453695e-06,\n",
       "       6.51794737e-06, 6.70646612e-06, 6.90022985e-06, 7.09937873e-06,\n",
       "       7.30405651e-06, 7.51441063e-06, 7.73059229e-06, 7.95275657e-06,\n",
       "       8.18106249e-06, 8.41567313e-06, 8.65675573e-06, 8.90448176e-06,\n",
       "       9.15902708e-06, 9.42057199e-06, 9.68930137e-06, 9.96540479e-06,\n",
       "       1.02490766e-05, 1.05405161e-05, 1.08399275e-05, 1.11578820e-05,\n",
       "       1.14860496e-05, 1.18235145e-05, 1.21705302e-05, 1.25273566e-05,\n",
       "       1.28942607e-05, 1.32715161e-05, 1.36594039e-05, 1.40582122e-05,\n",
       "       1.44682369e-05, 1.48897814e-05, 1.53231570e-05, 1.57686831e-05,\n",
       "       1.62266875e-05, 1.66975064e-05, 1.71814847e-05, 1.76789761e-05,\n",
       "       1.81903436e-05, 1.87159597e-05, 1.92562060e-05, 1.98114745e-05,\n",
       "       2.03821670e-05, 2.09686955e-05, 2.15714828e-05, 2.21909625e-05,\n",
       "       2.28275792e-05, 2.34817890e-05, 2.41540596e-05, 2.48448706e-05,\n",
       "       2.55547140e-05, 2.62840941e-05, 2.70335282e-05, 2.78035467e-05,\n",
       "       2.85946936e-05, 2.94207223e-05, 3.02864606e-05, 3.11767710e-05,\n",
       "       3.20923252e-05, 3.30338127e-05, 3.40019412e-05, 3.49974368e-05,\n",
       "       3.60210449e-05, 3.70735301e-05, 3.81556772e-05, 3.92682916e-05,\n",
       "       4.04121996e-05, 4.15882489e-05, 4.27973097e-05, 4.40402745e-05,\n",
       "       4.53180592e-05, 4.66316035e-05, 4.79818714e-05, 4.93698520e-05,\n",
       "       5.07965599e-05, 5.22630361e-05, 5.37703485e-05, 5.53195924e-05,\n",
       "       5.69118917e-05, 5.85483989e-05, 6.02302964e-05, 6.19587971e-05,\n",
       "       6.37351449e-05, 6.55606157e-05, 6.74365182e-05, 6.93641945e-05,\n",
       "       7.13450211e-05, 7.33804099e-05, 7.54718086e-05, 7.76207021e-05])"
      ]
     },
     "execution_count": 69,
     "metadata": {},
     "output_type": "execute_result"
    }
   ],
   "source": [
    "maximum"
   ]
  },
  {
   "cell_type": "code",
   "execution_count": null,
   "metadata": {},
   "outputs": [],
   "source": []
  },
  {
   "cell_type": "code",
   "execution_count": 35,
   "metadata": {},
   "outputs": [
    {
     "data": {
      "text/plain": [
       "8.714501145746933e-13"
      ]
     },
     "execution_count": 35,
     "metadata": {},
     "output_type": "execute_result"
    }
   ],
   "source": [
    "1e-16*TE(11.2j)[1]"
   ]
  },
  {
   "cell_type": "code",
   "execution_count": 9,
   "metadata": {},
   "outputs": [],
   "source": [
    "import jax.numpy as jnp\n",
    "import jax"
   ]
  },
  {
   "cell_type": "code",
   "execution_count": 10,
   "metadata": {},
   "outputs": [],
   "source": [
    "def customize_c(psi_N,psi_T):\n",
    "    return 1-jnp.linalg.norm(psi_N-psi_T)"
   ]
  },
  {
   "cell_type": "code",
   "execution_count": 73,
   "metadata": {},
   "outputs": [
    {
     "ename": "TypeError",
     "evalue": "grad with holomorphic=True requires outputs with complex dtype, but got float32.",
     "output_type": "error",
     "traceback": [
      "\u001b[0;31m---------------------------------------------------------------------------\u001b[0m",
      "\u001b[0;31mUnfilteredStackTrace\u001b[0m                      Traceback (most recent call last)",
      "\u001b[0;32m<ipython-input-73-90026869911f>\u001b[0m in \u001b[0;36m<module>\u001b[0;34m\u001b[0m\n\u001b[1;32m      2\u001b[0m \u001b[0ml2_dist_sq\u001b[0m \u001b[0;34m=\u001b[0m \u001b[0;32mlambda\u001b[0m \u001b[0mz\u001b[0m\u001b[0;34m:\u001b[0m \u001b[0mjnp\u001b[0m\u001b[0;34m.\u001b[0m\u001b[0mabs\u001b[0m\u001b[0;34m(\u001b[0m\u001b[0mz\u001b[0m\u001b[0;34m+\u001b[0m\u001b[0;36m1\u001b[0m\u001b[0;34m)\u001b[0m\u001b[0;34m**\u001b[0m\u001b[0;36m2\u001b[0m\u001b[0;34m\u001b[0m\u001b[0;34m\u001b[0m\u001b[0m\n\u001b[0;32m----> 3\u001b[0;31m \u001b[0mjax\u001b[0m\u001b[0;34m.\u001b[0m\u001b[0mgrad\u001b[0m\u001b[0;34m(\u001b[0m\u001b[0ml2_dist_sq\u001b[0m\u001b[0;34m,\u001b[0m\u001b[0mholomorphic\u001b[0m\u001b[0;34m=\u001b[0m\u001b[0;32mTrue\u001b[0m\u001b[0;34m)\u001b[0m\u001b[0;34m(\u001b[0m\u001b[0;36m0\u001b[0m\u001b[0;34m-\u001b[0m\u001b[0;36m1j\u001b[0m\u001b[0;34m*\u001b[0m\u001b[0mx\u001b[0m\u001b[0;34m)\u001b[0m\u001b[0;34m\u001b[0m\u001b[0;34m\u001b[0m\u001b[0m\n\u001b[0m",
      "    \u001b[0;31m[... skipping hidden 1 frame]\u001b[0m\n",
      "\u001b[0;32m~/miniconda3/envs/python36/lib/python3.6/site-packages/jax/_src/api.py\u001b[0m in \u001b[0;36mgrad_f\u001b[0;34m(*args, **kwargs)\u001b[0m\n\u001b[1;32m    828\u001b[0m   \u001b[0;32mdef\u001b[0m \u001b[0mgrad_f\u001b[0m\u001b[0;34m(\u001b[0m\u001b[0;34m*\u001b[0m\u001b[0margs\u001b[0m\u001b[0;34m,\u001b[0m \u001b[0;34m**\u001b[0m\u001b[0mkwargs\u001b[0m\u001b[0;34m)\u001b[0m\u001b[0;34m:\u001b[0m\u001b[0;34m\u001b[0m\u001b[0;34m\u001b[0m\u001b[0m\n\u001b[0;32m--> 829\u001b[0;31m     \u001b[0m_\u001b[0m\u001b[0;34m,\u001b[0m \u001b[0mg\u001b[0m \u001b[0;34m=\u001b[0m \u001b[0mvalue_and_grad_f\u001b[0m\u001b[0;34m(\u001b[0m\u001b[0;34m*\u001b[0m\u001b[0margs\u001b[0m\u001b[0;34m,\u001b[0m \u001b[0;34m**\u001b[0m\u001b[0mkwargs\u001b[0m\u001b[0;34m)\u001b[0m\u001b[0;34m\u001b[0m\u001b[0;34m\u001b[0m\u001b[0m\n\u001b[0m\u001b[1;32m    830\u001b[0m     \u001b[0;32mreturn\u001b[0m \u001b[0mg\u001b[0m\u001b[0;34m\u001b[0m\u001b[0;34m\u001b[0m\u001b[0m\n",
      "    \u001b[0;31m[... skipping hidden 1 frame]\u001b[0m\n",
      "\u001b[0;32m~/miniconda3/envs/python36/lib/python3.6/site-packages/jax/_src/api.py\u001b[0m in \u001b[0;36mvalue_and_grad_f\u001b[0;34m(*args, **kwargs)\u001b[0m\n\u001b[1;32m    906\u001b[0m     \u001b[0mdtype\u001b[0m \u001b[0;34m=\u001b[0m \u001b[0mdtypes\u001b[0m\u001b[0;34m.\u001b[0m\u001b[0mresult_type\u001b[0m\u001b[0;34m(\u001b[0m\u001b[0mans\u001b[0m\u001b[0;34m)\u001b[0m\u001b[0;34m\u001b[0m\u001b[0;34m\u001b[0m\u001b[0m\n\u001b[0;32m--> 907\u001b[0;31m     \u001b[0mtree_map\u001b[0m\u001b[0;34m(\u001b[0m\u001b[0mpartial\u001b[0m\u001b[0;34m(\u001b[0m\u001b[0m_check_output_dtype_grad\u001b[0m\u001b[0;34m,\u001b[0m \u001b[0mholomorphic\u001b[0m\u001b[0;34m)\u001b[0m\u001b[0;34m,\u001b[0m \u001b[0mans\u001b[0m\u001b[0;34m)\u001b[0m\u001b[0;34m\u001b[0m\u001b[0;34m\u001b[0m\u001b[0m\n\u001b[0m\u001b[1;32m    908\u001b[0m     \u001b[0mg\u001b[0m \u001b[0;34m=\u001b[0m \u001b[0mvjp_py\u001b[0m\u001b[0;34m(\u001b[0m\u001b[0mnp\u001b[0m\u001b[0;34m.\u001b[0m\u001b[0mones\u001b[0m\u001b[0;34m(\u001b[0m\u001b[0;34m(\u001b[0m\u001b[0;34m)\u001b[0m\u001b[0;34m,\u001b[0m \u001b[0mdtype\u001b[0m\u001b[0;34m=\u001b[0m\u001b[0mdtype\u001b[0m\u001b[0;34m)\u001b[0m\u001b[0;34m)\u001b[0m\u001b[0;34m\u001b[0m\u001b[0;34m\u001b[0m\u001b[0m\n",
      "\u001b[0;32m~/miniconda3/envs/python36/lib/python3.6/site-packages/jax/_src/tree_util.py\u001b[0m in \u001b[0;36mtree_map\u001b[0;34m(f, tree, is_leaf, *rest)\u001b[0m\n\u001b[1;32m    167\u001b[0m   \u001b[0mall_leaves\u001b[0m \u001b[0;34m=\u001b[0m \u001b[0;34m[\u001b[0m\u001b[0mleaves\u001b[0m\u001b[0;34m]\u001b[0m \u001b[0;34m+\u001b[0m \u001b[0;34m[\u001b[0m\u001b[0mtreedef\u001b[0m\u001b[0;34m.\u001b[0m\u001b[0mflatten_up_to\u001b[0m\u001b[0;34m(\u001b[0m\u001b[0mr\u001b[0m\u001b[0;34m)\u001b[0m \u001b[0;32mfor\u001b[0m \u001b[0mr\u001b[0m \u001b[0;32min\u001b[0m \u001b[0mrest\u001b[0m\u001b[0;34m]\u001b[0m\u001b[0;34m\u001b[0m\u001b[0;34m\u001b[0m\u001b[0m\n\u001b[0;32m--> 168\u001b[0;31m   \u001b[0;32mreturn\u001b[0m \u001b[0mtreedef\u001b[0m\u001b[0;34m.\u001b[0m\u001b[0munflatten\u001b[0m\u001b[0;34m(\u001b[0m\u001b[0mf\u001b[0m\u001b[0;34m(\u001b[0m\u001b[0;34m*\u001b[0m\u001b[0mxs\u001b[0m\u001b[0;34m)\u001b[0m \u001b[0;32mfor\u001b[0m \u001b[0mxs\u001b[0m \u001b[0;32min\u001b[0m \u001b[0mzip\u001b[0m\u001b[0;34m(\u001b[0m\u001b[0;34m*\u001b[0m\u001b[0mall_leaves\u001b[0m\u001b[0;34m)\u001b[0m\u001b[0;34m)\u001b[0m\u001b[0;34m\u001b[0m\u001b[0;34m\u001b[0m\u001b[0m\n\u001b[0m\u001b[1;32m    169\u001b[0m \u001b[0;34m\u001b[0m\u001b[0m\n",
      "\u001b[0;32m~/miniconda3/envs/python36/lib/python3.6/site-packages/jax/_src/tree_util.py\u001b[0m in \u001b[0;36m<genexpr>\u001b[0;34m(.0)\u001b[0m\n\u001b[1;32m    167\u001b[0m   \u001b[0mall_leaves\u001b[0m \u001b[0;34m=\u001b[0m \u001b[0;34m[\u001b[0m\u001b[0mleaves\u001b[0m\u001b[0;34m]\u001b[0m \u001b[0;34m+\u001b[0m \u001b[0;34m[\u001b[0m\u001b[0mtreedef\u001b[0m\u001b[0;34m.\u001b[0m\u001b[0mflatten_up_to\u001b[0m\u001b[0;34m(\u001b[0m\u001b[0mr\u001b[0m\u001b[0;34m)\u001b[0m \u001b[0;32mfor\u001b[0m \u001b[0mr\u001b[0m \u001b[0;32min\u001b[0m \u001b[0mrest\u001b[0m\u001b[0;34m]\u001b[0m\u001b[0;34m\u001b[0m\u001b[0;34m\u001b[0m\u001b[0m\n\u001b[0;32m--> 168\u001b[0;31m   \u001b[0;32mreturn\u001b[0m \u001b[0mtreedef\u001b[0m\u001b[0;34m.\u001b[0m\u001b[0munflatten\u001b[0m\u001b[0;34m(\u001b[0m\u001b[0mf\u001b[0m\u001b[0;34m(\u001b[0m\u001b[0;34m*\u001b[0m\u001b[0mxs\u001b[0m\u001b[0;34m)\u001b[0m \u001b[0;32mfor\u001b[0m \u001b[0mxs\u001b[0m \u001b[0;32min\u001b[0m \u001b[0mzip\u001b[0m\u001b[0;34m(\u001b[0m\u001b[0;34m*\u001b[0m\u001b[0mall_leaves\u001b[0m\u001b[0;34m)\u001b[0m\u001b[0;34m)\u001b[0m\u001b[0;34m\u001b[0m\u001b[0;34m\u001b[0m\u001b[0m\n\u001b[0m\u001b[1;32m    169\u001b[0m \u001b[0;34m\u001b[0m\u001b[0m\n",
      "\u001b[0;32m~/miniconda3/envs/python36/lib/python3.6/site-packages/jax/_src/api.py\u001b[0m in \u001b[0;36m_check_output_dtype_revderiv\u001b[0;34m(name, holomorphic, x)\u001b[0m\n\u001b[1;32m    948\u001b[0m     \u001b[0;32mif\u001b[0m \u001b[0;32mnot\u001b[0m \u001b[0mdtypes\u001b[0m\u001b[0;34m.\u001b[0m\u001b[0missubdtype\u001b[0m\u001b[0;34m(\u001b[0m\u001b[0maval\u001b[0m\u001b[0;34m.\u001b[0m\u001b[0mdtype\u001b[0m\u001b[0;34m,\u001b[0m \u001b[0mnp\u001b[0m\u001b[0;34m.\u001b[0m\u001b[0mcomplexfloating\u001b[0m\u001b[0;34m)\u001b[0m\u001b[0;34m:\u001b[0m\u001b[0;34m\u001b[0m\u001b[0;34m\u001b[0m\u001b[0m\n\u001b[0;32m--> 949\u001b[0;31m       raise TypeError(f\"{name} with holomorphic=True requires outputs with complex dtype, \"\n\u001b[0m\u001b[1;32m    950\u001b[0m                       f\"but got {aval.dtype.name}.\")\n",
      "\u001b[0;31mUnfilteredStackTrace\u001b[0m: TypeError: grad with holomorphic=True requires outputs with complex dtype, but got float32.\n\nThe stack trace below excludes JAX-internal frames.\nThe preceding is the original exception that occurred, unmodified.\n\n--------------------",
      "\nThe above exception was the direct cause of the following exception:\n",
      "\u001b[0;31mTypeError\u001b[0m                                 Traceback (most recent call last)",
      "\u001b[0;32m<ipython-input-73-90026869911f>\u001b[0m in \u001b[0;36m<module>\u001b[0;34m\u001b[0m\n\u001b[1;32m      1\u001b[0m \u001b[0mx\u001b[0m \u001b[0;34m=\u001b[0m \u001b[0;36m1\u001b[0m\u001b[0;34m\u001b[0m\u001b[0;34m\u001b[0m\u001b[0m\n\u001b[1;32m      2\u001b[0m \u001b[0ml2_dist_sq\u001b[0m \u001b[0;34m=\u001b[0m \u001b[0;32mlambda\u001b[0m \u001b[0mz\u001b[0m\u001b[0;34m:\u001b[0m \u001b[0mjnp\u001b[0m\u001b[0;34m.\u001b[0m\u001b[0mabs\u001b[0m\u001b[0;34m(\u001b[0m\u001b[0mz\u001b[0m\u001b[0;34m+\u001b[0m\u001b[0;36m1\u001b[0m\u001b[0;34m)\u001b[0m\u001b[0;34m**\u001b[0m\u001b[0;36m2\u001b[0m\u001b[0;34m\u001b[0m\u001b[0;34m\u001b[0m\u001b[0m\n\u001b[0;32m----> 3\u001b[0;31m \u001b[0mjax\u001b[0m\u001b[0;34m.\u001b[0m\u001b[0mgrad\u001b[0m\u001b[0;34m(\u001b[0m\u001b[0ml2_dist_sq\u001b[0m\u001b[0;34m,\u001b[0m\u001b[0mholomorphic\u001b[0m\u001b[0;34m=\u001b[0m\u001b[0;32mTrue\u001b[0m\u001b[0;34m)\u001b[0m\u001b[0;34m(\u001b[0m\u001b[0;36m0\u001b[0m\u001b[0;34m-\u001b[0m\u001b[0;36m1j\u001b[0m\u001b[0;34m*\u001b[0m\u001b[0mx\u001b[0m\u001b[0;34m)\u001b[0m\u001b[0;34m\u001b[0m\u001b[0;34m\u001b[0m\u001b[0m\n\u001b[0m",
      "\u001b[0;32m~/miniconda3/envs/python36/lib/python3.6/site-packages/jax/_src/api.py\u001b[0m in \u001b[0;36m_check_output_dtype_revderiv\u001b[0;34m(name, holomorphic, x)\u001b[0m\n\u001b[1;32m    947\u001b[0m   \u001b[0;32mif\u001b[0m \u001b[0mholomorphic\u001b[0m\u001b[0;34m:\u001b[0m\u001b[0;34m\u001b[0m\u001b[0;34m\u001b[0m\u001b[0m\n\u001b[1;32m    948\u001b[0m     \u001b[0;32mif\u001b[0m \u001b[0;32mnot\u001b[0m \u001b[0mdtypes\u001b[0m\u001b[0;34m.\u001b[0m\u001b[0missubdtype\u001b[0m\u001b[0;34m(\u001b[0m\u001b[0maval\u001b[0m\u001b[0;34m.\u001b[0m\u001b[0mdtype\u001b[0m\u001b[0;34m,\u001b[0m \u001b[0mnp\u001b[0m\u001b[0;34m.\u001b[0m\u001b[0mcomplexfloating\u001b[0m\u001b[0;34m)\u001b[0m\u001b[0;34m:\u001b[0m\u001b[0;34m\u001b[0m\u001b[0;34m\u001b[0m\u001b[0m\n\u001b[0;32m--> 949\u001b[0;31m       raise TypeError(f\"{name} with holomorphic=True requires outputs with complex dtype, \"\n\u001b[0m\u001b[1;32m    950\u001b[0m                       f\"but got {aval.dtype.name}.\")\n\u001b[1;32m    951\u001b[0m   \u001b[0;32melif\u001b[0m \u001b[0;32mnot\u001b[0m \u001b[0mdtypes\u001b[0m\u001b[0;34m.\u001b[0m\u001b[0missubdtype\u001b[0m\u001b[0;34m(\u001b[0m\u001b[0maval\u001b[0m\u001b[0;34m.\u001b[0m\u001b[0mdtype\u001b[0m\u001b[0;34m,\u001b[0m \u001b[0mnp\u001b[0m\u001b[0;34m.\u001b[0m\u001b[0mfloating\u001b[0m\u001b[0;34m)\u001b[0m\u001b[0;34m:\u001b[0m\u001b[0;34m\u001b[0m\u001b[0;34m\u001b[0m\u001b[0m\n",
      "\u001b[0;31mTypeError\u001b[0m: grad with holomorphic=True requires outputs with complex dtype, but got float32."
     ]
    }
   ],
   "source": [
    "x = 1\n",
    "l2_dist_sq = lambda z: jnp.abs(z+1)**2\n",
    "jax.grad(l2_dist_sq,holomorphic=True)(0-1j*x)"
   ]
  },
  {
   "cell_type": "code",
   "execution_count": 70,
   "metadata": {},
   "outputs": [
    {
     "ename": "TypeError",
     "evalue": "grad with holomorphic=True requires outputs with complex dtype, but got float32.",
     "output_type": "error",
     "traceback": [
      "\u001b[0;31m---------------------------------------------------------------------------\u001b[0m",
      "\u001b[0;31mUnfilteredStackTrace\u001b[0m                      Traceback (most recent call last)",
      "\u001b[0;32m<ipython-input-70-ea58a24ceeb0>\u001b[0m in \u001b[0;36m<module>\u001b[0;34m\u001b[0m\n\u001b[1;32m      5\u001b[0m \u001b[0mz\u001b[0m \u001b[0;34m=\u001b[0m \u001b[0;36m3.\u001b[0m \u001b[0;34m+\u001b[0m\u001b[0;36m1j\u001b[0m\u001b[0;34m\u001b[0m\u001b[0;34m\u001b[0m\u001b[0m\n\u001b[0;32m----> 6\u001b[0;31m \u001b[0mjax\u001b[0m\u001b[0;34m.\u001b[0m\u001b[0mgrad\u001b[0m\u001b[0;34m(\u001b[0m\u001b[0mf\u001b[0m\u001b[0;34m,\u001b[0m\u001b[0mholomorphic\u001b[0m\u001b[0;34m=\u001b[0m\u001b[0;32mTrue\u001b[0m\u001b[0;34m)\u001b[0m\u001b[0;34m(\u001b[0m\u001b[0mz\u001b[0m\u001b[0;34m)\u001b[0m\u001b[0;34m\u001b[0m\u001b[0;34m\u001b[0m\u001b[0m\n\u001b[0m",
      "    \u001b[0;31m[... skipping hidden 1 frame]\u001b[0m\n",
      "\u001b[0;32m~/miniconda3/envs/python36/lib/python3.6/site-packages/jax/_src/api.py\u001b[0m in \u001b[0;36mgrad_f\u001b[0;34m(*args, **kwargs)\u001b[0m\n\u001b[1;32m    828\u001b[0m   \u001b[0;32mdef\u001b[0m \u001b[0mgrad_f\u001b[0m\u001b[0;34m(\u001b[0m\u001b[0;34m*\u001b[0m\u001b[0margs\u001b[0m\u001b[0;34m,\u001b[0m \u001b[0;34m**\u001b[0m\u001b[0mkwargs\u001b[0m\u001b[0;34m)\u001b[0m\u001b[0;34m:\u001b[0m\u001b[0;34m\u001b[0m\u001b[0;34m\u001b[0m\u001b[0m\n\u001b[0;32m--> 829\u001b[0;31m     \u001b[0m_\u001b[0m\u001b[0;34m,\u001b[0m \u001b[0mg\u001b[0m \u001b[0;34m=\u001b[0m \u001b[0mvalue_and_grad_f\u001b[0m\u001b[0;34m(\u001b[0m\u001b[0;34m*\u001b[0m\u001b[0margs\u001b[0m\u001b[0;34m,\u001b[0m \u001b[0;34m**\u001b[0m\u001b[0mkwargs\u001b[0m\u001b[0;34m)\u001b[0m\u001b[0;34m\u001b[0m\u001b[0;34m\u001b[0m\u001b[0m\n\u001b[0m\u001b[1;32m    830\u001b[0m     \u001b[0;32mreturn\u001b[0m \u001b[0mg\u001b[0m\u001b[0;34m\u001b[0m\u001b[0;34m\u001b[0m\u001b[0m\n",
      "    \u001b[0;31m[... skipping hidden 1 frame]\u001b[0m\n",
      "\u001b[0;32m~/miniconda3/envs/python36/lib/python3.6/site-packages/jax/_src/api.py\u001b[0m in \u001b[0;36mvalue_and_grad_f\u001b[0;34m(*args, **kwargs)\u001b[0m\n\u001b[1;32m    906\u001b[0m     \u001b[0mdtype\u001b[0m \u001b[0;34m=\u001b[0m \u001b[0mdtypes\u001b[0m\u001b[0;34m.\u001b[0m\u001b[0mresult_type\u001b[0m\u001b[0;34m(\u001b[0m\u001b[0mans\u001b[0m\u001b[0;34m)\u001b[0m\u001b[0;34m\u001b[0m\u001b[0;34m\u001b[0m\u001b[0m\n\u001b[0;32m--> 907\u001b[0;31m     \u001b[0mtree_map\u001b[0m\u001b[0;34m(\u001b[0m\u001b[0mpartial\u001b[0m\u001b[0;34m(\u001b[0m\u001b[0m_check_output_dtype_grad\u001b[0m\u001b[0;34m,\u001b[0m \u001b[0mholomorphic\u001b[0m\u001b[0;34m)\u001b[0m\u001b[0;34m,\u001b[0m \u001b[0mans\u001b[0m\u001b[0;34m)\u001b[0m\u001b[0;34m\u001b[0m\u001b[0;34m\u001b[0m\u001b[0m\n\u001b[0m\u001b[1;32m    908\u001b[0m     \u001b[0mg\u001b[0m \u001b[0;34m=\u001b[0m \u001b[0mvjp_py\u001b[0m\u001b[0;34m(\u001b[0m\u001b[0mnp\u001b[0m\u001b[0;34m.\u001b[0m\u001b[0mones\u001b[0m\u001b[0;34m(\u001b[0m\u001b[0;34m(\u001b[0m\u001b[0;34m)\u001b[0m\u001b[0;34m,\u001b[0m \u001b[0mdtype\u001b[0m\u001b[0;34m=\u001b[0m\u001b[0mdtype\u001b[0m\u001b[0;34m)\u001b[0m\u001b[0;34m)\u001b[0m\u001b[0;34m\u001b[0m\u001b[0;34m\u001b[0m\u001b[0m\n",
      "\u001b[0;32m~/miniconda3/envs/python36/lib/python3.6/site-packages/jax/_src/tree_util.py\u001b[0m in \u001b[0;36mtree_map\u001b[0;34m(f, tree, is_leaf, *rest)\u001b[0m\n\u001b[1;32m    167\u001b[0m   \u001b[0mall_leaves\u001b[0m \u001b[0;34m=\u001b[0m \u001b[0;34m[\u001b[0m\u001b[0mleaves\u001b[0m\u001b[0;34m]\u001b[0m \u001b[0;34m+\u001b[0m \u001b[0;34m[\u001b[0m\u001b[0mtreedef\u001b[0m\u001b[0;34m.\u001b[0m\u001b[0mflatten_up_to\u001b[0m\u001b[0;34m(\u001b[0m\u001b[0mr\u001b[0m\u001b[0;34m)\u001b[0m \u001b[0;32mfor\u001b[0m \u001b[0mr\u001b[0m \u001b[0;32min\u001b[0m \u001b[0mrest\u001b[0m\u001b[0;34m]\u001b[0m\u001b[0;34m\u001b[0m\u001b[0;34m\u001b[0m\u001b[0m\n\u001b[0;32m--> 168\u001b[0;31m   \u001b[0;32mreturn\u001b[0m \u001b[0mtreedef\u001b[0m\u001b[0;34m.\u001b[0m\u001b[0munflatten\u001b[0m\u001b[0;34m(\u001b[0m\u001b[0mf\u001b[0m\u001b[0;34m(\u001b[0m\u001b[0;34m*\u001b[0m\u001b[0mxs\u001b[0m\u001b[0;34m)\u001b[0m \u001b[0;32mfor\u001b[0m \u001b[0mxs\u001b[0m \u001b[0;32min\u001b[0m \u001b[0mzip\u001b[0m\u001b[0;34m(\u001b[0m\u001b[0;34m*\u001b[0m\u001b[0mall_leaves\u001b[0m\u001b[0;34m)\u001b[0m\u001b[0;34m)\u001b[0m\u001b[0;34m\u001b[0m\u001b[0;34m\u001b[0m\u001b[0m\n\u001b[0m\u001b[1;32m    169\u001b[0m \u001b[0;34m\u001b[0m\u001b[0m\n",
      "\u001b[0;32m~/miniconda3/envs/python36/lib/python3.6/site-packages/jax/_src/tree_util.py\u001b[0m in \u001b[0;36m<genexpr>\u001b[0;34m(.0)\u001b[0m\n\u001b[1;32m    167\u001b[0m   \u001b[0mall_leaves\u001b[0m \u001b[0;34m=\u001b[0m \u001b[0;34m[\u001b[0m\u001b[0mleaves\u001b[0m\u001b[0;34m]\u001b[0m \u001b[0;34m+\u001b[0m \u001b[0;34m[\u001b[0m\u001b[0mtreedef\u001b[0m\u001b[0;34m.\u001b[0m\u001b[0mflatten_up_to\u001b[0m\u001b[0;34m(\u001b[0m\u001b[0mr\u001b[0m\u001b[0;34m)\u001b[0m \u001b[0;32mfor\u001b[0m \u001b[0mr\u001b[0m \u001b[0;32min\u001b[0m \u001b[0mrest\u001b[0m\u001b[0;34m]\u001b[0m\u001b[0;34m\u001b[0m\u001b[0;34m\u001b[0m\u001b[0m\n\u001b[0;32m--> 168\u001b[0;31m   \u001b[0;32mreturn\u001b[0m \u001b[0mtreedef\u001b[0m\u001b[0;34m.\u001b[0m\u001b[0munflatten\u001b[0m\u001b[0;34m(\u001b[0m\u001b[0mf\u001b[0m\u001b[0;34m(\u001b[0m\u001b[0;34m*\u001b[0m\u001b[0mxs\u001b[0m\u001b[0;34m)\u001b[0m \u001b[0;32mfor\u001b[0m \u001b[0mxs\u001b[0m \u001b[0;32min\u001b[0m \u001b[0mzip\u001b[0m\u001b[0;34m(\u001b[0m\u001b[0;34m*\u001b[0m\u001b[0mall_leaves\u001b[0m\u001b[0;34m)\u001b[0m\u001b[0;34m)\u001b[0m\u001b[0;34m\u001b[0m\u001b[0;34m\u001b[0m\u001b[0m\n\u001b[0m\u001b[1;32m    169\u001b[0m \u001b[0;34m\u001b[0m\u001b[0m\n",
      "\u001b[0;32m~/miniconda3/envs/python36/lib/python3.6/site-packages/jax/_src/api.py\u001b[0m in \u001b[0;36m_check_output_dtype_revderiv\u001b[0;34m(name, holomorphic, x)\u001b[0m\n\u001b[1;32m    948\u001b[0m     \u001b[0;32mif\u001b[0m \u001b[0;32mnot\u001b[0m \u001b[0mdtypes\u001b[0m\u001b[0;34m.\u001b[0m\u001b[0missubdtype\u001b[0m\u001b[0;34m(\u001b[0m\u001b[0maval\u001b[0m\u001b[0;34m.\u001b[0m\u001b[0mdtype\u001b[0m\u001b[0;34m,\u001b[0m \u001b[0mnp\u001b[0m\u001b[0;34m.\u001b[0m\u001b[0mcomplexfloating\u001b[0m\u001b[0;34m)\u001b[0m\u001b[0;34m:\u001b[0m\u001b[0;34m\u001b[0m\u001b[0;34m\u001b[0m\u001b[0m\n\u001b[0;32m--> 949\u001b[0;31m       raise TypeError(f\"{name} with holomorphic=True requires outputs with complex dtype, \"\n\u001b[0m\u001b[1;32m    950\u001b[0m                       f\"but got {aval.dtype.name}.\")\n",
      "\u001b[0;31mUnfilteredStackTrace\u001b[0m: TypeError: grad with holomorphic=True requires outputs with complex dtype, but got float32.\n\nThe stack trace below excludes JAX-internal frames.\nThe preceding is the original exception that occurred, unmodified.\n\n--------------------",
      "\nThe above exception was the direct cause of the following exception:\n",
      "\u001b[0;31mTypeError\u001b[0m                                 Traceback (most recent call last)",
      "\u001b[0;32m<ipython-input-70-ea58a24ceeb0>\u001b[0m in \u001b[0;36m<module>\u001b[0;34m\u001b[0m\n\u001b[1;32m      4\u001b[0m \u001b[0;34m\u001b[0m\u001b[0m\n\u001b[1;32m      5\u001b[0m \u001b[0mz\u001b[0m \u001b[0;34m=\u001b[0m \u001b[0;36m3.\u001b[0m \u001b[0;34m+\u001b[0m\u001b[0;36m1j\u001b[0m\u001b[0;34m\u001b[0m\u001b[0;34m\u001b[0m\u001b[0m\n\u001b[0;32m----> 6\u001b[0;31m \u001b[0mjax\u001b[0m\u001b[0;34m.\u001b[0m\u001b[0mgrad\u001b[0m\u001b[0;34m(\u001b[0m\u001b[0mf\u001b[0m\u001b[0;34m,\u001b[0m\u001b[0mholomorphic\u001b[0m\u001b[0;34m=\u001b[0m\u001b[0;32mTrue\u001b[0m\u001b[0;34m)\u001b[0m\u001b[0;34m(\u001b[0m\u001b[0mz\u001b[0m\u001b[0;34m)\u001b[0m\u001b[0;34m\u001b[0m\u001b[0;34m\u001b[0m\u001b[0m\n\u001b[0m",
      "\u001b[0;32m~/miniconda3/envs/python36/lib/python3.6/site-packages/jax/_src/api.py\u001b[0m in \u001b[0;36m_check_output_dtype_revderiv\u001b[0;34m(name, holomorphic, x)\u001b[0m\n\u001b[1;32m    947\u001b[0m   \u001b[0;32mif\u001b[0m \u001b[0mholomorphic\u001b[0m\u001b[0;34m:\u001b[0m\u001b[0;34m\u001b[0m\u001b[0;34m\u001b[0m\u001b[0m\n\u001b[1;32m    948\u001b[0m     \u001b[0;32mif\u001b[0m \u001b[0;32mnot\u001b[0m \u001b[0mdtypes\u001b[0m\u001b[0;34m.\u001b[0m\u001b[0missubdtype\u001b[0m\u001b[0;34m(\u001b[0m\u001b[0maval\u001b[0m\u001b[0;34m.\u001b[0m\u001b[0mdtype\u001b[0m\u001b[0;34m,\u001b[0m \u001b[0mnp\u001b[0m\u001b[0;34m.\u001b[0m\u001b[0mcomplexfloating\u001b[0m\u001b[0;34m)\u001b[0m\u001b[0;34m:\u001b[0m\u001b[0;34m\u001b[0m\u001b[0;34m\u001b[0m\u001b[0m\n\u001b[0;32m--> 949\u001b[0;31m       raise TypeError(f\"{name} with holomorphic=True requires outputs with complex dtype, \"\n\u001b[0m\u001b[1;32m    950\u001b[0m                       f\"but got {aval.dtype.name}.\")\n\u001b[1;32m    951\u001b[0m   \u001b[0;32melif\u001b[0m \u001b[0;32mnot\u001b[0m \u001b[0mdtypes\u001b[0m\u001b[0;34m.\u001b[0m\u001b[0missubdtype\u001b[0m\u001b[0;34m(\u001b[0m\u001b[0maval\u001b[0m\u001b[0;34m.\u001b[0m\u001b[0mdtype\u001b[0m\u001b[0;34m,\u001b[0m \u001b[0mnp\u001b[0m\u001b[0;34m.\u001b[0m\u001b[0mfloating\u001b[0m\u001b[0;34m)\u001b[0m\u001b[0;34m:\u001b[0m\u001b[0;34m\u001b[0m\u001b[0;34m\u001b[0m\u001b[0m\n",
      "\u001b[0;31mTypeError\u001b[0m: grad with holomorphic=True requires outputs with complex dtype, but got float32."
     ]
    }
   ],
   "source": [
    "def f(z):\n",
    "    x, y = jnp.real(z), jnp.imag(z)\n",
    "    return x + x*y**2\n",
    "\n",
    "z = 3. +1j\n",
    "jax.grad(f,holomorphic=True)(z)"
   ]
  },
  {
   "cell_type": "code",
   "execution_count": 72,
   "metadata": {},
   "outputs": [
    {
     "data": {
      "text/plain": [
       "DeviceArray([[-0.7534186  +0.j      , -3.0509028 -10.940545j,\n",
       "               5.9896846  +3.542303j],\n",
       "             [-3.0509028 +10.940545j, -8.904491   +0.j      ,\n",
       "              -5.1351523  -6.559373j],\n",
       "             [ 5.9896846  -3.542303j, -5.1351523  +6.559373j,\n",
       "               0.01320427 +0.j      ]], dtype=complex64)"
      ]
     },
     "execution_count": 72,
     "metadata": {},
     "output_type": "execute_result"
    }
   ],
   "source": [
    "A = jnp.array([[5.,    2.+3j,    5j],\n",
    "              [2.-3j,   7.,  1.+7j],\n",
    "              [-5j,  1.-7j,    12.]])\n",
    "\n",
    "def f(X):\n",
    "    L = jnp.linalg.cholesky(X)\n",
    "    return jnp.sum((L - jnp.sin(L))**2)\n",
    "\n",
    "jax.grad(f, holomorphic=True)(A)"
   ]
  },
  {
   "cell_type": "code",
   "execution_count": null,
   "metadata": {},
   "outputs": [],
   "source": [
    "u = 1.11e-16\n",
    "def gamma_fa(n):\n",
    "    return n*u/(1-n*u)\n",
    "def beta(norm,m,n):\n",
    "    beta=gamma_fa(m+1)\n",
    "    r = 1\n",
    "    for i in range(1,m):\n",
    "        r=r*norm/i\n",
    "        g = gamma_fa(i*(n+2)+m+2)\n",
    "        beta = beta+g*r\n",
    "    return beta\n",
    "def error(norm_A,m,s):]\n",
    "    n=1000\n",
    "    rd=beta(norm_A/s,m,n)\n",
    "    a=1\n",
    "    tr=0\n",
    "    for i in range(1,1000):\n",
    "        a=a*norm_A/s/i\n",
    "        if i>=m+1:\n",
    "            tr=tr+a\n",
    "    rd=np.power((1+rd+tr),s)-np.power((1+tr),s)\n",
    "    tr=tr*s\n",
    "    tr=tr*((1-np.power(tr,s))/(1-tr))\n",
    "    return tr+rd"
   ]
  },
  {
   "cell_type": "code",
   "execution_count": 485,
   "metadata": {},
   "outputs": [],
   "source": [
    "\n",
    "def gamma_fa(n):\n",
    "    u = 1.11e-16\n",
    "    return n*u/(1-n*u)\n",
    "def beta(norm,m,n):\n",
    "    beta=gamma_fa(m+1)\n",
    "    r = 1\n",
    "    for i in range(1,m):\n",
    "        r=r*norm/i\n",
    "        g = gamma_fa(i*(n+2)+m+2)\n",
    "        beta = beta+g*r\n",
    "    return beta\n",
    "def error(norm_A,m,s,n):\n",
    "    rd=beta(norm_A/s,m,n)\n",
    "    a=1\n",
    "    tr=0\n",
    "    for i in range(1,1000):\n",
    "        a=a*norm_A/s/i\n",
    "        if i>=m+1:\n",
    "            tr=tr+a\n",
    "    rd=np.power((1+rd+tr),s)-np.power((1+tr),s)\n",
    "    tr=tr*s\n",
    "    tr=tr*((1-np.power(tr,s))/(1-tr))\n",
    "    return tr+rd\n",
    "def choose_ms(norm_A,d,tol):\n",
    "    no_solution=True\n",
    "    for i in range(np.floor(norm_A)):\n",
    "        for j in range(100):\n",
    "            if error(norm_A,i,j)<tol:\n",
    "                no_solution = False\n",
    "                s=i\n",
    "                m=j\n",
    "                break\n",
    "    if no_solution==False:\n",
    "        return s,m\n",
    "    if no_solution == True:\n",
    "        raise ValueError(\"please lower the error tolerance \")\n",
    "def _exact_inf_norm(A):\n",
    "    # A compatibility function which should eventually disappear.\n",
    "    if sci.sparse.isspmatrix(A):\n",
    "        return max(abs(A).sum(axis=1).flat)\n",
    "    else:\n",
    "        return np.linalg.norm(A, np.inf)\n",
    "def max_row_number(sparse_matrix):\n",
    "    row_indice=sparse_matrix.nonzero()[0]\n",
    "    indice_count=1\n",
    "    max_count=1\n",
    "    for i in range(len(row_indice)): \n",
    "        if i==0:\n",
    "            indice=row_indice[0]\n",
    "        else:\n",
    "            if indice==row_indice[i]:\n",
    "                indice_count=indice_count+1\n",
    "            else:\n",
    "                if indice_count>max_count:\n",
    "                    max_count=indice_count\n",
    "                indice=row_indice[i]\n",
    "                indice_count=1\n",
    "    return max_count\n",
    "def expm_fullm(A, B, tol=None):\n",
    "    \"\"\"\n",
    "    A helper function.\n",
    "    \"\"\"\n",
    "    if tol is None:\n",
    "        tol =1e-5\n",
    "    if sci.sparse.isspmatrix(A):\n",
    "        d=len(A)\n",
    "    else:\n",
    "        d=max_row_number(A)\n",
    "    norm_A = _exact_inf_norm(A)\n",
    "    s,m=choose_ms(norm_A,d,tol)\n",
    "    for i in range(int(s)):\n",
    "        for j in range(m):\n",
    "            coeff = s*(j+1)\n",
    "            B =  A.dot(B)/coeff\n",
    "            F = F + B\n",
    "        B = F\n",
    "    return F"
   ]
  },
  {
   "cell_type": "code",
   "execution_count": null,
   "metadata": {},
   "outputs": [],
   "source": [
    "def _expm_multiply_simple_core_global(A, B, tol=None):\n",
    "    \"\"\"\n",
    "    A helper function.\n",
    "    \"\"\"\n",
    "    if tol is None:\n",
    "        tol =1e-5\n",
    "    if sci.sparse.isspmatrix(A):\n",
    "        d=len(A)\n",
    "    else:\n",
    "        d=max_row_number(A)\n",
    "    norm_A = _exact_inf_norm(A)\n",
    "    s,m=choose_ms(norm_A,d,tol)\n",
    "    F = B\n",
    "\n",
    "    c1 = _exact_1_norm(B)\n",
    "    j=0\n",
    "    while(1):\n",
    "        coeff = s*(j+1)\n",
    "        B =  A.dot(B)/coeff\n",
    "        c2 = _exact_1_norm(B)\n",
    "        F = F + B\n",
    "        total_norm=norm_state(F)\n",
    "        if (c1+c2)<tol*total_norm:\n",
    "            m=j+1\n",
    "            break\n",
    "        c1 = c2\n",
    "        j=j+1\n",
    "    F =  F\n",
    "    B = F\n",
    "    for i in range(1,int(s)):\n",
    "        c1=c2\n",
    "        for j in range(m):\n",
    "            coeff = s*(j+1)\n",
    "            B =  A.dot(B)/coeff\n",
    "            F = F + B\n",
    "        F =  F\n",
    "        B = F\n",
    "    return F"
   ]
  },
  {
   "cell_type": "code",
   "execution_count": 486,
   "metadata": {},
   "outputs": [],
   "source": []
  },
  {
   "cell_type": "code",
   "execution_count": 472,
   "metadata": {},
   "outputs": [
    {
     "data": {
      "text/plain": [
       "100.0"
      ]
     },
     "execution_count": 472,
     "metadata": {},
     "output_type": "execute_result"
    }
   ],
   "source": [
    "np.floor(100.5)"
   ]
  },
  {
   "cell_type": "code",
   "execution_count": 602,
   "metadata": {},
   "outputs": [],
   "source": [
    "def error(norm_A,m,s):\n",
    "    tol=1e-12\n",
    "    n=1000\n",
    "    rd=beta(norm_A/s,m,n)\n",
    "    a=1\n",
    "    tr=0\n",
    "    for i in range(1,1000):\n",
    "        a=a*norm_A/s/i\n",
    "        if i>=m+1:\n",
    "            tr=tr+a\n",
    "    rd=np.power((1+rd+tr),s)-np.power((1+tr),s)\n",
    "    tr=tr*s\n",
    "    tr=tr*((1-np.power(tr,s))/(1-tr))\n",
    "    return tr+rd-tol"
   ]
  },
  {
   "cell_type": "code",
   "execution_count": 603,
   "metadata": {},
   "outputs": [
    {
     "data": {
      "text/plain": [
       "9.700651521915968e-09"
      ]
     },
     "execution_count": 603,
     "metadata": {},
     "output_type": "execute_result"
    }
   ],
   "source": [
    "error(56.44,33,8)"
   ]
  },
  {
   "cell_type": "code",
   "execution_count": 604,
   "metadata": {},
   "outputs": [],
   "source": [
    "sci_table=np.array([0.13,1, 2.2, 3.6,\n",
    "        4.9, 6.3, 7.7, 9.1,\n",
    "        11, 12, 13])\n",
    "def determine_ms(norm_A):\n",
    "    s=1\n",
    "    m=0\n",
    "    norm_B=norm_A\n",
    "    while(1):\n",
    "        for i in range(len(sci_table)):\n",
    "            if norm_B<=sci_table[i]:\n",
    "                m=5*(i+1)\n",
    "                break  \n",
    "        if m==0:\n",
    "            s=s+1\n",
    "            norm_B=norm_A/s\n",
    "        else:\n",
    "            break\n",
    "    scipy_ms=m*s\n",
    "    s=1\n",
    "    m=0\n",
    "    norm_B=norm_A\n",
    "    for s in range(1,1000):\n",
    "        for m in range(1,100):\n",
    "            totalerror=error(norm_A,m,s)\n",
    "            if totalerror<=0:\n",
    "                break\n",
    "        if totalerror<=0:\n",
    "                break  \n",
    "    print(\"scipy: \"+str(scipy_ms)+ \" me \"+str(m*s))\n",
    "    return s,m"
   ]
  },
  {
   "cell_type": "code",
   "execution_count": 605,
   "metadata": {},
   "outputs": [
    {
     "name": "stderr",
     "output_type": "stream",
     "text": [
      "<ipython-input-602-b12f20b9cb8e>:13: RuntimeWarning: overflow encountered in power\n",
      "  tr=tr*((1-np.power(tr,s))/(1-tr))\n"
     ]
    },
    {
     "name": "stdout",
     "output_type": "stream",
     "text": [
      "scipy: 350 me 98901\n"
     ]
    },
    {
     "data": {
      "text/plain": [
       "(999, 99)"
      ]
     },
     "execution_count": 605,
     "metadata": {},
     "output_type": "execute_result"
    }
   ],
   "source": [
    "determine_ms(80)"
   ]
  },
  {
   "cell_type": "code",
   "execution_count": 503,
   "metadata": {},
   "outputs": [
    {
     "ename": "KeyboardInterrupt",
     "evalue": "",
     "output_type": "error",
     "traceback": [
      "\u001b[0;31m---------------------------------------------------------------------------\u001b[0m",
      "\u001b[0;31mKeyboardInterrupt\u001b[0m                         Traceback (most recent call last)",
      "\u001b[0;32m<ipython-input-503-2c246445a67a>\u001b[0m in \u001b[0;36m<module>\u001b[0;34m\u001b[0m\n\u001b[1;32m      2\u001b[0m \u001b[0mme_ms\u001b[0m\u001b[0;34m=\u001b[0m\u001b[0;34m[\u001b[0m\u001b[0;34m]\u001b[0m\u001b[0;34m\u001b[0m\u001b[0;34m\u001b[0m\u001b[0m\n\u001b[1;32m      3\u001b[0m \u001b[0;32mfor\u001b[0m \u001b[0mi\u001b[0m \u001b[0;32min\u001b[0m \u001b[0mrange\u001b[0m\u001b[0;34m(\u001b[0m\u001b[0;36m1\u001b[0m\u001b[0;34m,\u001b[0m\u001b[0;36m130\u001b[0m\u001b[0;34m)\u001b[0m\u001b[0;34m:\u001b[0m\u001b[0;34m\u001b[0m\u001b[0;34m\u001b[0m\u001b[0m\n\u001b[0;32m----> 4\u001b[0;31m     \u001b[0mresult\u001b[0m\u001b[0;34m=\u001b[0m\u001b[0mdetermine_ms\u001b[0m\u001b[0;34m(\u001b[0m\u001b[0mi\u001b[0m\u001b[0;34m)\u001b[0m\u001b[0;34m\u001b[0m\u001b[0;34m\u001b[0m\u001b[0m\n\u001b[0m\u001b[1;32m      5\u001b[0m     \u001b[0mscipy_ms\u001b[0m\u001b[0;34m.\u001b[0m\u001b[0mappend\u001b[0m\u001b[0;34m(\u001b[0m\u001b[0mresult\u001b[0m\u001b[0;34m[\u001b[0m\u001b[0;36m0\u001b[0m\u001b[0;34m]\u001b[0m\u001b[0;34m)\u001b[0m\u001b[0;34m\u001b[0m\u001b[0;34m\u001b[0m\u001b[0m\n\u001b[1;32m      6\u001b[0m     \u001b[0mme_ms\u001b[0m\u001b[0;34m.\u001b[0m\u001b[0mappend\u001b[0m\u001b[0;34m(\u001b[0m\u001b[0mresult\u001b[0m\u001b[0;34m[\u001b[0m\u001b[0;36m1\u001b[0m\u001b[0;34m]\u001b[0m\u001b[0;34m)\u001b[0m\u001b[0;34m\u001b[0m\u001b[0;34m\u001b[0m\u001b[0m\n",
      "\u001b[0;32m<ipython-input-501-ec194308788b>\u001b[0m in \u001b[0;36mdetermine_ms\u001b[0;34m(norm_A)\u001b[0m\n\u001b[1;32m     22\u001b[0m     \u001b[0;32mfor\u001b[0m \u001b[0ms\u001b[0m \u001b[0;32min\u001b[0m \u001b[0mrange\u001b[0m\u001b[0;34m(\u001b[0m\u001b[0;36m1\u001b[0m\u001b[0;34m,\u001b[0m\u001b[0;36m1000\u001b[0m\u001b[0;34m)\u001b[0m\u001b[0;34m:\u001b[0m\u001b[0;34m\u001b[0m\u001b[0;34m\u001b[0m\u001b[0m\n\u001b[1;32m     23\u001b[0m         \u001b[0;32mfor\u001b[0m \u001b[0mm\u001b[0m \u001b[0;32min\u001b[0m \u001b[0mrange\u001b[0m\u001b[0;34m(\u001b[0m\u001b[0;36m1\u001b[0m\u001b[0;34m,\u001b[0m\u001b[0;36m100\u001b[0m\u001b[0;34m)\u001b[0m\u001b[0;34m:\u001b[0m\u001b[0;34m\u001b[0m\u001b[0;34m\u001b[0m\u001b[0m\n\u001b[0;32m---> 24\u001b[0;31m             \u001b[0mtotalerror\u001b[0m\u001b[0;34m=\u001b[0m\u001b[0merror\u001b[0m\u001b[0;34m(\u001b[0m\u001b[0mnorm_A\u001b[0m\u001b[0;34m,\u001b[0m\u001b[0mm\u001b[0m\u001b[0;34m,\u001b[0m\u001b[0ms\u001b[0m\u001b[0;34m,\u001b[0m\u001b[0;36m5\u001b[0m\u001b[0;34m)\u001b[0m\u001b[0;34m\u001b[0m\u001b[0;34m\u001b[0m\u001b[0m\n\u001b[0m\u001b[1;32m     25\u001b[0m             \u001b[0;32mif\u001b[0m \u001b[0mtotalerror\u001b[0m\u001b[0;34m<=\u001b[0m\u001b[0;36m0\u001b[0m\u001b[0;34m:\u001b[0m\u001b[0;34m\u001b[0m\u001b[0;34m\u001b[0m\u001b[0m\n\u001b[1;32m     26\u001b[0m                 \u001b[0;32mbreak\u001b[0m\u001b[0;34m\u001b[0m\u001b[0;34m\u001b[0m\u001b[0m\n",
      "\u001b[0;32m<ipython-input-485-9c8a7e56413a>\u001b[0m in \u001b[0;36merror\u001b[0;34m(norm_A, m, s, n)\u001b[0m\n\u001b[1;32m     17\u001b[0m         \u001b[0ma\u001b[0m\u001b[0;34m=\u001b[0m\u001b[0ma\u001b[0m\u001b[0;34m*\u001b[0m\u001b[0mnorm_A\u001b[0m\u001b[0;34m/\u001b[0m\u001b[0ms\u001b[0m\u001b[0;34m/\u001b[0m\u001b[0mi\u001b[0m\u001b[0;34m\u001b[0m\u001b[0;34m\u001b[0m\u001b[0m\n\u001b[1;32m     18\u001b[0m         \u001b[0;32mif\u001b[0m \u001b[0mi\u001b[0m\u001b[0;34m>=\u001b[0m\u001b[0mm\u001b[0m\u001b[0;34m+\u001b[0m\u001b[0;36m1\u001b[0m\u001b[0;34m:\u001b[0m\u001b[0;34m\u001b[0m\u001b[0;34m\u001b[0m\u001b[0m\n\u001b[0;32m---> 19\u001b[0;31m             \u001b[0mtr\u001b[0m\u001b[0;34m=\u001b[0m\u001b[0mtr\u001b[0m\u001b[0;34m+\u001b[0m\u001b[0ma\u001b[0m\u001b[0;34m\u001b[0m\u001b[0;34m\u001b[0m\u001b[0m\n\u001b[0m\u001b[1;32m     20\u001b[0m     \u001b[0mrd\u001b[0m\u001b[0;34m=\u001b[0m\u001b[0mnp\u001b[0m\u001b[0;34m.\u001b[0m\u001b[0mpower\u001b[0m\u001b[0;34m(\u001b[0m\u001b[0;34m(\u001b[0m\u001b[0;36m1\u001b[0m\u001b[0;34m+\u001b[0m\u001b[0mrd\u001b[0m\u001b[0;34m+\u001b[0m\u001b[0mtr\u001b[0m\u001b[0;34m)\u001b[0m\u001b[0;34m,\u001b[0m\u001b[0ms\u001b[0m\u001b[0;34m)\u001b[0m\u001b[0;34m-\u001b[0m\u001b[0mnp\u001b[0m\u001b[0;34m.\u001b[0m\u001b[0mpower\u001b[0m\u001b[0;34m(\u001b[0m\u001b[0;34m(\u001b[0m\u001b[0;36m1\u001b[0m\u001b[0;34m+\u001b[0m\u001b[0mtr\u001b[0m\u001b[0;34m)\u001b[0m\u001b[0;34m,\u001b[0m\u001b[0ms\u001b[0m\u001b[0;34m)\u001b[0m\u001b[0;34m\u001b[0m\u001b[0;34m\u001b[0m\u001b[0m\n\u001b[1;32m     21\u001b[0m     \u001b[0mtr\u001b[0m\u001b[0;34m=\u001b[0m\u001b[0mtr\u001b[0m\u001b[0;34m*\u001b[0m\u001b[0ms\u001b[0m\u001b[0;34m\u001b[0m\u001b[0;34m\u001b[0m\u001b[0m\n",
      "\u001b[0;31mKeyboardInterrupt\u001b[0m: "
     ]
    }
   ],
   "source": [
    "scipy_ms=[]\n",
    "me_ms=[]\n",
    "for i in range(1,130): \n",
    "    result=determine_ms(i)\n",
    "    scipy_ms.append(result[0])\n",
    "    me_ms.append(result[1])"
   ]
  },
  {
   "cell_type": "code",
   "execution_count": 445,
   "metadata": {},
   "outputs": [
    {
     "data": {
      "text/plain": [
       "[<matplotlib.lines.Line2D at 0x11a8ea460>]"
      ]
     },
     "execution_count": 445,
     "metadata": {},
     "output_type": "execute_result"
    },
    {
     "data": {
      "image/png": "[encoded data removed]",
      "text/plain": [
       "<Figure size 432x288 with 1 Axes>"
      ]
     },
     "metadata": {
      "needs_background": "light"
     },
     "output_type": "display_data"
    }
   ],
   "source": [
    "plt.plot((np.array(scipy_ms)-np.array(me_ms))/np.array(scipy_ms))"
   ]
  },
  {
   "cell_type": "code",
   "execution_count": null,
   "metadata": {},
   "outputs": [],
   "source": [
    "for i in range(300,310):\n",
    "    print(i)\n",
    "    determine_ms(i)"
   ]
  },
  {
   "cell_type": "code",
   "execution_count": 668,
   "metadata": {},
   "outputs": [],
   "source": [
    "\n",
    "def t_error(norm_A,m,s):\n",
    "    tol=1e-5\n",
    "    n=5\n",
    "    rd=beta(norm_A/s,m,n)\n",
    "    a=1\n",
    "    tr=0\n",
    "    for i in range(1,1000):\n",
    "        a=a*norm_A/s/i\n",
    "        if i>=m+1:\n",
    "            tr=tr+a\n",
    "    rd=np.power((1+rd+tr),s)-np.power((1+tr),s)\n",
    "    tr=tr*s\n",
    "    tr=tr*((1-np.power(tr,s))/(1-tr))\n",
    "    return tr+rd\n",
    "def ms(norm_A):\n",
    "    maximum_s=80\n",
    "    ms=np.zeros(maximum_s-1)\n",
    "    mm=np.zeros(maximum_s-1)\n",
    "    ss=np.zeros(maximum_s-1)\n",
    "    for s in range(1,maximum_s):\n",
    "        m=1\n",
    "        while(1):\n",
    "            if m==1:\n",
    "                total_error_prime=t_error(norm_A,1,s)\n",
    "            total_error = t_error(norm_A,m,s)\n",
    "            if total_error<=1e-5:\n",
    "                no_solution=False\n",
    "                break\n",
    "            if (total_error > total_error_prime):\n",
    "                no_solution=True\n",
    "                break\n",
    "            total_error_prime=total_error\n",
    "            m=m+1\n",
    "        if (no_solution==True):\n",
    "            ms[s-1]=\"nan\"\n",
    "        else:\n",
    "            ms[s-1]=s*m\n",
    "            mm[s-1]=m\n",
    "            ss[s-1]=s\n",
    "    return ms,mm,ss"
   ]
  },
  {
   "cell_type": "code",
   "execution_count": 669,
   "metadata": {},
   "outputs": [
    {
     "data": {
      "text/plain": [
       "9.975229727664404e-12"
      ]
     },
     "execution_count": 669,
     "metadata": {},
     "output_type": "execute_result"
    }
   ],
   "source": [
    "t_error(414.750316,24,165)"
   ]
  },
  {
   "cell_type": "code",
   "execution_count": 665,
   "metadata": {},
   "outputs": [
    {
     "data": {
      "text/plain": [
       "array([ 0.,  0., 46., 37., 31., 27., 25., 23., 21., 20., 18., 18., 17.,\n",
       "       16., 15., 15., 14., 14., 14., 13., 13., 13., 12., 12., 12., 12.,\n",
       "       12., 11., 11., 11., 11., 11., 11., 10., 10., 10., 10., 10., 10.,\n",
       "       10., 10., 10.,  9.,  9.,  9.,  9.,  9.,  9.,  9.,  9.,  9.,  9.,\n",
       "        9.,  9.,  9.,  9.,  8.,  8.,  8.,  8.,  8.,  8.,  8.,  8.,  8.,\n",
       "        8.,  8.,  8.,  8.,  8.,  8.,  8.,  8.,  8.,  8.,  8.,  8.,  8.,\n",
       "        8.])"
      ]
     },
     "execution_count": 665,
     "metadata": {},
     "output_type": "execute_result"
    }
   ],
   "source": [
    "ms(41.4750316)[1]"
   ]
  },
  {
   "cell_type": "code",
   "execution_count": 666,
   "metadata": {},
   "outputs": [
    {
     "name": "stderr",
     "output_type": "stream",
     "text": [
      "<ipython-input-663-c94aea2f5dc5>:13: RuntimeWarning: overflow encountered in power\n",
      "  tr=tr*((1-np.power(tr,s))/(1-tr))\n"
     ]
    },
    {
     "data": {
      "text/plain": [
       "array([ 0.,  0.,  0.,  0.,  0.,  0.,  0.,  0.,  0.,  0.,  0.,  0.,  0.,\n",
       "        0.,  0.,  0.,  0.,  0.,  0.,  0.,  0.,  0.,  0.,  0., 56., 54.,\n",
       "       52., 50., 49., 48., 46., 45., 44., 43., 42., 41., 41., 40., 39.,\n",
       "       38., 38., 37., 36., 36., 35., 35., 34., 34., 33., 33., 32., 32.,\n",
       "       31., 31., 30., 30., 30., 29., 29., 29., 28., 28., 28., 28., 27.,\n",
       "       27., 27., 26., 26., 26., 26., 25., 25., 25., 25., 25., 24., 24.,\n",
       "       24.])"
      ]
     },
     "execution_count": 666,
     "metadata": {},
     "output_type": "execute_result"
    }
   ],
   "source": [
    "ms(410)[1]"
   ]
  },
  {
   "cell_type": "code",
   "execution_count": 497,
   "metadata": {},
   "outputs": [
    {
     "data": {
      "text/plain": [
       "array([ nan,  nan,  nan,  nan, 225., 234., 252., 264., 270., 280., 297.,\n",
       "       312., 312., 322., 345., 352., 357., 378., 380., 380., 399., 418.,\n",
       "       414., 432., 450., 442., 459., 476., 464., 480., 496., 512., 495.,\n",
       "       510., 525., 540., 555., 570., 546.])"
      ]
     },
     "execution_count": 497,
     "metadata": {},
     "output_type": "execute_result"
    }
   ],
   "source": [
    "ms(56.44)[0]"
   ]
  },
  {
   "cell_type": "code",
   "execution_count": 350,
   "metadata": {
    "scrolled": false
   },
   "outputs": [
    {
     "ename": "KeyboardInterrupt",
     "evalue": "",
     "output_type": "error",
     "traceback": [
      "\u001b[0;31m---------------------------------------------------------------------------\u001b[0m",
      "\u001b[0;31mKeyboardInterrupt\u001b[0m                         Traceback (most recent call last)",
      "\u001b[0;32m<ipython-input-350-7a00a0be82b1>\u001b[0m in \u001b[0;36m<module>\u001b[0;34m\u001b[0m\n\u001b[1;32m      3\u001b[0m \u001b[0mms_table\u001b[0m\u001b[0;34m=\u001b[0m\u001b[0;34m[\u001b[0m\u001b[0;34m]\u001b[0m\u001b[0;34m\u001b[0m\u001b[0;34m\u001b[0m\u001b[0m\n\u001b[1;32m      4\u001b[0m \u001b[0;32mfor\u001b[0m \u001b[0mnorm\u001b[0m \u001b[0;32min\u001b[0m \u001b[0mnorms\u001b[0m\u001b[0;34m:\u001b[0m\u001b[0;34m\u001b[0m\u001b[0;34m\u001b[0m\u001b[0m\n\u001b[0;32m----> 5\u001b[0;31m     \u001b[0ma\u001b[0m\u001b[0;34m=\u001b[0m\u001b[0mms\u001b[0m\u001b[0;34m(\u001b[0m\u001b[0mnorm\u001b[0m\u001b[0;34m)\u001b[0m\u001b[0;34m\u001b[0m\u001b[0;34m\u001b[0m\u001b[0m\n\u001b[0m\u001b[1;32m      6\u001b[0m     \u001b[0mms_table\u001b[0m\u001b[0;34m.\u001b[0m\u001b[0mappend\u001b[0m\u001b[0;34m(\u001b[0m\u001b[0ma\u001b[0m\u001b[0;34m)\u001b[0m\u001b[0;34m\u001b[0m\u001b[0;34m\u001b[0m\u001b[0m\n\u001b[1;32m      7\u001b[0m     \u001b[0mindex\u001b[0m\u001b[0;34m=\u001b[0m\u001b[0;34m[\u001b[0m\u001b[0;34m]\u001b[0m\u001b[0;34m\u001b[0m\u001b[0;34m\u001b[0m\u001b[0m\n",
      "\u001b[0;32m<ipython-input-349-4d2788f86e3a>\u001b[0m in \u001b[0;36mms\u001b[0;34m(norm_A)\u001b[0m\n\u001b[1;32m     20\u001b[0m     \u001b[0;32mfor\u001b[0m \u001b[0ms\u001b[0m \u001b[0;32min\u001b[0m \u001b[0mrange\u001b[0m\u001b[0;34m(\u001b[0m\u001b[0;36m1\u001b[0m\u001b[0;34m,\u001b[0m\u001b[0mmaximum_s\u001b[0m\u001b[0;34m)\u001b[0m\u001b[0;34m:\u001b[0m\u001b[0;34m\u001b[0m\u001b[0;34m\u001b[0m\u001b[0m\n\u001b[1;32m     21\u001b[0m         \u001b[0;32mwhile\u001b[0m\u001b[0;34m(\u001b[0m\u001b[0;36m1\u001b[0m\u001b[0;34m)\u001b[0m\u001b[0;34m:\u001b[0m\u001b[0;34m\u001b[0m\u001b[0;34m\u001b[0m\u001b[0m\n\u001b[0;32m---> 22\u001b[0;31m             \u001b[0mtotal_error\u001b[0m \u001b[0;34m=\u001b[0m \u001b[0mt_error\u001b[0m\u001b[0;34m(\u001b[0m\u001b[0mnorm_A\u001b[0m\u001b[0;34m,\u001b[0m\u001b[0mm\u001b[0m\u001b[0;34m,\u001b[0m\u001b[0ms\u001b[0m\u001b[0;34m)\u001b[0m\u001b[0;34m\u001b[0m\u001b[0;34m\u001b[0m\u001b[0m\n\u001b[0m\u001b[1;32m     23\u001b[0m             \u001b[0;32mif\u001b[0m \u001b[0mtotal_error\u001b[0m\u001b[0;34m<=\u001b[0m\u001b[0;36m5e-8\u001b[0m\u001b[0;34m:\u001b[0m\u001b[0;34m\u001b[0m\u001b[0;34m\u001b[0m\u001b[0m\n\u001b[1;32m     24\u001b[0m                 \u001b[0mno_solution\u001b[0m\u001b[0;34m=\u001b[0m\u001b[0;32mFalse\u001b[0m\u001b[0;34m\u001b[0m\u001b[0;34m\u001b[0m\u001b[0m\n",
      "\u001b[0;32m<ipython-input-349-4d2788f86e3a>\u001b[0m in \u001b[0;36mt_error\u001b[0;34m(norm_A, m, s)\u001b[0m\n\u001b[1;32m      2\u001b[0m     \u001b[0mtol\u001b[0m\u001b[0;34m=\u001b[0m\u001b[0;36m5.96e-8\u001b[0m\u001b[0;34m\u001b[0m\u001b[0;34m\u001b[0m\u001b[0m\n\u001b[1;32m      3\u001b[0m     \u001b[0mn\u001b[0m\u001b[0;34m=\u001b[0m\u001b[0;36m1000\u001b[0m\u001b[0;34m\u001b[0m\u001b[0;34m\u001b[0m\u001b[0m\n\u001b[0;32m----> 4\u001b[0;31m     \u001b[0mrd\u001b[0m\u001b[0;34m=\u001b[0m\u001b[0mbeta\u001b[0m\u001b[0;34m(\u001b[0m\u001b[0mnorm_A\u001b[0m\u001b[0;34m/\u001b[0m\u001b[0ms\u001b[0m\u001b[0;34m,\u001b[0m\u001b[0mm\u001b[0m\u001b[0;34m,\u001b[0m\u001b[0mn\u001b[0m\u001b[0;34m)\u001b[0m\u001b[0;34m\u001b[0m\u001b[0;34m\u001b[0m\u001b[0m\n\u001b[0m\u001b[1;32m      5\u001b[0m     \u001b[0ma\u001b[0m\u001b[0;34m=\u001b[0m\u001b[0;36m1\u001b[0m\u001b[0;34m\u001b[0m\u001b[0;34m\u001b[0m\u001b[0m\n\u001b[1;32m      6\u001b[0m     \u001b[0mtr\u001b[0m\u001b[0;34m=\u001b[0m\u001b[0;36m0\u001b[0m\u001b[0;34m\u001b[0m\u001b[0;34m\u001b[0m\u001b[0m\n",
      "\u001b[0;32m<ipython-input-335-8e3a97eb77d3>\u001b[0m in \u001b[0;36mbeta\u001b[0;34m(norm, m, n)\u001b[0m\n\u001b[1;32m      7\u001b[0m     \u001b[0;32mfor\u001b[0m \u001b[0mi\u001b[0m \u001b[0;32min\u001b[0m \u001b[0mrange\u001b[0m\u001b[0;34m(\u001b[0m\u001b[0;36m1\u001b[0m\u001b[0;34m,\u001b[0m\u001b[0mm\u001b[0m\u001b[0;34m)\u001b[0m\u001b[0;34m:\u001b[0m\u001b[0;34m\u001b[0m\u001b[0;34m\u001b[0m\u001b[0m\n\u001b[1;32m      8\u001b[0m         \u001b[0mr\u001b[0m\u001b[0;34m=\u001b[0m\u001b[0mr\u001b[0m\u001b[0;34m*\u001b[0m\u001b[0mnorm\u001b[0m\u001b[0;34m/\u001b[0m\u001b[0mi\u001b[0m\u001b[0;34m\u001b[0m\u001b[0;34m\u001b[0m\u001b[0m\n\u001b[0;32m----> 9\u001b[0;31m         \u001b[0mg\u001b[0m \u001b[0;34m=\u001b[0m \u001b[0mgamma_fa\u001b[0m\u001b[0;34m(\u001b[0m\u001b[0mi\u001b[0m\u001b[0;34m*\u001b[0m\u001b[0;34m(\u001b[0m\u001b[0mn\u001b[0m\u001b[0;34m+\u001b[0m\u001b[0;36m2\u001b[0m\u001b[0;34m)\u001b[0m\u001b[0;34m+\u001b[0m\u001b[0mm\u001b[0m\u001b[0;34m+\u001b[0m\u001b[0;36m2\u001b[0m\u001b[0;34m)\u001b[0m\u001b[0;34m\u001b[0m\u001b[0;34m\u001b[0m\u001b[0m\n\u001b[0m\u001b[1;32m     10\u001b[0m         \u001b[0mbeta\u001b[0m \u001b[0;34m=\u001b[0m \u001b[0mbeta\u001b[0m\u001b[0;34m+\u001b[0m\u001b[0mg\u001b[0m\u001b[0;34m*\u001b[0m\u001b[0mr\u001b[0m\u001b[0;34m\u001b[0m\u001b[0;34m\u001b[0m\u001b[0m\n\u001b[1;32m     11\u001b[0m     \u001b[0;32mreturn\u001b[0m \u001b[0mbeta\u001b[0m\u001b[0;34m\u001b[0m\u001b[0;34m\u001b[0m\u001b[0m\n",
      "\u001b[0;31mKeyboardInterrupt\u001b[0m: "
     ]
    }
   ],
   "source": [
    "result=[]\n",
    "norms=np.linspace(1,100,100)\n",
    "ms_table=[]\n",
    "for norm in norms:\n",
    "    a=ms(norm)\n",
    "    ms_table.append(a)\n",
    "    index=[]\n",
    "    for i in range(len(a)):\n",
    "        if a[i]>=0:\n",
    "            first=a[i]\n",
    "            a=np.delete(a,index)\n",
    "            break\n",
    "        else:\n",
    "            index.append(i)\n",
    "    result.append(first==np.min(a))"
   ]
  },
  {
   "cell_type": "code",
   "execution_count": 325,
   "metadata": {},
   "outputs": [
    {
     "name": "stdout",
     "output_type": "stream",
     "text": [
      "53\n",
      "60\n",
      "61\n",
      "69\n",
      "76\n",
      "84\n",
      "92\n",
      "96\n",
      "98\n",
      "99\n"
     ]
    }
   ],
   "source": [
    "for i in range(100):\n",
    "    if result[i]==False:\n",
    "        print(i)"
   ]
  },
  {
   "cell_type": "code",
   "execution_count": 2,
   "metadata": {},
   "outputs": [],
   "source": [
    "import numpy as np\n",
    "command=\"temci short exec \"\n",
    "a=np.array([2,5,8,12])\n",
    "for j in range(4):\n",
    "    for i in range(1,11):\n",
    "        command = command+\" \\\"python sci_\"+str(a[j])+\"_t\"+str(i)+\".py\\\"\"\n",
    "command=command + \" --runs 1\""
   ]
  },
  {
   "cell_type": "code",
   "execution_count": 3,
   "metadata": {},
   "outputs": [
    {
     "data": {
      "text/plain": [
       "'temci short exec  \"python sci_2_t1.py\" \"python sci_2_t2.py\" \"python sci_2_t3.py\" \"python sci_2_t4.py\" \"python sci_2_t5.py\" \"python sci_2_t6.py\" \"python sci_2_t7.py\" \"python sci_2_t8.py\" \"python sci_2_t9.py\" \"python sci_2_t10.py\" \"python sci_5_t1.py\" \"python sci_5_t2.py\" \"python sci_5_t3.py\" \"python sci_5_t4.py\" \"python sci_5_t5.py\" \"python sci_5_t6.py\" \"python sci_5_t7.py\" \"python sci_5_t8.py\" \"python sci_5_t9.py\" \"python sci_5_t10.py\" \"python sci_8_t1.py\" \"python sci_8_t2.py\" \"python sci_8_t3.py\" \"python sci_8_t4.py\" \"python sci_8_t5.py\" \"python sci_8_t6.py\" \"python sci_8_t7.py\" \"python sci_8_t8.py\" \"python sci_8_t9.py\" \"python sci_8_t10.py\" \"python sci_12_t1.py\" \"python sci_12_t2.py\" \"python sci_12_t3.py\" \"python sci_12_t4.py\" \"python sci_12_t5.py\" \"python sci_12_t6.py\" \"python sci_12_t7.py\" \"python sci_12_t8.py\" \"python sci_12_t9.py\" \"python sci_12_t10.py\" --runs 1'"
      ]
     },
     "execution_count": 3,
     "metadata": {},
     "output_type": "execute_result"
    }
   ],
   "source": [
    "command"
   ]
  },
  {
   "cell_type": "code",
   "execution_count": null,
   "metadata": {},
   "outputs": [],
   "source": []
  }
 ],
 "metadata": {
  "kernelspec": {
   "display_name": "Python 3",
   "language": "python",
   "name": "python3"
  },
  "language_info": {
   "codemirror_mode": {
    "name": "ipython",
    "version": 3
   },
   "file_extension": ".py",
   "mimetype": "text/x-python",
   "name": "python",
   "nbconvert_exporter": "python",
   "pygments_lexer": "ipython3",
   "version": "3.8.9"
  }
 },
 "nbformat": 4,
 "nbformat_minor": 5
}
