{
 "cells": [
  {
   "cell_type": "code",
   "execution_count": 41,
   "metadata": {},
   "outputs": [],
   "source": [
    "import numpy as np\n",
    "from expm_mul import expm_multiply\n",
    "from scipy.sparse.linalg import eigs\n",
    "from scipy.special import factorial\n",
    "import matplotlib.pyplot as plt\n",
    "from fractions import Fraction\n",
    "from scipy.sparse import csr_matrix,isspmatrix,bmat\n",
    "import scipy as sci\n",
    "def get_creation_operator(size,tp):\n",
    "    return np.diag(np.sqrt(np.arange(1, size),dtype=tp), k=-1)\n",
    "def get_annihilation_operator(size,tp):\n",
    "    return np.diag(np.sqrt(np.arange(1, size),dtype=tp), k=1)\n",
    "def get_s(A,b,tol):\n",
    "    s=1\n",
    "    if A.dtype==np.complex256:\n",
    "        s=np.ceil(_exact_1_norm(A))\n",
    "    else:\n",
    "        while(1):\n",
    "            tol_power = np.ceil(np.log10(tol))\n",
    "            norm_A = _exact_1_norm(A)/s\n",
    "            norm_b= _exact_1_norm(b)\n",
    "            max_term_notation=np.floor(norm_A)\n",
    "            max_term=1\n",
    "            for i in range(1,np.int(max_term_notation)):\n",
    "                max_term=max_term*norm_A/i\n",
    "                if max_term >= 10**16:\n",
    "                    break\n",
    "            if 10**-16 * max_term <= tol:\n",
    "                break\n",
    "            s=s+1\n",
    "    return s\n",
    "def _exact_1_norm(A):\n",
    "    # A compatibility function which should eventually disappear.\n",
    "    if sci.sparse.isspmatrix(A):\n",
    "        return max(abs(A).sum(axis=0).flat)\n",
    "    else:\n",
    "        return np.linalg.norm(A, 1)\n",
    "def _expm_multiply_simple_core_global(A, B, tol=None):\n",
    "    \"\"\"\n",
    "    A helper function.\n",
    "    \"\"\"\n",
    "    if tol is None:\n",
    "        tol =1e-16\n",
    "    s=get_s(A,B,tol)\n",
    "    F = B\n",
    "\n",
    "    c1 = _exact_1_norm(B)\n",
    "    j=0\n",
    "    while(1):\n",
    "        coeff = s*(j+1)\n",
    "        B =  A.dot(B)/coeff\n",
    "        c2 = _exact_1_norm(B)\n",
    "        F = F + B\n",
    "        total_norm=norm_state(F)\n",
    "        if (c1+c2)/total_norm<tol:\n",
    "            m=j+1\n",
    "            break\n",
    "        c1 = c2\n",
    "        j=j+1\n",
    "    F =  F\n",
    "    B = F\n",
    "    for i in range(1,int(s)):\n",
    "        c1=c2\n",
    "        for j in range(m):\n",
    "            coeff = s*(j+1)\n",
    "            B =  A.dot(B)/coeff\n",
    "            F = F + B\n",
    "        F =  F\n",
    "        B = F\n",
    "    return F\n",
    "def overnorm(A):\n",
    "    if A.dtype==np.complex256:\n",
    "        return _exact_inf_norm(A)\n",
    "    else:\n",
    "        return norm_two(A)\n",
    "def _exact_inf_norm(A):\n",
    "    # A compatibility function which should eventually disappear.\n",
    "    if sci.sparse.isspmatrix(A):\n",
    "        return max(abs(A).sum(axis=1).flat)\n",
    "    else:\n",
    "        return np.linalg.norm(A, np.inf)\n",
    "def norm_two(A):\n",
    "    if sci.sparse.isspmatrix(A):\n",
    "        A=csr_matrix(A).conjugate().transpose()\n",
    "        return np.sqrt(abs(eigs(A=A.dot(A),k=1,which='LM',return_eigenvectors=False)[0]))\n",
    "    else:\n",
    "        return np.linalg.norm(A)\n",
    "def norm_state(A):\n",
    "    return np.linalg.norm(A)\n",
    "def block_fre(A,E):\n",
    "    if isspmatrix(A) is False:\n",
    "        A = np.block([[A, E], [np.zeros_like(A), A]])\n",
    "    else:\n",
    "        A = bmat([[A, E], [None, A]]).tocsc()\n",
    "    return A\n",
    "def difference(A,B):\n",
    "    return overnorm(A-B)/overnorm(A)\n",
    "def get_H(dim,tp):\n",
    "    HILBERT_SIZE=dim\n",
    "    Q_dim=6\n",
    "    g=0.1*2*np.pi\n",
    "    anharmonicity =-0.225\n",
    "    a_dag = get_creation_operator(HILBERT_SIZE,tp)\n",
    "    a = get_annihilation_operator(HILBERT_SIZE,tp)\n",
    "    b_dag=get_creation_operator(Q_dim,tp)\n",
    "    b=get_annihilation_operator(Q_dim,tp)\n",
    "    A=np.kron(a,np.identity(Q_dim))\n",
    "    A_dag=np.kron(a_dag,np.identity(Q_dim))\n",
    "    B=np.kron(np.identity(HILBERT_SIZE),b)\n",
    "    B_dag=np.kron(np.identity(HILBERT_SIZE),b_dag)\n",
    "    H_trans = 1 / 2 * anharmonicity * np.dot(np.dot(b_dag, b),np.dot(b_dag,b)-np.identity(Q_dim))\n",
    "    H0=g*(np.kron(a_dag,b)+np.kron(a,b_dag))+np.kron(np.identity(HILBERT_SIZE),H_trans)\n",
    "    H=csr_matrix(-1j*(H0+0.5*2*np.pi*(np.dot(B_dag,B)+B+B_dag+1j*(B-B_dag))))\n",
    "    vec=1/np.sqrt(HILBERT_SIZE*Q_dim)*np.ones(HILBERT_SIZE*Q_dim)\n",
    "    return H,vec\n",
    "def get_auxiliary(dim,tp):\n",
    "    HILBERT_SIZE=dim\n",
    "    Q_dim=6\n",
    "    g=0.1*2*np.pi\n",
    "    anharmonicity =-0.225\n",
    "    a_dag = get_creation_operator(HILBERT_SIZE,tp)\n",
    "    a = get_annihilation_operator(HILBERT_SIZE,tp)\n",
    "    b_dag=get_creation_operator(Q_dim,tp)\n",
    "    b=get_annihilation_operator(Q_dim,tp)\n",
    "    A=np.kron(a,np.identity(Q_dim))\n",
    "    A_dag=np.kron(a_dag,np.identity(Q_dim))\n",
    "    B=np.kron(np.identity(HILBERT_SIZE),b)\n",
    "    B_dag=np.kron(np.identity(HILBERT_SIZE),b_dag)\n",
    "    H_trans = 1 / 2 * anharmonicity * np.dot(np.dot(b_dag, b),np.dot(b_dag,b)-np.identity(Q_dim))\n",
    "    H0=g*(np.kron(a_dag,b)+np.kron(a,b_dag))+np.kron(np.identity(HILBERT_SIZE),H_trans)\n",
    "    H=csr_matrix(-1j*(H0+0.5*2*np.pi*(np.dot(B_dag,B)+B+B_dag+1j*(B-B_dag))))\n",
    "    vec=1/np.sqrt(2*HILBERT_SIZE*Q_dim)*np.ones(2*HILBERT_SIZE*Q_dim)\n",
    "    A=block_fre(H,-1j*0.5*2*np.pi*(B+B_dag))\n",
    "    return A,vec\n",
    "def get_norm(dim):\n",
    "    tp=np.float64()\n",
    "    anorm=[]\n",
    "    for i in range(len(dim)):\n",
    "        HILBERT_SIZE=int(dim[i])\n",
    "        Q_dim=6\n",
    "        g=0.1*2*np.pi\n",
    "        anharmonicity =-0.225\n",
    "        a_dag = get_creation_operator(HILBERT_SIZE,tp)\n",
    "        a = get_annihilation_operator(HILBERT_SIZE,tp)\n",
    "        b_dag=get_creation_operator(Q_dim,tp)\n",
    "        b=get_annihilation_operator(Q_dim,tp)\n",
    "        A=np.kron(a,np.identity(Q_dim))\n",
    "        A_dag=np.kron(a_dag,np.identity(Q_dim))\n",
    "        B=np.kron(np.identity(HILBERT_SIZE),b)\n",
    "        B_dag=np.kron(np.identity(HILBERT_SIZE),b_dag)\n",
    "        H_trans = 1 / 2 * anharmonicity * np.dot(np.dot(b_dag, b),np.dot(b_dag,b)-np.identity(Q_dim))\n",
    "        H0=g*(np.kron(a_dag,b)+np.kron(a,b_dag))+np.kron(np.identity(HILBERT_SIZE),H_trans)\n",
    "        H=csr_matrix(-1j*(H0+0.5*2*np.pi*(np.dot(B_dag,B)+B+B_dag+1j*(B-B_dag))))\n",
    "        anorm.append(norm_two(H))\n",
    "    return anorm\n",
    "def get_norm_der(dim):\n",
    "    tp=np.float64()\n",
    "    anorm=[]\n",
    "    for i in range(len(dim)):\n",
    "        HILBERT_SIZE=int(dim[i])\n",
    "        Q_dim=6\n",
    "        g=0.1*2*np.pi\n",
    "        anharmonicity =-0.225\n",
    "        a_dag = get_creation_operator(HILBERT_SIZE,tp)\n",
    "        a = get_annihilation_operator(HILBERT_SIZE,tp)\n",
    "        b_dag=get_creation_operator(Q_dim,tp)\n",
    "        b=get_annihilation_operator(Q_dim,tp)\n",
    "        A=np.kron(a,np.identity(Q_dim))\n",
    "        A_dag=np.kron(a_dag,np.identity(Q_dim))\n",
    "        B=np.kron(np.identity(HILBERT_SIZE),b)\n",
    "        B_dag=np.kron(np.identity(HILBERT_SIZE),b_dag)\n",
    "        H_trans = 1 / 2 * anharmonicity * np.dot(np.dot(b_dag, b),np.dot(b_dag,b)-np.identity(Q_dim))\n",
    "        H0=g*(np.kron(a_dag,b)+np.kron(a,b_dag))+np.kron(np.identity(HILBERT_SIZE),H_trans)\n",
    "        H=csr_matrix(-1j*(H0+0.5*2*np.pi*(np.dot(B_dag,B)+B+B_dag+1j*(B-B_dag))))\n",
    "        A=block_fre(H,-1j*(A+A_dag))\n",
    "        anorm.append(norm_two(A))\n",
    "    return anorm"
   ]
  },
  {
   "cell_type": "code",
   "execution_count": 68,
   "metadata": {},
   "outputs": [],
   "source": [
    "theta_m=np.array([[8.70950435e-01, 2.48853043e+00, 4.02062662e+00, 5.51075280e+00,\n",
    "        6.97775212e+00, 8.43027209e+00, 9.87290220e+00, 1.13089234e+01,\n",
    "        1.27393366e+01, 1.41653119e+01, 1.55887688e+01],\n",
    "       [1.79283319e-01, 1.30547755e+00, 2.68990434e+00, 4.11674468e+00,\n",
    "        5.55078449e+00, 6.98409736e+00, 8.41474411e+00, 9.84240944e+00,\n",
    "        1.12672525e+01, 1.26895571e+01, 1.41096178e+01],\n",
    "       [0.13,1, 2.2, 3.6,\n",
    "        4.9, 6.3, 7.7, 9.1,\n",
    "        11, 12, 1.3],\n",
    "       [5.87845778e-03, 3.11153531e-01, 1.11496247e+00, 2.19235380e+00,\n",
    "        3.40348589e+00, 4.68492721e+00, 6.00642014e+00, 7.35228229e+00,\n",
    "        8.71376145e+00, 1.00856663e+01, 1.14647607e+01],\n",
    "        [0.003307471010225917,0.24259255239783006,0.9560279579613657,1.9645322216064995,3.1267463661459876,4.372820117778894,5.667919829026178,6.993478543263042,8.338922480962493,9.697877908033124,11.066316441049558 ],\n",
    "       [2.3e-03, 0.14, 0.64, 1.4,\n",
    "        2.4, 3.5, 4.7, 6,\n",
    "        7.2, 8.5, 9.9]])\n",
    "theta_mm=[]\n",
    "for j,_theta in enumerate(theta_m):\n",
    "    a={5:0,10:0,15:0,20:0,25:0,30:0,35:0,40:0,45:0,50:0,55:0}\n",
    "    for i, theta in enumerate(_theta):\n",
    "        a[5*(i+1)] = theta\n",
    "    theta_mm.append(a)"
   ]
  },
  {
   "cell_type": "code",
   "execution_count": 69,
   "metadata": {},
   "outputs": [],
   "source": [
    "tols=np.array([1e-2,1e-5,2**-24,1e-12,2**-53])\n",
    "dim=20\n",
    "ts = np.linspace(10,100,9)\n",
    "new_error1=np.zeros((len(tols),len(ts)))\n",
    "m_s=np.zeros((len(tols),len(ts)))\n",
    "for i, t in enumerate(ts):\n",
    "    H,vec=get_H(dim,np.float64)\n",
    "    H_st,vec=get_H(dim,np.float128)\n",
    "    \n",
    "    sas_st=_expm_multiply_simple_core_global(t*H_st, vec, tol=1e-19)\n",
    "    for j, tol in enumerate(tols):\n",
    "        sas=expm_multiply(t*H, vec, theta_mm[j],tol)\n",
    "        new_error1[j][i]=(norm_two(sas-sas_st)/norm_two(sas_st))"
   ]
  },
  {
   "cell_type": "code",
   "execution_count": 75,
   "metadata": {},
   "outputs": [
    {
     "data": {
      "text/plain": [
       "array([[7.62382616e-03, 8.44311640e-03, 1.28491107e-02, 2.08992043e-02,\n",
       "        2.53644861e-02, 3.70614038e-02, 4.19532347e-02, 5.47203496e-02,\n",
       "        5.67328321e-02],\n",
       "       [2.89669074e-06, 9.53863187e-06, 1.71558993e-05, 2.10492292e-05,\n",
       "        2.19107238e-05, 2.40321914e-05, 2.50883438e-05, 2.13907153e-05,\n",
       "        2.42856065e-05],\n",
       "       [1.86308690e-08, 5.38493474e-08, 7.26574275e-08, 1.16786329e-07,\n",
       "        1.76719058e-07, 1.80670413e-07, 2.49855411e-07, 2.71444214e-07,\n",
       "        2.99143819e-07],\n",
       "       [7.12004907e-13, 3.64768267e-12, 2.45156511e-12, 1.10973298e-12,\n",
       "        2.62437173e-11, 2.02637189e-11, 3.76532533e-11, 1.93466176e-11,\n",
       "        1.73477065e-11],\n",
       "       [1.31547763e-12, 3.61528847e-12, 5.98865396e-12, 5.52498992e-12,\n",
       "        1.05331386e-11, 1.16592060e-11, 1.15350092e-11, 7.10832861e-12,\n",
       "        2.43277465e-11]])"
      ]
     },
     "execution_count": 75,
     "metadata": {},
     "output_type": "execute_result"
    }
   ],
   "source": [
    "new_error1"
   ]
  },
  {
   "cell_type": "code",
   "execution_count": 76,
   "metadata": {},
   "outputs": [
    {
     "data": {
      "text/plain": [
       "<matplotlib.legend.Legend at 0x7fdf439783d0>"
      ]
     },
     "execution_count": 76,
     "metadata": {},
     "output_type": "execute_result"
    },
    {
     "data": {
      "image/png": "[encoded data removed]",
      "text/plain": [
       "<Figure size 432x288 with 1 Axes>"
      ]
     },
     "metadata": {
      "needs_background": "light"
     },
     "output_type": "display_data"
    }
   ],
   "source": [
    "color = ['b','g','r','c','m']\n",
    "import matplotlib.pyplot as plt\n",
    "for i in range(len(new_error1)):\n",
    "    plt.plot(new_error[i],color = color[i])\n",
    "    plt.plot(new_error1[i],color = color[i])\n",
    "    plt.plot(tols[i]*np.ones(len(new_error1[i])),'--',color=color[i], label= str(tols[i]))\n",
    "plt.yscale('log')\n",
    "plt.legend()"
   ]
  },
  {
   "cell_type": "code",
   "execution_count": 71,
   "metadata": {},
   "outputs": [],
   "source": [
    "tols=np.array([1e-2,1e-5,2**-24,1e-12,1e-16])\n",
    "dim=20\n",
    "ts = np.linspace(10,100,9)\n",
    "new_error=np.zeros((len(tols),len(ts)))\n",
    "m_s=np.zeros((len(tols),len(ts)))\n",
    "for i, t in enumerate(ts):\n",
    "    H,vec=get_H(dim,np.float64)\n",
    "    H_st,vec=get_H(dim,np.float128)\n",
    "    sas_st=_expm_multiply_simple_core_global(t*H_st, vec, tol=1e-19)\n",
    "    for j, tol in enumerate(tols):\n",
    "        sas=_expm_multiply_simple_core_global(t*H, vec, tol=tol)\n",
    "        new_error[j][i]=(norm_two(sas-sas_st)/norm_two(sas_st))"
   ]
  },
  {
   "cell_type": "code",
   "execution_count": 72,
   "metadata": {},
   "outputs": [
    {
     "data": {
      "text/plain": [
       "<matplotlib.legend.Legend at 0x7fdf43dff460>"
      ]
     },
     "execution_count": 72,
     "metadata": {},
     "output_type": "execute_result"
    },
    {
     "data": {
      "image/png": "[encoded data removed]",
      "text/plain": [
       "<Figure size 432x288 with 1 Axes>"
      ]
     },
     "metadata": {
      "needs_background": "light"
     },
     "output_type": "display_data"
    }
   ],
   "source": [
    "color = ['b','g','r','c','m']\n",
    "import matplotlib.pyplot as plt\n",
    "for i in range(len(new_error1)):\n",
    "    plt.plot(new_error[i],color = color[i])\n",
    "    plt.plot(tols[i]*np.ones(len(new_error[i])),'--',color=color[i], label= str(tols[i]))\n",
    "plt.yscale('log')\n",
    "plt.legend()"
   ]
  },
  {
   "cell_type": "code",
   "execution_count": 152,
   "metadata": {},
   "outputs": [],
   "source": [
    "tols=np.array([1e-2,1e-5,2**-24,1e-11,1e-16])\n",
    "dim=20\n",
    "ts = np.linspace(10,100,9)\n",
    "new_error1=np.zeros((len(tols),len(ts)))\n",
    "m_s=np.zeros((len(tols),len(dims)))\n",
    "for i, t in enumerate(ts):\n",
    "    H,vec=get_auxiliary(dim,np.float64)\n",
    "    H_st,vec=get_auxiliary(dim,np.float128)\n",
    "    \n",
    "    sas_st=_expm_multiply_simple_core_global(t*H_st, vec, tol=1e-19)\n",
    "    for j, tol in enumerate(tols):\n",
    "        sas=expm_multiply(t*H, vec, theta_mm[j],tol)\n",
    "        new_error1[j][i]=(norm_two(sas-sas_st)/norm_two(sas_st))"
   ]
  },
  {
   "cell_type": "code",
   "execution_count": 153,
   "metadata": {},
   "outputs": [],
   "source": [
    "tols=np.array([1e-2,1e-5,2**-24,1e-11,1e-16])\n",
    "dim=20\n",
    "ts = np.linspace(10,100,9)\n",
    "new_error=np.zeros((len(tols),len(ts)))\n",
    "m_s=np.zeros((len(tols),len(dims)))\n",
    "for i, t in enumerate(ts):\n",
    "    H,vec=get_auxiliary(dim,np.float64)\n",
    "    H_st,vec=get_auxiliary(dim,np.float128)\n",
    "    sas_st=_expm_multiply_simple_core_global(t*H_st, vec, tol=1e-19)\n",
    "    for j, tol in enumerate(tols):\n",
    "        sas=_expm_multiply_simple_core_global(t*H, vec, tol=tol)\n",
    "        new_error[j][i]=(norm_two(sas-sas_st)/norm_two(sas_st))"
   ]
  },
  {
   "cell_type": "code",
   "execution_count": 155,
   "metadata": {},
   "outputs": [
    {
     "data": {
      "text/plain": [
       "array([[4.41577406e-04, 9.36926176e-04, 1.60949823e-03, 1.59330467e-03,\n",
       "        4.91263038e-03, 3.20792738e-03, 3.15119821e-03, 3.17373193e-03,\n",
       "        4.81754516e-03],\n",
       "       [3.39428573e-07, 1.39094959e-06, 7.74089859e-07, 1.15194481e-06,\n",
       "        1.52326948e-06, 1.91805631e-06, 2.30182983e-06, 2.68894464e-06,\n",
       "        2.29779533e-06],\n",
       "       [1.55769387e-09, 2.54232498e-09, 5.58885192e-09, 8.78060965e-09,\n",
       "        1.24914200e-08, 1.54915821e-08, 1.92235462e-08, 1.83356948e-08,\n",
       "        2.09347487e-08],\n",
       "       [1.44900503e-12, 3.01324274e-12, 1.07366863e-12, 2.99891187e-12,\n",
       "        2.45373832e-12, 5.03314432e-12, 5.78736914e-12, 1.15941046e-11,\n",
       "        6.67423520e-12],\n",
       "       [4.78776224e-15, 3.53911208e-14, 1.67161354e-13, 2.02957971e-14,\n",
       "        1.16348114e-13, 5.70175247e-14, 2.25005877e-13, 3.09856221e-13,\n",
       "        5.12897393e-14]])"
      ]
     },
     "execution_count": 155,
     "metadata": {},
     "output_type": "execute_result"
    }
   ],
   "source": [
    "new_error"
   ]
  },
  {
   "cell_type": "code",
   "execution_count": 15,
   "metadata": {},
   "outputs": [],
   "source": [
    "from qutip import qload\n",
    "import numpy as np\n",
    "from scipy.sparse.linalg import eigs\n",
    "from scipy.special import factorial\n",
    "import matplotlib.pyplot as plt\n",
    "from scipy.sparse import dia_matrix,identity\n",
    "from fractions import Fraction\n",
    "from scipy.sparse import csr_matrix,isspmatrix,bmat,kron\n",
    "import scipy as sci\n",
    "from scipy.sparse import csr_matrix,isspmatrix,bmat\n",
    "def get_creation_operator(size,tp):\n",
    "    return np.diag(np.sqrt(np.arange(1, size),dtype=tp), k=-1)\n",
    "def get_annihilation_operator(size,tp):\n",
    "    return np.diag(np.sqrt(np.arange(1, size),dtype=tp), k=1)\n",
    "def get_norm(dim):\n",
    "    tp=np.float64\n",
    "    anorm=[]\n",
    "    for i in range(len(dim)):\n",
    "        N=dim[i]\n",
    "        control=get_control(N,tp)\n",
    "        control_pra=0.5*2*np.pi*np.ones(np.array(control).shape[0])\n",
    "        H_control=control_H(control_pra,control)\n",
    "        H=H_control+get_int(N,tp)\n",
    "        anorm.append(overnorm(H))\n",
    "    return anorm\n",
    "def get_norm_der(dim):\n",
    "    tp=np.float64\n",
    "    anorm=[]\n",
    "    for i in range(len(dim)):\n",
    "        N=dim[i]\n",
    "        control=get_control(N,tp)\n",
    "        control_pra=0.5*2*np.pi*np.ones(np.array(control).shape[0])\n",
    "        H_control=control_H(control_pra,control)\n",
    "        H=H_control+get_int(N,tp)\n",
    "        vec=1/np.sqrt(2*2**N)*np.identity(2*2**N)\n",
    "        A=block_fre(H,-1j*(control[0]))\n",
    "        anorm.append(overnorm(A))\n",
    "    return anorm\n",
    "def get_auxiliary(N,tp):\n",
    "    control=get_control(N,tp)\n",
    "    control_pra=0.5*2*np.pi*np.ones(np.array(control).shape[0])\n",
    "    H_control=control_H(control_pra,control)\n",
    "    H=H_control+get_int(N,tp)\n",
    "    vec=1/np.sqrt(2*2**N)*np.ones(2*2**N)\n",
    "    A=block_fre(H,-1j*(control[3]))\n",
    "    return A,vec\n",
    "def get_int(N,tp):\n",
    "    sigmap=get_creation_operator(2,tp)\n",
    "    sigmam = get_annihilation_operator(2,tp)\n",
    "    sigmaz=sigmap.dot(sigmam)\n",
    "    H0=0\n",
    "    SIGMAZ=kron(sigmaz,sigmaz)\n",
    "    H0=H0+kron(SIGMAZ,identity(2**(N-2)))+kron(identity(2**(N-2)),SIGMAZ)\n",
    "    for i in range(1,N-2):\n",
    "        H0=H0+kron(kron(identity(2**i),SIGMAZ),identity(2 ** (N - 2 - i)))\n",
    "    return H0\n",
    "def get_control(N,tp):\n",
    "    sigmap=get_creation_operator(2,tp)\n",
    "    sigmam = get_annihilation_operator(2,tp)\n",
    "    sigmap=sigmap\n",
    "    sigmam=sigmam\n",
    "    sigmax=sigmap+sigmam\n",
    "    sigmay=-1j*sigmap+1j*sigmam\n",
    "    control=[]\n",
    "    if N==1:\n",
    "        control.append(kron(sigmax, identity(2 ** (N - 1))))\n",
    "        control.append(kron(sigmay, identity(2 ** (N - 1))))\n",
    "        return control\n",
    "    else:\n",
    "        a=identity(2**(N-1))\n",
    "        control.append(kron(sigmax,a,format=\"csc\"))\n",
    "        control.append(kron(sigmay, identity(2 ** (N - 1)),format=\"csc\"))\n",
    "        for i in range(1,N-1):\n",
    "            control.append(kron(kron(identity(2**i),sigmax), identity(2 ** (N - 1-i)),format=\"csc\"))\n",
    "            control.append(kron(kron(identity(2 ** i), sigmay), identity(2 ** (N - 1 - i)),format=\"csc\"))\n",
    "        control.append(kron(identity(2**(N-1)),sigmax,format=\"csc\"))\n",
    "        control.append(kron(identity(2**(N-1)),sigmay,format=\"csc\"))\n",
    "    return control\n",
    "def control_H(control,H_control):\n",
    "    H=0\n",
    "    for i in range(len(control)):\n",
    "        H=H+control[i]*H_control[i]\n",
    "    return H\n",
    "def get_H(N,tp):\n",
    "    control=get_control(N,tp)\n",
    "    control_pra=0.5*2*np.pi*np.ones(np.array(control).shape[0])\n",
    "    H_control=control_H(control_pra,control)\n",
    "    H=-1j*(H_control+get_int(N,tp)*0.1*2*np.pi)\n",
    "    vec=1/np.sqrt(2**N)*np.ones(2**N)\n",
    "    return H,vec\n"
   ]
  },
  {
   "cell_type": "code",
   "execution_count": 16,
   "metadata": {},
   "outputs": [],
   "source": [
    "dim=8\n",
    "tols=np.array([1e-2,1e-5,2**-24,1e-11,2**-53])\n",
    "ts = np.linspace(10,100,9)\n",
    "new_error1=np.zeros((len(tols),len(ts)))\n",
    "for i,t in enumerate(ts):\n",
    "    dim=np.int(dim)\n",
    "    H,vec=get_H(dim,np.float64)\n",
    "    H_st,vec=get_H(dim,np.float128)\n",
    "    \n",
    "    sas_st=_expm_multiply_simple_core_global(t*H_st, vec, tol=1e-19)\n",
    "    for j, tol in enumerate(tols):\n",
    "        sas=expm_multiply(t*H, vec, theta_mm[j],tol)\n",
    "        new_error1[j][i]=(norm_two(sas-sas_st)/norm_two(sas_st))"
   ]
  },
  {
   "cell_type": "code",
   "execution_count": 10,
   "metadata": {},
   "outputs": [],
   "source": [
    "dim=8\n",
    "tols=np.array([1e-2,1e-5,2**-24,1e-11,2**-53])\n",
    "ts = np.linspace(10,100,9)\n",
    "new_error=np.zeros((len(tols),len(ts)))\n",
    "for i,t in enumerate(ts):\n",
    "    dim=np.int(dim)\n",
    "    H,vec=get_H(dim,np.float64)\n",
    "    H_st,vec=get_H(dim,np.float128)\n",
    "    \n",
    "    sas_st=_expm_multiply_simple_core_global(t*H_st, vec, tol=1e-19)\n",
    "    for j, tol in enumerate(tols):\n",
    "        sas=_expm_multiply_simple_core_global(t*H, vec, tol=tol)\n",
    "        new_error[j][i]=(norm_two(sas-sas_st)/norm_two(sas_st))"
   ]
  },
  {
   "cell_type": "code",
   "execution_count": 17,
   "metadata": {},
   "outputs": [
    {
     "data": {
      "text/plain": [
       "array([[1.69250733e-03, 5.11787048e-03, 1.14806992e-02, 2.56077627e-02,\n",
       "        2.79506470e-02, 3.88690602e-02, 1.26466584e-02, 4.60405602e-02,\n",
       "        7.33143687e-02],\n",
       "       [3.47181218e-06, 7.72778389e-06, 2.13546961e-05, 3.05299721e-05,\n",
       "        5.58563798e-05, 4.84885414e-05, 3.47840504e-05, 7.19753959e-05,\n",
       "        4.36513686e-05],\n",
       "       [7.55214949e-08, 7.99981415e-08, 1.87575997e-07, 3.24958287e-07,\n",
       "        4.19443990e-07, 6.72810062e-07, 8.64368270e-07, 5.24120445e-07,\n",
       "        7.10498852e-07],\n",
       "       [3.18154225e-11, 5.24248895e-11, 6.83303893e-11, 2.04464242e-10,\n",
       "        1.87559357e-10, 3.04830519e-10, 3.06296609e-10, 2.38881617e-10,\n",
       "        4.08521918e-10],\n",
       "       [6.01139547e-15, 4.81653057e-14, 4.99239498e-14, 1.06563300e-13,\n",
       "        1.35556048e-13, 4.18534759e-14, 8.78198260e-14, 1.81982253e-13,\n",
       "        7.59729285e-14]])"
      ]
     },
     "execution_count": 17,
     "metadata": {},
     "output_type": "execute_result"
    }
   ],
   "source": [
    "new_error"
   ]
  },
  {
   "cell_type": "code",
   "execution_count": 18,
   "metadata": {},
   "outputs": [
    {
     "data": {
      "text/plain": [
       "array([[3.45026066e-02, 8.81138455e-02, 8.98140410e-02, 1.11534609e-01,\n",
       "        2.26585560e-01, 1.82957146e-01, 2.03674141e-01, 2.66595102e-01,\n",
       "        2.83969636e-01],\n",
       "       [2.76987633e-05, 5.14527458e-05, 9.50208747e-05, 1.14894888e-04,\n",
       "        1.57063296e-04, 1.80114699e-04, 2.18022966e-04, 2.53975839e-04,\n",
       "        2.82771327e-04],\n",
       "       [1.91165619e-07, 2.41578070e-07, 3.41782919e-07, 4.61838351e-07,\n",
       "        5.82622992e-07, 8.55064316e-07, 9.80760492e-07, 1.10675031e-06,\n",
       "        1.23118788e-06],\n",
       "       [1.34755889e-11, 6.64820037e-11, 4.42202112e-11, 1.37299061e-10,\n",
       "        7.54421161e-11, 1.79413625e-10, 1.62814563e-10, 2.33336278e-10,\n",
       "        2.23095448e-10],\n",
       "       [3.94374425e-12, 6.32952580e-12, 1.82228138e-11, 1.67994591e-11,\n",
       "        4.20307798e-11, 3.18333727e-11, 3.37910430e-11, 4.96194149e-11,\n",
       "        5.11633727e-11]])"
      ]
     },
     "execution_count": 18,
     "metadata": {},
     "output_type": "execute_result"
    }
   ],
   "source": [
    "new_error1"
   ]
  },
  {
   "cell_type": "code",
   "execution_count": 30,
   "metadata": {},
   "outputs": [],
   "source": [
    "dim=8\n",
    "tols=np.array([1e-2,1e-5,2**-24,1e-11,2**-53])\n",
    "ts = np.linspace(10,100,9)\n",
    "new_error1=np.zeros((len(tols),len(ts)))\n",
    "for i,t in enumerate(ts):\n",
    "    dim=np.int(dim)\n",
    "    H,vec=get_auxiliary(dim,np.float64)\n",
    "    H_st,vec=get_auxiliary(dim,np.float128)\n",
    "    \n",
    "    sas_st=_expm_multiply_simple_core_global(t*H_st, vec, tol=1e-19)\n",
    "    for j, tol in enumerate(tols):\n",
    "        sas=expm_multiply(t*H, vec, theta_mm[j],tol)\n",
    "        new_error1[j][i]=(norm_two(sas-sas_st)/norm_two(sas_st))\n",
    "dim=8\n",
    "tols=np.array([1e-2,1e-5,2**-24,1e-11,2**-53])\n",
    "ts = np.linspace(10,100,9)\n",
    "new_error=np.zeros((len(tols),len(ts)))\n",
    "for i,t in enumerate(ts):\n",
    "    dim=np.int(dim)\n",
    "    H,vec=get_auxiliary(dim,np.float64)\n",
    "    H_st,vec=get_auxiliary(dim,np.float128)\n",
    "    \n",
    "    sas_st=_expm_multiply_simple_core_global(t*H_st, vec, tol=1e-19)\n",
    "    for j, tol in enumerate(tols):\n",
    "        sas=_expm_multiply_simple_core_global(t*H, vec, tol=tol)\n",
    "        new_error[j][i]=(norm_two(sas-sas_st)/norm_two(sas_st))"
   ]
  },
  {
   "cell_type": "code",
   "execution_count": 39,
   "metadata": {},
   "outputs": [
    {
     "data": {
      "text/plain": [
       "array([[3.91651611e-04, 1.44036962e-03, 1.24517918e-03, 2.17872961e-03,\n",
       "        3.20015207e-03, 4.27147605e-03, 3.11842796e-03, 4.04578312e-03,\n",
       "        5.01470464e-03],\n",
       "       [3.88952216e-07, 9.87138063e-07, 7.97921841e-07, 1.44425304e-06,\n",
       "        2.16948046e-06, 2.94044284e-06, 3.74299227e-06, 3.21270218e-06,\n",
       "        3.95306851e-06],\n",
       "       [2.46626701e-09, 2.41508205e-09, 3.43100803e-09, 1.73630550e-08,\n",
       "        2.11819813e-08, 2.51592689e-08, 1.01457922e-08, 1.11175794e-08,\n",
       "        1.13817299e-08],\n",
       "       [5.95723808e-13, 1.33191652e-12, 2.93210940e-12, 5.49327066e-12,\n",
       "        1.97152682e-12, 3.88016402e-12, 5.90779323e-12, 5.20928429e-12,\n",
       "        1.49426199e-11],\n",
       "       [9.66295776e-15, 4.30875916e-14, 1.27989152e-13, 5.25129165e-14,\n",
       "        1.62640531e-13, 2.76431759e-13, 3.15611521e-14, 3.12835319e-13,\n",
       "        3.11879510e-13]])"
      ]
     },
     "execution_count": 39,
     "metadata": {},
     "output_type": "execute_result"
    }
   ],
   "source": [
    "new_error"
   ]
  },
  {
   "cell_type": "code",
   "execution_count": 40,
   "metadata": {},
   "outputs": [
    {
     "data": {
      "text/plain": [
       "array([[6.45219550e-03, 1.98871067e-02, 1.55924744e-02, 2.73661450e-02,\n",
       "        3.93895977e-02, 5.21778337e-02, 6.51639270e-02, 6.20071149e-02,\n",
       "        7.51959913e-02],\n",
       "       [3.04602929e-06, 1.47588097e-05, 1.16714278e-05, 1.71528806e-05,\n",
       "        2.50489791e-05, 2.36114661e-05, 3.16853475e-05, 3.96642409e-05,\n",
       "        3.85713887e-05],\n",
       "       [3.36702507e-08, 8.99651291e-08, 1.40928688e-07, 1.51770688e-07,\n",
       "        2.05875831e-07, 2.62295043e-07, 3.19550617e-07, 3.77458428e-07,\n",
       "        4.31775050e-07],\n",
       "       [3.71643249e-12, 3.93198627e-12, 1.22359277e-11, 1.42521343e-11,\n",
       "        1.50173425e-11, 2.19774325e-11, 3.06879756e-11, 1.73123934e-11,\n",
       "        2.03582725e-11],\n",
       "       [2.17772405e-13, 7.48710216e-13, 2.50705216e-12, 4.95058438e-12,\n",
       "        4.41642983e-12, 1.81048961e-12, 3.61366731e-12, 1.81839539e-12,\n",
       "        7.61413126e-12]])"
      ]
     },
     "execution_count": 40,
     "metadata": {},
     "output_type": "execute_result"
    }
   ],
   "source": [
    "new_error1"
   ]
  },
  {
   "cell_type": "code",
   "execution_count": null,
   "metadata": {},
   "outputs": [],
   "source": []
  }
 ],
 "metadata": {
  "kernelspec": {
   "display_name": "Python 3",
   "language": "python",
   "name": "python3"
  },
  "language_info": {
   "codemirror_mode": {
    "name": "ipython",
    "version": 3
   },
   "file_extension": ".py",
   "mimetype": "text/x-python",
   "name": "python",
   "nbconvert_exporter": "python",
   "pygments_lexer": "ipython3",
   "version": "3.8.2"
  }
 },
 "nbformat": 4,
 "nbformat_minor": 5
}
